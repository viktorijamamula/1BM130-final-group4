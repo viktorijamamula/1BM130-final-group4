{
 "cells": [
  {
   "cell_type": "code",
   "execution_count": 1,
   "id": "4c18ae3d",
   "metadata": {},
   "outputs": [
    {
     "name": "stdout",
     "output_type": "stream",
     "text": [
      "Requirement already satisfied: scikit-optimize in c:\\users\\20191628\\anaconda3\\envs\\mlcourse\\lib\\site-packages (0.8.1)\n",
      "Requirement already satisfied: joblib>=0.11 in c:\\users\\20191628\\anaconda3\\envs\\mlcourse\\lib\\site-packages (from scikit-optimize) (1.0.0)\n",
      "Requirement already satisfied: numpy>=1.13.3 in c:\\users\\20191628\\anaconda3\\envs\\mlcourse\\lib\\site-packages (from scikit-optimize) (1.20.2)\n",
      "Requirement already satisfied: pyaml>=16.9 in c:\\users\\20191628\\anaconda3\\envs\\mlcourse\\lib\\site-packages (from scikit-optimize) (20.4.0)\n",
      "Requirement already satisfied: scipy>=0.19.1 in c:\\users\\20191628\\anaconda3\\envs\\mlcourse\\lib\\site-packages (from scikit-optimize) (1.6.2)\n",
      "Requirement already satisfied: scikit-learn>=0.20.0 in c:\\users\\20191628\\anaconda3\\envs\\mlcourse\\lib\\site-packages (from scikit-optimize) (0.24.1)\n",
      "Requirement already satisfied: PyYAML in c:\\users\\20191628\\anaconda3\\envs\\mlcourse\\lib\\site-packages (from pyaml>=16.9->scikit-optimize) (5.3.1)\n",
      "Requirement already satisfied: threadpoolctl>=2.0.0 in c:\\users\\20191628\\anaconda3\\envs\\mlcourse\\lib\\site-packages (from scikit-learn>=0.20.0->scikit-optimize) (2.1.0)\n"
     ]
    },
    {
     "name": "stderr",
     "output_type": "stream",
     "text": [
      "WARNING: Error parsing requirements for google-pasta: [Errno 2] No such file or directory: 'c:\\\\users\\\\20191628\\\\anaconda3\\\\envs\\\\mlcourse\\\\lib\\\\site-packages\\\\google_pasta-0.2.0.dist-info\\\\METADATA'\n"
     ]
    }
   ],
   "source": [
    "!pip install scikit-optimize\n",
    "import matplotlib.pyplot as plt\n",
    "import pandas as pd\n",
    "import numpy as np\n",
    "from sklearn import datasets, ensemble\n",
    "from sklearn.inspection import permutation_importance\n",
    "from sklearn.metrics import mean_squared_error\n",
    "from sklearn.model_selection import train_test_split\n",
    "from sklearn.ensemble import GradientBoostingRegressor\n",
    "from sklearn.ensemble import GradientBoostingClassifier\n",
    "from sklearn.pipeline import make_pipeline, Pipeline\n",
    "from sklearn.impute import SimpleImputer\n",
    "from sklearn.preprocessing import MinMaxScaler\n",
    "from sklearn.compose import make_column_transformer\n",
    "from sklearn.model_selection import GridSearchCV\n",
    "from sklearn.metrics import r2_score\n",
    "from sklearn.metrics import mean_absolute_percentage_error\n",
    "from sklearn.metrics import explained_variance_score\n",
    "from sklearn.metrics import mean_absolute_error\n",
    "from skopt.space import Real, Integer\n",
    "from skopt.utils import use_named_args\n",
    "from sklearn.model_selection import cross_val_score\n",
    "from sklearn.metrics import confusion_matrix\n",
    "from sklearn.metrics import roc_auc_score\n",
    "from skopt import gp_minimize\n",
    "from sklearn.metrics import accuracy_score\n",
    "from sklearn.metrics import precision_score\n",
    "from sklearn.metrics import recall_score\n",
    "from sklearn.metrics import f1_score\n",
    "from sklearn.metrics import roc_auc_score\n",
    "from sklearn.metrics import roc_curve, auc,plot_confusion_matrix"
   ]
  },
  {
   "cell_type": "markdown",
   "id": "54f65056",
   "metadata": {},
   "source": [
    "## Importing & preprocessing"
   ]
  },
  {
   "cell_type": "code",
   "execution_count": 2,
   "id": "dab84e1d",
   "metadata": {},
   "outputs": [],
   "source": [
    "#importing the dataset\n",
    "df = pd.read_csv('data_issold.csv')"
   ]
  },
  {
   "cell_type": "code",
   "execution_count": 3,
   "id": "5d368be3",
   "metadata": {},
   "outputs": [],
   "source": [
    "x = pd.get_dummies(df.auction_fee_tax_rate, prefix='auction_fee_tax_rate')\n",
    "df = pd.concat([df, x], axis=1)\n",
    "df = df.drop(['auction_fee_tax_rate', 'increment_type_nl Biedrange 0-15 1 euro (Beuknoot)'], axis=1)"
   ]
  },
  {
   "cell_type": "code",
   "execution_count": 4,
   "id": "ba78e838",
   "metadata": {},
   "outputs": [
    {
     "name": "stdout",
     "output_type": "stream",
     "text": [
      "The shape of our data is: (66271, 44)\n",
      "Training Features Shape: (53016, 43)\n",
      "Training Labels Shape: (13255, 43)\n",
      "Testing Features Shape: (53016,)\n",
      "Testing Labels Shape: (13255,)\n"
     ]
    }
   ],
   "source": [
    "y = df['is_sold']\n",
    "X = df.drop(['is_sold'], axis=1)\n",
    "X_train,X_test,y_train,y_test = train_test_split(X, y, test_size=0.2, random_state=42)\n",
    "\n",
    "print('The shape of our data is:', df.shape)\n",
    "print('Training Features Shape:', X_train.shape)\n",
    "print('Training Labels Shape:', X_test.shape)\n",
    "print('Testing Features Shape:', y_train.shape)\n",
    "print('Testing Labels Shape:', y_test.shape)"
   ]
  },
  {
   "cell_type": "code",
   "execution_count": 5,
   "id": "52940541",
   "metadata": {},
   "outputs": [],
   "source": [
    "classifier = GradientBoostingClassifier()\n",
    "numerical = ['start_amount', 'bidding_window']"
   ]
  },
  {
   "cell_type": "markdown",
   "id": "a83c7ae5",
   "metadata": {},
   "source": [
    "## Optimization with skopt"
   ]
  },
  {
   "cell_type": "code",
   "execution_count": 6,
   "id": "a0f10300",
   "metadata": {},
   "outputs": [],
   "source": [
    "#Building a pipeline\n",
    "def build_pipeline(classifier, numerical):\n",
    "    cat_pipe = make_pipeline(SimpleImputer(strategy='mean'))\n",
    "    num_pipe = make_pipeline(MinMaxScaler()) \n",
    "    transform = make_column_transformer((num_pipe, numerical), remainder=cat_pipe)\n",
    "    return Pipeline(steps=[('preprocess', transform), ('cls', classifier)])"
   ]
  },
  {
   "cell_type": "code",
   "execution_count": 7,
   "id": "59525b9d",
   "metadata": {},
   "outputs": [],
   "source": [
    "pipe = build_pipeline(classifier, numerical)\n",
    "\n",
    "space  = [Real(10**-5, 10**0, \"log-uniform\", name='cls__learning_rate'),\n",
    "          Integer(100, 1000, name='cls__n_estimators'), Integer(2, 5, name='cls__max_depth')]\n",
    "\n",
    "@use_named_args(space)\n",
    "def objective(**params):\n",
    "    pipe.set_params(**params)\n",
    "\n",
    "    return -np.mean(cross_val_score(pipe, X, y, cv=5, n_jobs=-1,\n",
    "                                    scoring='accuracy'))"
   ]
  },
  {
   "cell_type": "code",
   "execution_count": 11,
   "id": "e47a2b8f",
   "metadata": {},
   "outputs": [
    {
     "ename": "TypeError",
     "evalue": "not all arguments converted during string formatting",
     "output_type": "error",
     "traceback": [
      "\u001b[1;31m---------------------------------------------------------------------------\u001b[0m",
      "\u001b[1;31mTypeError\u001b[0m                                 Traceback (most recent call last)",
      "\u001b[1;32m<ipython-input-11-9d614d4a38da>\u001b[0m in \u001b[0;36m<module>\u001b[1;34m\u001b[0m\n\u001b[0;32m      8\u001b[0m \u001b[1;34m\"Best score=%.4f\"\u001b[0m \u001b[1;33m%\u001b[0m \u001b[0mres_gp\u001b[0m\u001b[1;33m.\u001b[0m\u001b[0mfun\u001b[0m\u001b[1;33m\u001b[0m\u001b[1;33m\u001b[0m\u001b[0m\n\u001b[0;32m      9\u001b[0m \u001b[1;33m\u001b[0m\u001b[0m\n\u001b[1;32m---> 10\u001b[1;33m print(\"\"\"Best parameters:\n\u001b[0m\u001b[0;32m     11\u001b[0m \u001b[1;33m-\u001b[0m \u001b[0mlearning_rate\u001b[0m\u001b[1;33m=\u001b[0m\u001b[1;33m%\u001b[0m\u001b[1;36m.6\u001b[0m\u001b[0mf\u001b[0m\u001b[1;33m\u001b[0m\u001b[1;33m\u001b[0m\u001b[0m\n\u001b[0;32m     12\u001b[0m \u001b[1;33m-\u001b[0m \u001b[0mmn_estimators\u001b[0m\u001b[1;33m=\u001b[0m\u001b[1;33m%\u001b[0m\u001b[0md\u001b[0m\u001b[1;33m\u001b[0m\u001b[1;33m\u001b[0m\u001b[0m\n",
      "\u001b[1;31mTypeError\u001b[0m: not all arguments converted during string formatting"
     ]
    }
   ],
   "source": [
    "######################################################################################\n",
    "#Do not run this, will take about 1h, optimal parameters are alresdy specified below\n",
    "######################################################################################\n",
    "\n",
    "\n",
    "res_gp = gp_minimize(objective, space, n_calls=50, random_state=0)\n",
    "\n",
    "\"Best score=%.4f\" % res_gp.fun\n",
    "\n",
    "print(\"\"\"Best parameters:\n",
    "- learning_rate=%.6f\n",
    "- mn_estimators=%d\n",
    "- max_depth=%d\"\"\" % (res_gp.x[0], res_gp.x[1]))"
   ]
  },
  {
   "cell_type": "code",
   "execution_count": 14,
   "id": "00d6ffee",
   "metadata": {},
   "outputs": [
    {
     "name": "stdout",
     "output_type": "stream",
     "text": [
      "Best parameters:\n",
      "- learning_rate=0.064818\n",
      "- mn_estimators=1000\n",
      "- max_depth=5\n"
     ]
    }
   ],
   "source": [
    "print(\"\"\"Best parameters:\n",
    "- learning_rate=%.6f\n",
    "- mn_estimators=%d\n",
    "- max_depth=%d\"\"\" % (res_gp.x[0], res_gp.x[1], res_gp.x[2]))"
   ]
  },
  {
   "cell_type": "markdown",
   "id": "80d7afcb",
   "metadata": {},
   "source": [
    "## Model evaluation"
   ]
  },
  {
   "cell_type": "code",
   "execution_count": 12,
   "id": "f43a3a19",
   "metadata": {},
   "outputs": [
    {
     "data": {
      "text/plain": [
       "          fun: -0.894916405953788\n",
       "    func_vals: array([-0.8869944 , -0.89275863, -0.60171116, -0.8298654 , -0.81187858,\n",
       "       -0.88608903, -0.60171116, -0.89419212, -0.8903443 , -0.87591869,\n",
       "       -0.89017828, -0.89441847, -0.89048008, -0.88863915, -0.60171116,\n",
       "       -0.87293099, -0.89303022, -0.89379979, -0.88749245, -0.88907676,\n",
       "       -0.89031414, -0.82936742, -0.87961567, -0.89269824, -0.89469008,\n",
       "       -0.89465987, -0.88802059, -0.89238136, -0.8939205 , -0.86205141,\n",
       "       -0.89315094, -0.88613435, -0.89369416, -0.89446372, -0.87142203,\n",
       "       -0.89465989, -0.89296986, -0.89034432, -0.88651158, -0.89455427,\n",
       "       -0.89271336, -0.89491641, -0.60171116, -0.89229082, -0.89354327,\n",
       "       -0.89419209, -0.82093251, -0.87908752, -0.89396577, -0.89431284])\n",
       "       models: [GaussianProcessRegressor(kernel=1**2 * Matern(length_scale=[1, 1, 1], nu=2.5) + WhiteKernel(noise_level=1),\n",
       "                         n_restarts_optimizer=2, noise='gaussian',\n",
       "                         normalize_y=True, random_state=209652396), GaussianProcessRegressor(kernel=1**2 * Matern(length_scale=[1, 1, 1], nu=2.5) + WhiteKernel(noise_level=1),\n",
       "                         n_restarts_optimizer=2, noise='gaussian',\n",
       "                         normalize_y=True, random_state=209652396), GaussianProcessRegressor(kernel=1**2 * Matern(length_scale=[1, 1, 1], nu=2.5) + WhiteKernel(noise_level=1),\n",
       "                         n_restarts_optimizer=2, noise='gaussian',\n",
       "                         normalize_y=True, random_state=209652396), GaussianProcessRegressor(kernel=1**2 * Matern(length_scale=[1, 1, 1], nu=2.5) + WhiteKernel(noise_level=1),\n",
       "                         n_restarts_optimizer=2, noise='gaussian',\n",
       "                         normalize_y=True, random_state=209652396), GaussianProcessRegressor(kernel=1**2 * Matern(length_scale=[1, 1, 1], nu=2.5) + WhiteKernel(noise_level=1),\n",
       "                         n_restarts_optimizer=2, noise='gaussian',\n",
       "                         normalize_y=True, random_state=209652396), GaussianProcessRegressor(kernel=1**2 * Matern(length_scale=[1, 1, 1], nu=2.5) + WhiteKernel(noise_level=1),\n",
       "                         n_restarts_optimizer=2, noise='gaussian',\n",
       "                         normalize_y=True, random_state=209652396), GaussianProcessRegressor(kernel=1**2 * Matern(length_scale=[1, 1, 1], nu=2.5) + WhiteKernel(noise_level=1),\n",
       "                         n_restarts_optimizer=2, noise='gaussian',\n",
       "                         normalize_y=True, random_state=209652396), GaussianProcessRegressor(kernel=1**2 * Matern(length_scale=[1, 1, 1], nu=2.5) + WhiteKernel(noise_level=1),\n",
       "                         n_restarts_optimizer=2, noise='gaussian',\n",
       "                         normalize_y=True, random_state=209652396), GaussianProcessRegressor(kernel=1**2 * Matern(length_scale=[1, 1, 1], nu=2.5) + WhiteKernel(noise_level=1),\n",
       "                         n_restarts_optimizer=2, noise='gaussian',\n",
       "                         normalize_y=True, random_state=209652396), GaussianProcessRegressor(kernel=1**2 * Matern(length_scale=[1, 1, 1], nu=2.5) + WhiteKernel(noise_level=1),\n",
       "                         n_restarts_optimizer=2, noise='gaussian',\n",
       "                         normalize_y=True, random_state=209652396), GaussianProcessRegressor(kernel=1**2 * Matern(length_scale=[1, 1, 1], nu=2.5) + WhiteKernel(noise_level=1),\n",
       "                         n_restarts_optimizer=2, noise='gaussian',\n",
       "                         normalize_y=True, random_state=209652396), GaussianProcessRegressor(kernel=1**2 * Matern(length_scale=[1, 1, 1], nu=2.5) + WhiteKernel(noise_level=1),\n",
       "                         n_restarts_optimizer=2, noise='gaussian',\n",
       "                         normalize_y=True, random_state=209652396), GaussianProcessRegressor(kernel=1**2 * Matern(length_scale=[1, 1, 1], nu=2.5) + WhiteKernel(noise_level=1),\n",
       "                         n_restarts_optimizer=2, noise='gaussian',\n",
       "                         normalize_y=True, random_state=209652396), GaussianProcessRegressor(kernel=1**2 * Matern(length_scale=[1, 1, 1], nu=2.5) + WhiteKernel(noise_level=1),\n",
       "                         n_restarts_optimizer=2, noise='gaussian',\n",
       "                         normalize_y=True, random_state=209652396), GaussianProcessRegressor(kernel=1**2 * Matern(length_scale=[1, 1, 1], nu=2.5) + WhiteKernel(noise_level=1),\n",
       "                         n_restarts_optimizer=2, noise='gaussian',\n",
       "                         normalize_y=True, random_state=209652396), GaussianProcessRegressor(kernel=1**2 * Matern(length_scale=[1, 1, 1], nu=2.5) + WhiteKernel(noise_level=1),\n",
       "                         n_restarts_optimizer=2, noise='gaussian',\n",
       "                         normalize_y=True, random_state=209652396), GaussianProcessRegressor(kernel=1**2 * Matern(length_scale=[1, 1, 1], nu=2.5) + WhiteKernel(noise_level=1),\n",
       "                         n_restarts_optimizer=2, noise='gaussian',\n",
       "                         normalize_y=True, random_state=209652396), GaussianProcessRegressor(kernel=1**2 * Matern(length_scale=[1, 1, 1], nu=2.5) + WhiteKernel(noise_level=1),\n",
       "                         n_restarts_optimizer=2, noise='gaussian',\n",
       "                         normalize_y=True, random_state=209652396), GaussianProcessRegressor(kernel=1**2 * Matern(length_scale=[1, 1, 1], nu=2.5) + WhiteKernel(noise_level=1),\n",
       "                         n_restarts_optimizer=2, noise='gaussian',\n",
       "                         normalize_y=True, random_state=209652396), GaussianProcessRegressor(kernel=1**2 * Matern(length_scale=[1, 1, 1], nu=2.5) + WhiteKernel(noise_level=1),\n",
       "                         n_restarts_optimizer=2, noise='gaussian',\n",
       "                         normalize_y=True, random_state=209652396), GaussianProcessRegressor(kernel=1**2 * Matern(length_scale=[1, 1, 1], nu=2.5) + WhiteKernel(noise_level=1),\n",
       "                         n_restarts_optimizer=2, noise='gaussian',\n",
       "                         normalize_y=True, random_state=209652396), GaussianProcessRegressor(kernel=1**2 * Matern(length_scale=[1, 1, 1], nu=2.5) + WhiteKernel(noise_level=1),\n",
       "                         n_restarts_optimizer=2, noise='gaussian',\n",
       "                         normalize_y=True, random_state=209652396), GaussianProcessRegressor(kernel=1**2 * Matern(length_scale=[1, 1, 1], nu=2.5) + WhiteKernel(noise_level=1),\n",
       "                         n_restarts_optimizer=2, noise='gaussian',\n",
       "                         normalize_y=True, random_state=209652396), GaussianProcessRegressor(kernel=1**2 * Matern(length_scale=[1, 1, 1], nu=2.5) + WhiteKernel(noise_level=1),\n",
       "                         n_restarts_optimizer=2, noise='gaussian',\n",
       "                         normalize_y=True, random_state=209652396), GaussianProcessRegressor(kernel=1**2 * Matern(length_scale=[1, 1, 1], nu=2.5) + WhiteKernel(noise_level=1),\n",
       "                         n_restarts_optimizer=2, noise='gaussian',\n",
       "                         normalize_y=True, random_state=209652396), GaussianProcessRegressor(kernel=1**2 * Matern(length_scale=[1, 1, 1], nu=2.5) + WhiteKernel(noise_level=1),\n",
       "                         n_restarts_optimizer=2, noise='gaussian',\n",
       "                         normalize_y=True, random_state=209652396), GaussianProcessRegressor(kernel=1**2 * Matern(length_scale=[1, 1, 1], nu=2.5) + WhiteKernel(noise_level=1),\n",
       "                         n_restarts_optimizer=2, noise='gaussian',\n",
       "                         normalize_y=True, random_state=209652396), GaussianProcessRegressor(kernel=1**2 * Matern(length_scale=[1, 1, 1], nu=2.5) + WhiteKernel(noise_level=1),\n",
       "                         n_restarts_optimizer=2, noise='gaussian',\n",
       "                         normalize_y=True, random_state=209652396), GaussianProcessRegressor(kernel=1**2 * Matern(length_scale=[1, 1, 1], nu=2.5) + WhiteKernel(noise_level=1),\n",
       "                         n_restarts_optimizer=2, noise='gaussian',\n",
       "                         normalize_y=True, random_state=209652396), GaussianProcessRegressor(kernel=1**2 * Matern(length_scale=[1, 1, 1], nu=2.5) + WhiteKernel(noise_level=1),\n",
       "                         n_restarts_optimizer=2, noise='gaussian',\n",
       "                         normalize_y=True, random_state=209652396), GaussianProcessRegressor(kernel=1**2 * Matern(length_scale=[1, 1, 1], nu=2.5) + WhiteKernel(noise_level=1),\n",
       "                         n_restarts_optimizer=2, noise='gaussian',\n",
       "                         normalize_y=True, random_state=209652396), GaussianProcessRegressor(kernel=1**2 * Matern(length_scale=[1, 1, 1], nu=2.5) + WhiteKernel(noise_level=1),\n",
       "                         n_restarts_optimizer=2, noise='gaussian',\n",
       "                         normalize_y=True, random_state=209652396), GaussianProcessRegressor(kernel=1**2 * Matern(length_scale=[1, 1, 1], nu=2.5) + WhiteKernel(noise_level=1),\n",
       "                         n_restarts_optimizer=2, noise='gaussian',\n",
       "                         normalize_y=True, random_state=209652396), GaussianProcessRegressor(kernel=1**2 * Matern(length_scale=[1, 1, 1], nu=2.5) + WhiteKernel(noise_level=1),\n",
       "                         n_restarts_optimizer=2, noise='gaussian',\n",
       "                         normalize_y=True, random_state=209652396), GaussianProcessRegressor(kernel=1**2 * Matern(length_scale=[1, 1, 1], nu=2.5) + WhiteKernel(noise_level=1),\n",
       "                         n_restarts_optimizer=2, noise='gaussian',\n",
       "                         normalize_y=True, random_state=209652396), GaussianProcessRegressor(kernel=1**2 * Matern(length_scale=[1, 1, 1], nu=2.5) + WhiteKernel(noise_level=1),\n",
       "                         n_restarts_optimizer=2, noise='gaussian',\n",
       "                         normalize_y=True, random_state=209652396), GaussianProcessRegressor(kernel=1**2 * Matern(length_scale=[1, 1, 1], nu=2.5) + WhiteKernel(noise_level=1),\n",
       "                         n_restarts_optimizer=2, noise='gaussian',\n",
       "                         normalize_y=True, random_state=209652396), GaussianProcessRegressor(kernel=1**2 * Matern(length_scale=[1, 1, 1], nu=2.5) + WhiteKernel(noise_level=1),\n",
       "                         n_restarts_optimizer=2, noise='gaussian',\n",
       "                         normalize_y=True, random_state=209652396), GaussianProcessRegressor(kernel=1**2 * Matern(length_scale=[1, 1, 1], nu=2.5) + WhiteKernel(noise_level=1),\n",
       "                         n_restarts_optimizer=2, noise='gaussian',\n",
       "                         normalize_y=True, random_state=209652396), GaussianProcessRegressor(kernel=1**2 * Matern(length_scale=[1, 1, 1], nu=2.5) + WhiteKernel(noise_level=1),\n",
       "                         n_restarts_optimizer=2, noise='gaussian',\n",
       "                         normalize_y=True, random_state=209652396), GaussianProcessRegressor(kernel=1**2 * Matern(length_scale=[1, 1, 1], nu=2.5) + WhiteKernel(noise_level=1),\n",
       "                         n_restarts_optimizer=2, noise='gaussian',\n",
       "                         normalize_y=True, random_state=209652396)]\n",
       " random_state: RandomState(MT19937) at 0x201806ECE40\n",
       "        space: Space([Real(low=1e-05, high=1, prior='log-uniform', transform='normalize'),\n",
       "       Integer(low=100, high=1000, prior='uniform', transform='normalize'),\n",
       "       Integer(low=2, high=5, prior='uniform', transform='normalize')])\n",
       "        specs: {'args': {'func': <function objective at 0x0000020180116670>, 'dimensions': Space([Real(low=1e-05, high=1, prior='log-uniform', transform='normalize'),\n",
       "       Integer(low=100, high=1000, prior='uniform', transform='normalize'),\n",
       "       Integer(low=2, high=5, prior='uniform', transform='normalize')]), 'base_estimator': GaussianProcessRegressor(kernel=1**2 * Matern(length_scale=[1, 1, 1], nu=2.5),\n",
       "                         n_restarts_optimizer=2, noise='gaussian',\n",
       "                         normalize_y=True, random_state=209652396), 'n_calls': 50, 'n_random_starts': None, 'n_initial_points': 10, 'initial_point_generator': 'random', 'acq_func': 'gp_hedge', 'acq_optimizer': 'auto', 'x0': None, 'y0': None, 'random_state': RandomState(MT19937) at 0x201806ECE40, 'verbose': False, 'callback': None, 'n_points': 10000, 'n_restarts_optimizer': 5, 'xi': 0.01, 'kappa': 1.96, 'n_jobs': 1, 'model_queue_size': None}, 'function': 'base_minimize'}\n",
       "            x: [0.06481786815416783, 1000, 5]\n",
       "      x_iters: [[0.009209225155490905, 860, 5], [0.17228945369609433, 661, 3], [0.0003073781785362612, 151, 3], [0.0024452630570839917, 831, 3], [0.0009202884691104562, 852, 3], [0.017412429067220004, 431, 5], [5.0321537523063144e-05, 883, 3], [0.10105405843110161, 568, 4], [0.04010174523739503, 624, 4], [0.06209807272272614, 195, 3], [1.0, 100, 5], [0.03732200402625986, 1000, 5], [1.0, 1000, 5], [0.5364847804844624, 1000, 5], [1e-05, 277, 2], [0.027726833261231494, 1000, 2], [0.15352675329603357, 1000, 5], [0.28996256589612873, 348, 5], [1.0, 547, 2], [1.0, 556, 5], [0.3530987157493838, 1000, 2], [0.0058365511792643, 100, 5], [0.4228812243383145, 100, 2], [0.0174957442442243, 1000, 5], [0.1447117520964174, 472, 5], [0.07155971007671111, 838, 5], [1.0, 1000, 2], [0.2657424752501081, 725, 5], [0.05612198836342603, 496, 5], [0.0018839011384290292, 1000, 5], [0.17694465337597692, 100, 5], [0.11184830520155617, 1000, 2], [0.02931957454843972, 758, 5], [0.11046159548114105, 649, 5], [0.02861783147595449, 106, 5], [0.051817451331567246, 732, 5], [0.4801698677500976, 124, 5], [0.4410260118628819, 657, 2], [0.9927702952571511, 116, 2], [0.10071345058447703, 395, 5], [0.6275691689740538, 383, 4], [0.06481786815416783, 1000, 5], [1.0634938797582155e-05, 969, 5], [0.6996835369091037, 859, 3], [0.3148160468319412, 726, 4], [0.14093648586874863, 832, 4], [0.013648548101476527, 320, 2], [0.06751257241543086, 650, 2], [0.06674004648174654, 1000, 4], [0.19100069771907227, 405, 4]]"
      ]
     },
     "execution_count": 12,
     "metadata": {},
     "output_type": "execute_result"
    }
   ],
   "source": [
    "res_gp"
   ]
  },
  {
   "cell_type": "code",
   "execution_count": 15,
   "id": "c9d99062",
   "metadata": {},
   "outputs": [],
   "source": [
    "classifier = GradientBoostingClassifier(learning_rate=0.064818, n_estimators=1000, max_depth=5)\n",
    "model = build_pipeline(classifier, numerical)\n",
    "model = model.fit(X_train, y_train)"
   ]
  },
  {
   "cell_type": "code",
   "execution_count": 16,
   "id": "6f256d1e",
   "metadata": {},
   "outputs": [
    {
     "name": "stdout",
     "output_type": "stream",
     "text": [
      "The accuracy on test set: 0.8963\n",
      "The precision on test set: 0.8988\n",
      "The recall on test set: 0.9328\n",
      "The F1 score on test set: 0.9155\n",
      "The ROC AUC score on test set: 0.8870\n"
     ]
    }
   ],
   "source": [
    "acc = accuracy_score(y_test, model.predict(X_test))\n",
    "prec = precision_score(y_test, model.predict(X_test))\n",
    "rec = recall_score(y_test, model.predict(X_test))\n",
    "f1 = f1_score(y_test, model.predict(X_test))\n",
    "roc = roc_auc_score(y_test, model.predict(X_test))\n",
    "print(\"The accuracy on test set: {:.4f}\".format(acc))\n",
    "print(\"The precision on test set: {:.4f}\".format(prec))\n",
    "print(\"The recall on test set: {:.4f}\".format(rec))\n",
    "print(\"The F1 score on test set: {:.4f}\".format(f1))\n",
    "print(\"The ROC AUC score on test set: {:.4f}\".format(roc))"
   ]
  },
  {
   "cell_type": "code",
   "execution_count": 17,
   "id": "3c5e24bd",
   "metadata": {},
   "outputs": [
    {
     "data": {
      "image/png": "[encoded data removed]",
      "text/plain": [
       "<Figure size 432x288 with 2 Axes>"
      ]
     },
     "metadata": {
      "needs_background": "light"
     },
     "output_type": "display_data"
    }
   ],
   "source": [
    "def Performance_conf(Model,X,Y,loc):\n",
    "    plot_confusion_matrix(Model,X,Y)\n",
    "    plt.savefig(loc)\n",
    "    plt.show()\n",
    "    \n",
    "Performance_conf(model,X_test,y_test,loc='CM_boosting.png')"
   ]
  },
  {
   "cell_type": "code",
   "execution_count": 18,
   "id": "00997018",
   "metadata": {},
   "outputs": [
    {
     "name": "stdout",
     "output_type": "stream",
     "text": [
      "No Skill: ROC AUC=0.500\n",
      "Gradient Boosting: ROC AUC=0.924\n"
     ]
    },
    {
     "data": {
      "image/png": "[encoded data removed]",
      "text/plain": [
       "<Figure size 432x288 with 1 Axes>"
      ]
     },
     "metadata": {
      "needs_background": "light"
     },
     "output_type": "display_data"
    }
   ],
   "source": [
    "def plot_ROC(Model,X,Y,loc):\n",
    "    loc='ROC_boosting.png'\n",
    "    ns_probs = [0 for _ in range(len(y_test))]\n",
    "    lr_probs = model.predict_proba(X_test)\n",
    "    lr_probs = lr_probs[:, 1]\n",
    "    ns_auc = roc_auc_score(y_test, ns_probs)\n",
    "    lr_auc = roc_auc_score(y_test, lr_probs)\n",
    "    print('No Skill: ROC AUC=%.3f' % (ns_auc))\n",
    "    print('Gradient Boosting: ROC AUC=%.3f' % (lr_auc))\n",
    "    ns_fpr, ns_tpr, _ = roc_curve(y_test, ns_probs)\n",
    "    lr_fpr, lr_tpr, _ = roc_curve(y_test, lr_probs)\n",
    "    plt.plot(ns_fpr, ns_tpr, linestyle='--', label='No Skill', color='black')\n",
    "    plt.plot(lr_fpr, lr_tpr, marker=',', label='Gradient Boosting', color = 'steelblue')\n",
    "    plt.xlabel('False Positive Rate')\n",
    "    plt.ylabel('True Positive Rate')\n",
    "    plt.legend()\n",
    "    plt.savefig(loc)\n",
    "    plt.show()\n",
    "plot_ROC(model,X_test,y_test,loc='ROC_boosting.png')"
   ]
  },
  {
   "cell_type": "code",
   "execution_count": 19,
   "id": "d6173312",
   "metadata": {},
   "outputs": [
    {
     "data": {
      "image/png": "[encoded data removed]",
      "text/plain": [
       "<Figure size 432x288 with 1 Axes>"
      ]
     },
     "metadata": {
      "needs_background": "light"
     },
     "output_type": "display_data"
    }
   ],
   "source": [
    "imp = model.named_steps.cls.feature_importances_\n",
    "cols = X.columns.tolist()\n",
    "df_imp = {'Features':cols,'Importance':imp}\n",
    "df_imp = pd.DataFrame(df_imp)\n",
    "df_imp = df_imp.sort_values(by=['Importance'], ascending = False)\n",
    "\n",
    "plt.figure()\n",
    "plt.bar(df_imp.iloc[:6 , 0], df_imp.iloc[:6, 1],color=(0.7,0,0,1))\n",
    "plt.ylabel(\"Feature Importance\")\n",
    "plt.xticks(rotation=90)\n",
    "plt.savefig('GB Feature importance.png',bbox_inches='tight')\n",
    "plt.show()"
   ]
  },
  {
   "cell_type": "code",
   "execution_count": 20,
   "id": "5034a0b5",
   "metadata": {},
   "outputs": [],
   "source": [
    "X2 = X[['is_1euro_kavel', 'start_amount', 'Day_6', 'increment_1euro', 'sourcing_company_bva', 'is_homedelivery']]\n",
    "X_train,X_test,y_train,y_test = train_test_split(X2, y, test_size=0.2, random_state=42)"
   ]
  },
  {
   "cell_type": "code",
   "execution_count": 23,
   "id": "331887d0",
   "metadata": {},
   "outputs": [],
   "source": [
    "numerical = ['start_amount']\n",
    "classifier = GradientBoostingClassifier(learning_rate=0.064818, n_estimators=1000, max_depth=5)\n",
    "model = build_pipeline(classifier, numerical)\n",
    "model = model.fit(X_train, y_train)"
   ]
  },
  {
   "cell_type": "code",
   "execution_count": 24,
   "id": "94e4c6ff",
   "metadata": {},
   "outputs": [
    {
     "name": "stdout",
     "output_type": "stream",
     "text": [
      "The accuracy on test set: 0.8041\n",
      "The precision on test set: 0.8296\n",
      "The recall on test set: 0.8490\n",
      "The F1 score on test set: 0.8392\n",
      "The ROC AUC score on test set: 0.7926\n"
     ]
    }
   ],
   "source": [
    "acc = accuracy_score(y_test, model.predict(X_test))\n",
    "prec = precision_score(y_test, model.predict(X_test))\n",
    "rec = recall_score(y_test, model.predict(X_test))\n",
    "f1 = f1_score(y_test, model.predict(X_test))\n",
    "roc = roc_auc_score(y_test, model.predict(X_test))\n",
    "print(\"The accuracy on test set: {:.4f}\".format(acc))\n",
    "print(\"The precision on test set: {:.4f}\".format(prec))\n",
    "print(\"The recall on test set: {:.4f}\".format(rec))\n",
    "print(\"The F1 score on test set: {:.4f}\".format(f1))\n",
    "print(\"The ROC AUC score on test set: {:.4f}\".format(roc))"
   ]
  },
  {
   "cell_type": "code",
   "execution_count": 3,
   "id": "0d7e2c9e",
   "metadata": {},
   "outputs": [
    {
     "data": {
      "text/plain": [
       "['auction_fee_tax_rate',\n",
       " 'is_1euro_kavel',\n",
       " 'is_sold',\n",
       " 'start_amount',\n",
       " 'bidding_window',\n",
       " 'is_homedelivery',\n",
       " 'is_public',\n",
       " 'is_automatic_credit',\n",
       " 'category_Accu-/ elektrisch gereedschap',\n",
       " 'category_Auto-onderdelen en accessoires',\n",
       " 'category_Computers en Software',\n",
       " 'category_Dameskleding en -schoenen',\n",
       " 'category_Herenkleding en -schoenen',\n",
       " 'category_Horloges',\n",
       " 'category_Kantoorinrichting',\n",
       " 'category_Other',\n",
       " 'category_Sanitair',\n",
       " 'category_Sieraden',\n",
       " 'category_Slapen',\n",
       " 'category_Tuin en terras',\n",
       " 'category_Unisex',\n",
       " 'category_Verlichting',\n",
       " 'category_Woninginrichting',\n",
       " 'condition_New',\n",
       " 'condition_Old',\n",
       " 'seller_type_New Seller',\n",
       " 'seller_type_Seller',\n",
       " 'increment_type_nl Biedrange 0-15 1 euro (Beuknoot)',\n",
       " 'sourcing_company_3rdpartydailyspecials',\n",
       " 'sourcing_company_art',\n",
       " 'sourcing_company_bva',\n",
       " 'Day_0',\n",
       " 'Day_1',\n",
       " 'Day_2',\n",
       " 'Day_3',\n",
       " 'Day_4',\n",
       " 'Day_5',\n",
       " 'Day_6',\n",
       " 'Month_1',\n",
       " 'Month_2',\n",
       " 'Month_3',\n",
       " 'increment_standard',\n",
       " 'increment_1euro',\n",
       " 'increment_other']"
      ]
     },
     "execution_count": 3,
     "metadata": {},
     "output_type": "execute_result"
    }
   ],
   "source": [
    "list(df.columns)"
   ]
  },
  {
   "cell_type": "code",
   "execution_count": 4,
   "id": "124ccaa7",
   "metadata": {},
   "outputs": [],
   "source": [
    "df1 = pd.read_csv('data.csv')"
   ]
  },
  {
   "cell_type": "code",
   "execution_count": 5,
   "id": "40cfda83",
   "metadata": {},
   "outputs": [
    {
     "data": {
      "text/plain": [
       "['valid_bid_count',\n",
       " 'auction_fee_tax_rate',\n",
       " 'is_1euro_kavel',\n",
       " 'start_amount',\n",
       " 'bidding_window',\n",
       " 'final_closing_day',\n",
       " 'final_closing_month',\n",
       " 'is_homedelivery',\n",
       " 'is_public',\n",
       " 'is_automatic_credit',\n",
       " 'lot_topcategory_Accu-/ elektrisch gereedschap',\n",
       " 'lot_topcategory_Auto-onderdelen en accessoires',\n",
       " 'lot_topcategory_Bestratingsmaterialen',\n",
       " 'lot_topcategory_Beveiliging',\n",
       " 'lot_topcategory_Bouwmaterialen',\n",
       " 'lot_topcategory_Bouwplaatsinrichting',\n",
       " 'lot_topcategory_Collectibles',\n",
       " 'lot_topcategory_Communicatie en telefonie',\n",
       " 'lot_topcategory_Computers en Software',\n",
       " 'lot_topcategory_Dameskleding en -schoenen',\n",
       " 'lot_topcategory_Dierbenodigdheden',\n",
       " 'lot_topcategory_Fietsen',\n",
       " 'lot_topcategory_Fitness',\n",
       " 'lot_topcategory_Foto en video',\n",
       " 'lot_topcategory_Garage-equipement',\n",
       " 'lot_topcategory_Groenvoorziening',\n",
       " 'lot_topcategory_Handgereedschap',\n",
       " 'lot_topcategory_Hengelsport',\n",
       " 'lot_topcategory_Herenkleding en -schoenen',\n",
       " 'lot_topcategory_Horeca-apparatuur',\n",
       " 'lot_topcategory_Horeca-inventaris',\n",
       " 'lot_topcategory_Horloges',\n",
       " 'lot_topcategory_Huishoudelijk',\n",
       " 'lot_topcategory_IJzerwaren',\n",
       " 'lot_topcategory_Installatiemateriaal',\n",
       " 'lot_topcategory_Kamperen',\n",
       " 'lot_topcategory_Kantoorinrichting',\n",
       " 'lot_topcategory_Keukenapparatuur',\n",
       " 'lot_topcategory_Keukeninrichting',\n",
       " 'lot_topcategory_Kinderen',\n",
       " 'lot_topcategory_Klimmaterialen',\n",
       " 'lot_topcategory_Kunst',\n",
       " 'lot_topcategory_Magazijn en werkplaats',\n",
       " 'lot_topcategory_Other',\n",
       " 'lot_topcategory_Partijen',\n",
       " 'lot_topcategory_Persoonlijke verzorging',\n",
       " 'lot_topcategory_Pneumatisch gereedschap',\n",
       " 'lot_topcategory_Professioneel ICT',\n",
       " 'lot_topcategory_Sanitair',\n",
       " 'lot_topcategory_Sieraden',\n",
       " 'lot_topcategory_Slapen',\n",
       " 'lot_topcategory_Speelgoed',\n",
       " 'lot_topcategory_Sport en vrije tijd',\n",
       " 'lot_topcategory_Televisie en audio',\n",
       " 'lot_topcategory_Tuin en terras',\n",
       " 'lot_topcategory_Unisex',\n",
       " 'lot_topcategory_Verlichting',\n",
       " 'lot_topcategory_Vloeren',\n",
       " 'lot_topcategory_Warmtetechniek',\n",
       " 'lot_topcategory_Wellness',\n",
       " 'lot_topcategory_Werkkleding & Veiligheid',\n",
       " 'lot_topcategory_Winkelinrichting',\n",
       " 'lot_topcategory_Woningdecoratie',\n",
       " 'lot_topcategory_Woninginrichting',\n",
       " 'condition_New',\n",
       " 'condition_Old',\n",
       " 'category_seller_New Seller',\n",
       " 'category_seller_Seller',\n",
       " 'sourcing_company_3rdpartydailyspecials',\n",
       " 'sourcing_company_art',\n",
       " 'sourcing_company_bva',\n",
       " 'increment_standard',\n",
       " 'increment_1euro',\n",
       " 'increment_other']"
      ]
     },
     "execution_count": 5,
     "metadata": {},
     "output_type": "execute_result"
    }
   ],
   "source": [
    "list(df1.columns)"
   ]
  },
  {
   "cell_type": "code",
   "execution_count": 31,
   "id": "2f0cdd3e",
   "metadata": {},
   "outputs": [
    {
     "name": "stderr",
     "output_type": "stream",
     "text": [
      "C:\\Users\\20191628\\Anaconda3\\envs\\MLcourse\\lib\\site-packages\\IPython\\core\\interactiveshell.py:3166: DtypeWarning: Columns (8) have mixed types.Specify dtype option on import or set low_memory=False.\n",
      "  interactivity=interactivity, compiler=compiler, result=result)\n"
     ]
    }
   ],
   "source": [
    "df2 = pd.read_csv(r'Data/Fact_bids1.csv', sep=\";\")\n",
    "df2 = df2.dropna(subset=['bid_id', 'bid_amount', 'lot_id'])\n",
    "df2['bid_amount']=df2['bid_amount'].str.replace(',','.')\n",
    "df2['bid_amount'] = df2.bid_amount.astype(float)\n",
    "#df2['bid_amount']=.astype(str).astype(int)\n",
    "#df.dropna(subset=['name', 'toy'])\n",
    "#df2 = df2.groupby('lot_id').idxmax()\n",
    "#df2"
   ]
  },
  {
   "cell_type": "code",
   "execution_count": 28,
   "id": "7879fe6f",
   "metadata": {},
   "outputs": [
    {
     "data": {
      "text/html": [
       "<div>\n",
       "<style scoped>\n",
       "    .dataframe tbody tr th:only-of-type {\n",
       "        vertical-align: middle;\n",
       "    }\n",
       "\n",
       "    .dataframe tbody tr th {\n",
       "        vertical-align: top;\n",
       "    }\n",
       "\n",
       "    .dataframe thead th {\n",
       "        text-align: right;\n",
       "    }\n",
       "</style>\n",
       "<table border=\"1\" class=\"dataframe\">\n",
       "  <thead>\n",
       "    <tr style=\"text-align: right;\">\n",
       "      <th></th>\n",
       "      <th>bid_id</th>\n",
       "      <th>user_id</th>\n",
       "      <th>lot_id</th>\n",
       "      <th>auction_id</th>\n",
       "      <th>opportunity_id</th>\n",
       "      <th>seller_id</th>\n",
       "      <th>is_autobid</th>\n",
       "      <th>is_valid</th>\n",
       "      <th>bid_amount</th>\n",
       "      <th>latest_bid</th>\n",
       "      <th>first_bid</th>\n",
       "      <th>days_to_close</th>\n",
       "      <th>bid_date</th>\n",
       "      <th>lot_closingdate</th>\n",
       "      <th>auction_closingdate</th>\n",
       "      <th>added_bidvalue</th>\n",
       "      <th>efficy_business_line</th>\n",
       "      <th>channel_id</th>\n",
       "    </tr>\n",
       "  </thead>\n",
       "  <tbody>\n",
       "    <tr>\n",
       "      <th>0</th>\n",
       "      <td>71424184</td>\n",
       "      <td>1304096</td>\n",
       "      <td>14140189</td>\n",
       "      <td>44975</td>\n",
       "      <td>201719061.0</td>\n",
       "      <td>30788.0</td>\n",
       "      <td>0</td>\n",
       "      <td>1</td>\n",
       "      <td>25</td>\n",
       "      <td>0</td>\n",
       "      <td>0</td>\n",
       "      <td>0</td>\n",
       "      <td>2020-01-06 19:00:00.000</td>\n",
       "      <td>2020-01-06 22:00:00.000</td>\n",
       "      <td>2020-01-06 00:00:00.000</td>\n",
       "      <td>0</td>\n",
       "      <td>001. Daily deals</td>\n",
       "      <td>45</td>\n",
       "    </tr>\n",
       "    <tr>\n",
       "      <th>1</th>\n",
       "      <td>71419426</td>\n",
       "      <td>2291817</td>\n",
       "      <td>14133445</td>\n",
       "      <td>44975</td>\n",
       "      <td>201718607.0</td>\n",
       "      <td>32758.0</td>\n",
       "      <td>0</td>\n",
       "      <td>1</td>\n",
       "      <td>15</td>\n",
       "      <td>0</td>\n",
       "      <td>0</td>\n",
       "      <td>0</td>\n",
       "      <td>2020-01-06 18:00:00.000</td>\n",
       "      <td>2020-01-06 21:00:00.000</td>\n",
       "      <td>2020-01-06 00:00:00.000</td>\n",
       "      <td>1</td>\n",
       "      <td>001. Daily deals</td>\n",
       "      <td>45</td>\n",
       "    </tr>\n",
       "    <tr>\n",
       "      <th>2</th>\n",
       "      <td>71424429</td>\n",
       "      <td>1381544</td>\n",
       "      <td>14140242</td>\n",
       "      <td>44975</td>\n",
       "      <td>201718774.0</td>\n",
       "      <td>31788.0</td>\n",
       "      <td>0</td>\n",
       "      <td>1</td>\n",
       "      <td>19</td>\n",
       "      <td>0</td>\n",
       "      <td>0</td>\n",
       "      <td>0</td>\n",
       "      <td>2020-01-06 19:00:00.000</td>\n",
       "      <td>2020-01-06 23:00:00.000</td>\n",
       "      <td>2020-01-06 00:00:00.000</td>\n",
       "      <td>1</td>\n",
       "      <td>001. Daily deals</td>\n",
       "      <td>45</td>\n",
       "    </tr>\n",
       "    <tr>\n",
       "      <th>3</th>\n",
       "      <td>71430020</td>\n",
       "      <td>5490786</td>\n",
       "      <td>14140242</td>\n",
       "      <td>44975</td>\n",
       "      <td>201718774.0</td>\n",
       "      <td>31788.0</td>\n",
       "      <td>0</td>\n",
       "      <td>1</td>\n",
       "      <td>30</td>\n",
       "      <td>0</td>\n",
       "      <td>0</td>\n",
       "      <td>0</td>\n",
       "      <td>2020-01-06 21:00:00.000</td>\n",
       "      <td>2020-01-06 23:00:00.000</td>\n",
       "      <td>2020-01-06 00:00:00.000</td>\n",
       "      <td>1</td>\n",
       "      <td>001. Daily deals</td>\n",
       "      <td>45</td>\n",
       "    </tr>\n",
       "    <tr>\n",
       "      <th>4</th>\n",
       "      <td>71428111</td>\n",
       "      <td>5341128</td>\n",
       "      <td>14140081</td>\n",
       "      <td>44975</td>\n",
       "      <td>201922326.0</td>\n",
       "      <td>36142.0</td>\n",
       "      <td>0</td>\n",
       "      <td>1</td>\n",
       "      <td>54</td>\n",
       "      <td>0</td>\n",
       "      <td>0</td>\n",
       "      <td>0</td>\n",
       "      <td>2020-01-06 21:00:00.000</td>\n",
       "      <td>2020-01-06 22:00:00.000</td>\n",
       "      <td>2020-01-06 00:00:00.000</td>\n",
       "      <td>1</td>\n",
       "      <td>001. Daily deals</td>\n",
       "      <td>45</td>\n",
       "    </tr>\n",
       "  </tbody>\n",
       "</table>\n",
       "</div>"
      ],
      "text/plain": [
       "     bid_id  user_id    lot_id  auction_id  opportunity_id  seller_id  \\\n",
       "0  71424184  1304096  14140189       44975     201719061.0    30788.0   \n",
       "1  71419426  2291817  14133445       44975     201718607.0    32758.0   \n",
       "2  71424429  1381544  14140242       44975     201718774.0    31788.0   \n",
       "3  71430020  5490786  14140242       44975     201718774.0    31788.0   \n",
       "4  71428111  5341128  14140081       44975     201922326.0    36142.0   \n",
       "\n",
       "   is_autobid  is_valid bid_amount  latest_bid  first_bid  days_to_close  \\\n",
       "0           0         1         25           0          0              0   \n",
       "1           0         1         15           0          0              0   \n",
       "2           0         1         19           0          0              0   \n",
       "3           0         1         30           0          0              0   \n",
       "4           0         1         54           0          0              0   \n",
       "\n",
       "                  bid_date          lot_closingdate      auction_closingdate  \\\n",
       "0  2020-01-06 19:00:00.000  2020-01-06 22:00:00.000  2020-01-06 00:00:00.000   \n",
       "1  2020-01-06 18:00:00.000  2020-01-06 21:00:00.000  2020-01-06 00:00:00.000   \n",
       "2  2020-01-06 19:00:00.000  2020-01-06 23:00:00.000  2020-01-06 00:00:00.000   \n",
       "3  2020-01-06 21:00:00.000  2020-01-06 23:00:00.000  2020-01-06 00:00:00.000   \n",
       "4  2020-01-06 21:00:00.000  2020-01-06 22:00:00.000  2020-01-06 00:00:00.000   \n",
       "\n",
       "  added_bidvalue efficy_business_line  channel_id  \n",
       "0              0     001. Daily deals          45  \n",
       "1              1     001. Daily deals          45  \n",
       "2              1     001. Daily deals          45  \n",
       "3              1     001. Daily deals          45  \n",
       "4              1     001. Daily deals          45  "
      ]
     },
     "execution_count": 28,
     "metadata": {},
     "output_type": "execute_result"
    }
   ],
   "source": [
    "df2.head()\n"
   ]
  },
  {
   "cell_type": "code",
   "execution_count": 33,
   "id": "7e23f498",
   "metadata": {},
   "outputs": [
    {
     "data": {
      "text/html": [
       "<div>\n",
       "<style scoped>\n",
       "    .dataframe tbody tr th:only-of-type {\n",
       "        vertical-align: middle;\n",
       "    }\n",
       "\n",
       "    .dataframe tbody tr th {\n",
       "        vertical-align: top;\n",
       "    }\n",
       "\n",
       "    .dataframe thead th {\n",
       "        text-align: right;\n",
       "    }\n",
       "</style>\n",
       "<table border=\"1\" class=\"dataframe\">\n",
       "  <thead>\n",
       "    <tr style=\"text-align: right;\">\n",
       "      <th></th>\n",
       "      <th>bid_amount</th>\n",
       "      <th>bid_id</th>\n",
       "    </tr>\n",
       "    <tr>\n",
       "      <th>lot_id</th>\n",
       "      <th></th>\n",
       "      <th></th>\n",
       "    </tr>\n",
       "  </thead>\n",
       "  <tbody>\n",
       "    <tr>\n",
       "      <th>13488337</th>\n",
       "      <td>125000.0</td>\n",
       "      <td>20</td>\n",
       "    </tr>\n",
       "    <tr>\n",
       "      <th>13540818</th>\n",
       "      <td>209950.0</td>\n",
       "      <td>33</td>\n",
       "    </tr>\n",
       "    <tr>\n",
       "      <th>13562040</th>\n",
       "      <td>194288.0</td>\n",
       "      <td>17</td>\n",
       "    </tr>\n",
       "    <tr>\n",
       "      <th>13567416</th>\n",
       "      <td>362000.0</td>\n",
       "      <td>75</td>\n",
       "    </tr>\n",
       "    <tr>\n",
       "      <th>13567473</th>\n",
       "      <td>520000.0</td>\n",
       "      <td>51</td>\n",
       "    </tr>\n",
       "    <tr>\n",
       "      <th>...</th>\n",
       "      <td>...</td>\n",
       "      <td>...</td>\n",
       "    </tr>\n",
       "    <tr>\n",
       "      <th>14432952</th>\n",
       "      <td>40.0</td>\n",
       "      <td>15</td>\n",
       "    </tr>\n",
       "    <tr>\n",
       "      <th>14432953</th>\n",
       "      <td>NaN</td>\n",
       "      <td>1</td>\n",
       "    </tr>\n",
       "    <tr>\n",
       "      <th>14432954</th>\n",
       "      <td>11.0</td>\n",
       "      <td>1</td>\n",
       "    </tr>\n",
       "    <tr>\n",
       "      <th>14432955</th>\n",
       "      <td>48.0</td>\n",
       "      <td>15</td>\n",
       "    </tr>\n",
       "    <tr>\n",
       "      <th>14432956</th>\n",
       "      <td>29.0</td>\n",
       "      <td>6</td>\n",
       "    </tr>\n",
       "  </tbody>\n",
       "</table>\n",
       "<p>164584 rows × 2 columns</p>\n",
       "</div>"
      ],
      "text/plain": [
       "          bid_amount  bid_id\n",
       "lot_id                      \n",
       "13488337    125000.0      20\n",
       "13540818    209950.0      33\n",
       "13562040    194288.0      17\n",
       "13567416    362000.0      75\n",
       "13567473    520000.0      51\n",
       "...              ...     ...\n",
       "14432952        40.0      15\n",
       "14432953         NaN       1\n",
       "14432954        11.0       1\n",
       "14432955        48.0      15\n",
       "14432956        29.0       6\n",
       "\n",
       "[164584 rows x 2 columns]"
      ]
     },
     "execution_count": 33,
     "metadata": {},
     "output_type": "execute_result"
    }
   ],
   "source": [
    "table = pd.pivot_table(df2, values=['bid_id', 'bid_amount'], index=['lot_id'],\n",
    "                    aggfunc={'bid_id': len,\n",
    "                             'bid_amount': np.max})\n",
    "table"
   ]
  },
  {
   "cell_type": "code",
   "execution_count": 34,
   "id": "affa5ab8",
   "metadata": {},
   "outputs": [
    {
     "data": {
      "text/html": [
       "<div>\n",
       "<style scoped>\n",
       "    .dataframe tbody tr th:only-of-type {\n",
       "        vertical-align: middle;\n",
       "    }\n",
       "\n",
       "    .dataframe tbody tr th {\n",
       "        vertical-align: top;\n",
       "    }\n",
       "\n",
       "    .dataframe thead th {\n",
       "        text-align: right;\n",
       "    }\n",
       "</style>\n",
       "<table border=\"1\" class=\"dataframe\">\n",
       "  <thead>\n",
       "    <tr style=\"text-align: right;\">\n",
       "      <th></th>\n",
       "      <th>lot_id</th>\n",
       "      <th>bid_amount</th>\n",
       "      <th>bid_id</th>\n",
       "    </tr>\n",
       "  </thead>\n",
       "  <tbody>\n",
       "    <tr>\n",
       "      <th>0</th>\n",
       "      <td>13488337</td>\n",
       "      <td>125000.0</td>\n",
       "      <td>20</td>\n",
       "    </tr>\n",
       "    <tr>\n",
       "      <th>1</th>\n",
       "      <td>13540818</td>\n",
       "      <td>209950.0</td>\n",
       "      <td>33</td>\n",
       "    </tr>\n",
       "    <tr>\n",
       "      <th>2</th>\n",
       "      <td>13562040</td>\n",
       "      <td>194288.0</td>\n",
       "      <td>17</td>\n",
       "    </tr>\n",
       "    <tr>\n",
       "      <th>3</th>\n",
       "      <td>13567416</td>\n",
       "      <td>362000.0</td>\n",
       "      <td>75</td>\n",
       "    </tr>\n",
       "    <tr>\n",
       "      <th>4</th>\n",
       "      <td>13567473</td>\n",
       "      <td>520000.0</td>\n",
       "      <td>51</td>\n",
       "    </tr>\n",
       "    <tr>\n",
       "      <th>...</th>\n",
       "      <td>...</td>\n",
       "      <td>...</td>\n",
       "      <td>...</td>\n",
       "    </tr>\n",
       "    <tr>\n",
       "      <th>164579</th>\n",
       "      <td>14432952</td>\n",
       "      <td>40.0</td>\n",
       "      <td>15</td>\n",
       "    </tr>\n",
       "    <tr>\n",
       "      <th>164580</th>\n",
       "      <td>14432953</td>\n",
       "      <td>NaN</td>\n",
       "      <td>1</td>\n",
       "    </tr>\n",
       "    <tr>\n",
       "      <th>164581</th>\n",
       "      <td>14432954</td>\n",
       "      <td>11.0</td>\n",
       "      <td>1</td>\n",
       "    </tr>\n",
       "    <tr>\n",
       "      <th>164582</th>\n",
       "      <td>14432955</td>\n",
       "      <td>48.0</td>\n",
       "      <td>15</td>\n",
       "    </tr>\n",
       "    <tr>\n",
       "      <th>164583</th>\n",
       "      <td>14432956</td>\n",
       "      <td>29.0</td>\n",
       "      <td>6</td>\n",
       "    </tr>\n",
       "  </tbody>\n",
       "</table>\n",
       "<p>164584 rows × 3 columns</p>\n",
       "</div>"
      ],
      "text/plain": [
       "          lot_id  bid_amount  bid_id\n",
       "0       13488337    125000.0      20\n",
       "1       13540818    209950.0      33\n",
       "2       13562040    194288.0      17\n",
       "3       13567416    362000.0      75\n",
       "4       13567473    520000.0      51\n",
       "...          ...         ...     ...\n",
       "164579  14432952        40.0      15\n",
       "164580  14432953         NaN       1\n",
       "164581  14432954        11.0       1\n",
       "164582  14432955        48.0      15\n",
       "164583  14432956        29.0       6\n",
       "\n",
       "[164584 rows x 3 columns]"
      ]
     },
     "execution_count": 34,
     "metadata": {},
     "output_type": "execute_result"
    }
   ],
   "source": [
    "flattened = pd.DataFrame(table.to_records())\n",
    "flattened\n",
    "df.a = df.a.astype(float)"
   ]
  },
  {
   "cell_type": "code",
   "execution_count": 44,
   "id": "0ac03bc1",
   "metadata": {},
   "outputs": [
    {
     "data": {
      "text/html": [
       "<div>\n",
       "<style scoped>\n",
       "    .dataframe tbody tr th:only-of-type {\n",
       "        vertical-align: middle;\n",
       "    }\n",
       "\n",
       "    .dataframe tbody tr th {\n",
       "        vertical-align: top;\n",
       "    }\n",
       "\n",
       "    .dataframe thead th {\n",
       "        text-align: right;\n",
       "    }\n",
       "</style>\n",
       "<table border=\"1\" class=\"dataframe\">\n",
       "  <thead>\n",
       "    <tr style=\"text-align: right;\">\n",
       "      <th></th>\n",
       "      <th>bid_amount</th>\n",
       "      <th>bid_id</th>\n",
       "    </tr>\n",
       "  </thead>\n",
       "  <tbody>\n",
       "    <tr>\n",
       "      <th>0</th>\n",
       "      <td>125000.0</td>\n",
       "      <td>20</td>\n",
       "    </tr>\n",
       "    <tr>\n",
       "      <th>1</th>\n",
       "      <td>209950.0</td>\n",
       "      <td>33</td>\n",
       "    </tr>\n",
       "    <tr>\n",
       "      <th>2</th>\n",
       "      <td>194288.0</td>\n",
       "      <td>17</td>\n",
       "    </tr>\n",
       "    <tr>\n",
       "      <th>3</th>\n",
       "      <td>362000.0</td>\n",
       "      <td>75</td>\n",
       "    </tr>\n",
       "    <tr>\n",
       "      <th>4</th>\n",
       "      <td>520000.0</td>\n",
       "      <td>51</td>\n",
       "    </tr>\n",
       "    <tr>\n",
       "      <th>...</th>\n",
       "      <td>...</td>\n",
       "      <td>...</td>\n",
       "    </tr>\n",
       "    <tr>\n",
       "      <th>164579</th>\n",
       "      <td>40.0</td>\n",
       "      <td>15</td>\n",
       "    </tr>\n",
       "    <tr>\n",
       "      <th>164580</th>\n",
       "      <td>NaN</td>\n",
       "      <td>1</td>\n",
       "    </tr>\n",
       "    <tr>\n",
       "      <th>164581</th>\n",
       "      <td>11.0</td>\n",
       "      <td>1</td>\n",
       "    </tr>\n",
       "    <tr>\n",
       "      <th>164582</th>\n",
       "      <td>48.0</td>\n",
       "      <td>15</td>\n",
       "    </tr>\n",
       "    <tr>\n",
       "      <th>164583</th>\n",
       "      <td>29.0</td>\n",
       "      <td>6</td>\n",
       "    </tr>\n",
       "  </tbody>\n",
       "</table>\n",
       "<p>164584 rows × 2 columns</p>\n",
       "</div>"
      ],
      "text/plain": [
       "        bid_amount  bid_id\n",
       "0         125000.0      20\n",
       "1         209950.0      33\n",
       "2         194288.0      17\n",
       "3         362000.0      75\n",
       "4         520000.0      51\n",
       "...            ...     ...\n",
       "164579        40.0      15\n",
       "164580         NaN       1\n",
       "164581        11.0       1\n",
       "164582        48.0      15\n",
       "164583        29.0       6\n",
       "\n",
       "[164584 rows x 2 columns]"
      ]
     },
     "execution_count": 44,
     "metadata": {},
     "output_type": "execute_result"
    }
   ],
   "source": [
    "flattened.bid_amount = flattened.bid_amount.astype(float)\n",
    "flattened"
   ]
  },
  {
   "cell_type": "code",
   "execution_count": 46,
   "id": "22be9087",
   "metadata": {},
   "outputs": [
    {
     "data": {
      "text/plain": [
       "340080000000.0"
      ]
     },
     "execution_count": 46,
     "metadata": {},
     "output_type": "execute_result"
    }
   ],
   "source": [
    "column = flattened[\"bid_amount\"]\n",
    "max_value = column.max()\n",
    "max_value"
   ]
  },
  {
   "cell_type": "code",
   "execution_count": 36,
   "id": "f54c38eb",
   "metadata": {},
   "outputs": [
    {
     "data": {
      "text/html": [
       "<div>\n",
       "<style scoped>\n",
       "    .dataframe tbody tr th:only-of-type {\n",
       "        vertical-align: middle;\n",
       "    }\n",
       "\n",
       "    .dataframe tbody tr th {\n",
       "        vertical-align: top;\n",
       "    }\n",
       "\n",
       "    .dataframe thead th {\n",
       "        text-align: right;\n",
       "    }\n",
       "</style>\n",
       "<table border=\"1\" class=\"dataframe\">\n",
       "  <thead>\n",
       "    <tr style=\"text-align: right;\">\n",
       "      <th></th>\n",
       "      <th>bid_amount</th>\n",
       "      <th>bid_id</th>\n",
       "    </tr>\n",
       "  </thead>\n",
       "  <tbody>\n",
       "    <tr>\n",
       "      <th>0</th>\n",
       "      <td>3.675547e-07</td>\n",
       "      <td>0.142857</td>\n",
       "    </tr>\n",
       "    <tr>\n",
       "      <th>1</th>\n",
       "      <td>6.173489e-07</td>\n",
       "      <td>0.240602</td>\n",
       "    </tr>\n",
       "    <tr>\n",
       "      <th>2</th>\n",
       "      <td>5.712950e-07</td>\n",
       "      <td>0.120301</td>\n",
       "    </tr>\n",
       "    <tr>\n",
       "      <th>3</th>\n",
       "      <td>1.064450e-06</td>\n",
       "      <td>0.556391</td>\n",
       "    </tr>\n",
       "    <tr>\n",
       "      <th>4</th>\n",
       "      <td>1.529046e-06</td>\n",
       "      <td>0.375940</td>\n",
       "    </tr>\n",
       "    <tr>\n",
       "      <th>...</th>\n",
       "      <td>...</td>\n",
       "      <td>...</td>\n",
       "    </tr>\n",
       "    <tr>\n",
       "      <th>164579</th>\n",
       "      <td>1.117384e-10</td>\n",
       "      <td>0.105263</td>\n",
       "    </tr>\n",
       "    <tr>\n",
       "      <th>164580</th>\n",
       "      <td>NaN</td>\n",
       "      <td>0.000000</td>\n",
       "    </tr>\n",
       "    <tr>\n",
       "      <th>164581</th>\n",
       "      <td>2.646436e-11</td>\n",
       "      <td>0.000000</td>\n",
       "    </tr>\n",
       "    <tr>\n",
       "      <th>164582</th>\n",
       "      <td>1.352623e-10</td>\n",
       "      <td>0.105263</td>\n",
       "    </tr>\n",
       "    <tr>\n",
       "      <th>164583</th>\n",
       "      <td>7.939308e-11</td>\n",
       "      <td>0.037594</td>\n",
       "    </tr>\n",
       "  </tbody>\n",
       "</table>\n",
       "<p>164584 rows × 2 columns</p>\n",
       "</div>"
      ],
      "text/plain": [
       "          bid_amount    bid_id\n",
       "0       3.675547e-07  0.142857\n",
       "1       6.173489e-07  0.240602\n",
       "2       5.712950e-07  0.120301\n",
       "3       1.064450e-06  0.556391\n",
       "4       1.529046e-06  0.375940\n",
       "...              ...       ...\n",
       "164579  1.117384e-10  0.105263\n",
       "164580           NaN  0.000000\n",
       "164581  2.646436e-11  0.000000\n",
       "164582  1.352623e-10  0.105263\n",
       "164583  7.939308e-11  0.037594\n",
       "\n",
       "[164584 rows x 2 columns]"
      ]
     },
     "execution_count": 36,
     "metadata": {},
     "output_type": "execute_result"
    }
   ],
   "source": [
    "flattened = flattened.drop(['lot_id'], axis=1)\n",
    "scaler = MinMaxScaler()\n",
    "scaler.fit(flattened)\n",
    "#scaler.min_max_\n",
    "scaled_data = scaler.transform(flattened)\n",
    "df_scaled = pd.DataFrame(scaled_data, columns=flattened.columns)\n",
    "df_scaled"
   ]
  },
  {
   "cell_type": "code",
   "execution_count": 39,
   "id": "18d72b28",
   "metadata": {},
   "outputs": [],
   "source": [
    "df_scaled = df_scaled.dropna"
   ]
  },
  {
   "cell_type": "code",
   "execution_count": 38,
   "id": "3f0df034",
   "metadata": {},
   "outputs": [
    {
     "data": {
      "text/plain": [
       "<AxesSubplot:xlabel='bid_id', ylabel='bid_amount'>"
      ]
     },
     "execution_count": 38,
     "metadata": {},
     "output_type": "execute_result"
    },
    {
     "data": {
      "image/png": "[encoded data removed]",
      "text/plain": [
       "<Figure size 432x288 with 1 Axes>"
      ]
     },
     "metadata": {
      "needs_background": "light"
     },
     "output_type": "display_data"
    }
   ],
   "source": [
    "\n",
    "import seaborn as sns\n",
    "sns.scatterplot(data=df_scaled, x=\"bid_id\", y=\"bid_amount\")"
   ]
  },
  {
   "cell_type": "code",
   "execution_count": null,
   "id": "042e91a5",
   "metadata": {},
   "outputs": [],
   "source": []
  },
  {
   "cell_type": "code",
   "execution_count": null,
   "id": "b2d25134",
   "metadata": {},
   "outputs": [],
   "source": []
  }
 ],
 "metadata": {
  "kernelspec": {
   "display_name": "Python 3",
   "language": "python",
   "name": "python3"
  },
  "language_info": {
   "codemirror_mode": {
    "name": "ipython",
    "version": 3
   },
   "file_extension": ".py",
   "mimetype": "text/x-python",
   "name": "python",
   "nbconvert_exporter": "python",
   "pygments_lexer": "ipython3",
   "version": "3.7.9"
  }
 },
 "nbformat": 4,
 "nbformat_minor": 5
}
