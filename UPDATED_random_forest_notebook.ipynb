{
 "cells": [
  {
   "cell_type": "markdown",
   "metadata": {
    "collapsed": true,
    "pycharm": {
     "name": "#%% md\n"
    }
   },
   "source": [
    "### Import Packages"
   ]
  },
  {
   "cell_type": "code",
   "execution_count": 61,
   "metadata": {
    "pycharm": {
     "name": "#%%\n"
    }
   },
   "outputs": [],
   "source": [
    "import numpy as np\n",
    "import pandas as pd\n",
    "from sklearn.ensemble import RandomForestClassifier\n",
    "from sklearn.metrics import accuracy_score,f1_score,classification_report,confusion_matrix\n",
    "from sklearn.model_selection import cross_val_score\n",
    "from sklearn.preprocessing import StandardScaler\n",
    "from hyperopt import tpe, hp, fmin, STATUS_OK,Trials\n",
    "from hyperopt.pyll.base import scope\n",
    "from sklearn.model_selection import train_test_split\n",
    "from sklearn.metrics import roc_curve, auc,plot_confusion_matrix\n",
    "import seaborn as sns\n",
    "import matplotlib.pyplot as plt\n",
    "from sklearn.model_selection import cross_val_score"
   ]
  },
  {
   "cell_type": "markdown",
   "metadata": {},
   "source": [
    "### Helper functions"
   ]
  },
  {
   "cell_type": "code",
   "execution_count": 62,
   "metadata": {
    "pycharm": {
     "name": "#%%\n"
    }
   },
   "outputs": [],
   "source": [
    "def Performance_ROC(Model,Y,X,loc):\n",
    "    # Perforamnce of the model\n",
    "    fpr, tpr, _ = roc_curve(Y, Model.predict_proba(X)[:,1])\n",
    "    AUC  = auc(fpr, tpr)#%% md\n",
    "    print ('the AUC is : %0.4f' %  AUC)\n",
    "    plt.figure()\n",
    "    plt.plot(fpr, tpr, label='ROC curve (area = %0.4f)' % AUC)\n",
    "    plt.plot([0, 1], [0, 1], 'k--')\n",
    "    plt.xlim([0.0, 1.0])\n",
    "    plt.ylim([0.0, 1.05])\n",
    "    plt.xlabel('False Positive Rate')\n",
    "    plt.ylabel('True Positive Rate')\n",
    "    plt.title('ROC Curve')#%%\n",
    "    plt.legend(loc=\"lower right\")\n",
    "    plt.savefig(loc)\n",
    "    plt.show()"
   ]
  },
  {
   "cell_type": "code",
   "execution_count": 63,
   "metadata": {
    "pycharm": {
     "name": "#%%\n"
    }
   },
   "outputs": [],
   "source": [
    "def Performance_ROC_multi(ModelA,ModelB,Y,X, loc):\n",
    "     fpr, tpr, _ = roc_curve(Y, ModelA.predict_proba(X)[:,1])\n",
    "     AUC  = round(auc(fpr, tpr),5)\n",
    "     print('the AUC of the model before HyperOpt is : %0.4f' %  AUC)\n",
    "     plt.plot(fpr,tpr,label=\"Model before HyperOpt, auc=\"+str(AUC))\n",
    "\n",
    "     fpr, tpr, _ = roc_curve(Y, ModelB.predict_proba(X)[:,1])\n",
    "     AUC  = round(auc(fpr, tpr),5)\n",
    "     print('the AUC of the model after HyperOpt is : %0.4f' %  AUC)\n",
    "     plt.plot(fpr,tpr,label=\"Model after HyperOpt, auc=\"+str(AUC))\n",
    "\n",
    "     plt.plot([0, 1], [0, 1], 'k--')\n",
    "     plt.xlim([0.0, 1.0])\n",
    "     plt.ylim([0.0, 1.05])\n",
    "     plt.xlabel('False Positive Rate')\n",
    "     plt.ylabel('True Positive Rate')\n",
    "     plt.title('ROC Curve')#%%\n",
    "     plt.legend(loc=\"lower right\")\n",
    "     plt.savefig(loc)\n",
    "     plt.show()"
   ]
  },
  {
   "cell_type": "code",
   "execution_count": 64,
   "metadata": {
    "pycharm": {
     "name": "#%%A\n"
    }
   },
   "outputs": [],
   "source": [
    "def Performance_conf(Model,X,Y,loc):\n",
    "    plot_confusion_matrix(Model,X,Y)\n",
    "    plt.savefig(loc)\n",
    "    plt.show()\n"
   ]
  },
  {
   "cell_type": "code",
   "execution_count": 65,
   "metadata": {
    "pycharm": {
     "name": "#%%\n"
    }
   },
   "outputs": [],
   "source": [
    "def Performance_scores(Model,X,Y):\n",
    "    predicts = Model.predict(X)\n",
    "    accuracy = accuracy_score(Y, predicts)\n",
    "    f1 = f1_score(Y,predicts)\n",
    "    print('Accuracy; ', round(accuracy*100,2) , '%')\n",
    "    print('F1 score: ',round(f1*100,2) , '%')"
   ]
  },
  {
   "cell_type": "markdown",
   "metadata": {
    "pycharm": {
     "name": "#%% md\n"
    }
   },
   "source": [
    "### Import Data"
   ]
  },
  {
   "cell_type": "code",
   "execution_count": 66,
   "metadata": {
    "pycharm": {
     "name": "#%%\n"
    }
   },
   "outputs": [],
   "source": [
    "data = pd.read_csv('data_issold.csv')\n",
    "# remove access column\n",
    "data =data.drop('increment_type_nl Biedrange 0-15 1 euro (Beuknoot)', axis = 1)"
   ]
  },
  {
   "cell_type": "code",
   "execution_count": 67,
   "metadata": {
    "pycharm": {
     "name": "#%%\n"
    }
   },
   "outputs": [
    {
     "data": {
      "text/plain": [
       "<AxesSubplot:>"
      ]
     },
     "execution_count": 67,
     "metadata": {},
     "output_type": "execute_result"
    },
    {
     "data": {
      "image/png": "[encoded data removed]",
      "text/plain": [
       "<Figure size 432x288 with 1 Axes>"
      ]
     },
     "metadata": {
      "needs_background": "light"
     },
     "output_type": "display_data"
    }
   ],
   "source": [
    "# Check for whether labels are imbalanced\n",
    "data['is_sold'].value_counts().plot(kind='bar')"
   ]
  },
  {
   "cell_type": "code",
   "execution_count": 68,
   "metadata": {
    "pycharm": {
     "name": "#%%\n"
    }
   },
   "outputs": [
    {
     "data": {
      "text/html": [
       "<div>\n",
       "<style scoped>\n",
       "    .dataframe tbody tr th:only-of-type {\n",
       "        vertical-align: middle;\n",
       "    }\n",
       "\n",
       "    .dataframe tbody tr th {\n",
       "        vertical-align: top;\n",
       "    }\n",
       "\n",
       "    .dataframe thead th {\n",
       "        text-align: right;\n",
       "    }\n",
       "</style>\n",
       "<table border=\"1\" class=\"dataframe\">\n",
       "  <thead>\n",
       "    <tr style=\"text-align: right;\">\n",
       "      <th></th>\n",
       "      <th>auction_fee_tax_rate</th>\n",
       "      <th>is_1euro_kavel</th>\n",
       "      <th>is_sold</th>\n",
       "      <th>start_amount</th>\n",
       "      <th>bidding_window</th>\n",
       "      <th>is_homedelivery</th>\n",
       "      <th>is_public</th>\n",
       "      <th>is_automatic_credit</th>\n",
       "      <th>category_Accu-/ elektrisch gereedschap</th>\n",
       "      <th>category_Auto-onderdelen en accessoires</th>\n",
       "      <th>...</th>\n",
       "      <th>Day_3</th>\n",
       "      <th>Day_4</th>\n",
       "      <th>Day_5</th>\n",
       "      <th>Day_6</th>\n",
       "      <th>Month_1</th>\n",
       "      <th>Month_2</th>\n",
       "      <th>Month_3</th>\n",
       "      <th>increment_standard</th>\n",
       "      <th>increment_1euro</th>\n",
       "      <th>increment_other</th>\n",
       "    </tr>\n",
       "  </thead>\n",
       "  <tbody>\n",
       "    <tr>\n",
       "      <th>0</th>\n",
       "      <td>21</td>\n",
       "      <td>0</td>\n",
       "      <td>0</td>\n",
       "      <td>65.0</td>\n",
       "      <td>9360.0</td>\n",
       "      <td>1.0</td>\n",
       "      <td>1.0</td>\n",
       "      <td>0.0</td>\n",
       "      <td>0</td>\n",
       "      <td>0</td>\n",
       "      <td>...</td>\n",
       "      <td>1</td>\n",
       "      <td>0</td>\n",
       "      <td>0</td>\n",
       "      <td>0</td>\n",
       "      <td>1</td>\n",
       "      <td>0</td>\n",
       "      <td>0</td>\n",
       "      <td>1</td>\n",
       "      <td>0</td>\n",
       "      <td>0</td>\n",
       "    </tr>\n",
       "    <tr>\n",
       "      <th>1</th>\n",
       "      <td>21</td>\n",
       "      <td>0</td>\n",
       "      <td>0</td>\n",
       "      <td>335.0</td>\n",
       "      <td>7920.0</td>\n",
       "      <td>1.0</td>\n",
       "      <td>1.0</td>\n",
       "      <td>0.0</td>\n",
       "      <td>0</td>\n",
       "      <td>0</td>\n",
       "      <td>...</td>\n",
       "      <td>1</td>\n",
       "      <td>0</td>\n",
       "      <td>0</td>\n",
       "      <td>0</td>\n",
       "      <td>1</td>\n",
       "      <td>0</td>\n",
       "      <td>0</td>\n",
       "      <td>1</td>\n",
       "      <td>0</td>\n",
       "      <td>0</td>\n",
       "    </tr>\n",
       "    <tr>\n",
       "      <th>2</th>\n",
       "      <td>21</td>\n",
       "      <td>0</td>\n",
       "      <td>0</td>\n",
       "      <td>65.0</td>\n",
       "      <td>7920.0</td>\n",
       "      <td>1.0</td>\n",
       "      <td>1.0</td>\n",
       "      <td>0.0</td>\n",
       "      <td>0</td>\n",
       "      <td>0</td>\n",
       "      <td>...</td>\n",
       "      <td>1</td>\n",
       "      <td>0</td>\n",
       "      <td>0</td>\n",
       "      <td>0</td>\n",
       "      <td>1</td>\n",
       "      <td>0</td>\n",
       "      <td>0</td>\n",
       "      <td>1</td>\n",
       "      <td>0</td>\n",
       "      <td>0</td>\n",
       "    </tr>\n",
       "    <tr>\n",
       "      <th>3</th>\n",
       "      <td>21</td>\n",
       "      <td>1</td>\n",
       "      <td>0</td>\n",
       "      <td>1.0</td>\n",
       "      <td>2220.0</td>\n",
       "      <td>1.0</td>\n",
       "      <td>0.0</td>\n",
       "      <td>1.0</td>\n",
       "      <td>0</td>\n",
       "      <td>0</td>\n",
       "      <td>...</td>\n",
       "      <td>0</td>\n",
       "      <td>0</td>\n",
       "      <td>0</td>\n",
       "      <td>0</td>\n",
       "      <td>1</td>\n",
       "      <td>0</td>\n",
       "      <td>0</td>\n",
       "      <td>0</td>\n",
       "      <td>1</td>\n",
       "      <td>0</td>\n",
       "    </tr>\n",
       "    <tr>\n",
       "      <th>4</th>\n",
       "      <td>21</td>\n",
       "      <td>1</td>\n",
       "      <td>1</td>\n",
       "      <td>1.0</td>\n",
       "      <td>2160.0</td>\n",
       "      <td>1.0</td>\n",
       "      <td>0.0</td>\n",
       "      <td>1.0</td>\n",
       "      <td>0</td>\n",
       "      <td>0</td>\n",
       "      <td>...</td>\n",
       "      <td>1</td>\n",
       "      <td>0</td>\n",
       "      <td>0</td>\n",
       "      <td>0</td>\n",
       "      <td>1</td>\n",
       "      <td>0</td>\n",
       "      <td>0</td>\n",
       "      <td>0</td>\n",
       "      <td>1</td>\n",
       "      <td>0</td>\n",
       "    </tr>\n",
       "  </tbody>\n",
       "</table>\n",
       "<p>5 rows × 43 columns</p>\n",
       "</div>"
      ],
      "text/plain": [
       "   auction_fee_tax_rate  is_1euro_kavel  is_sold  start_amount  \\\n",
       "0                    21               0        0          65.0   \n",
       "1                    21               0        0         335.0   \n",
       "2                    21               0        0          65.0   \n",
       "3                    21               1        0           1.0   \n",
       "4                    21               1        1           1.0   \n",
       "\n",
       "   bidding_window  is_homedelivery  is_public  is_automatic_credit  \\\n",
       "0          9360.0              1.0        1.0                  0.0   \n",
       "1          7920.0              1.0        1.0                  0.0   \n",
       "2          7920.0              1.0        1.0                  0.0   \n",
       "3          2220.0              1.0        0.0                  1.0   \n",
       "4          2160.0              1.0        0.0                  1.0   \n",
       "\n",
       "   category_Accu-/ elektrisch gereedschap  \\\n",
       "0                                       0   \n",
       "1                                       0   \n",
       "2                                       0   \n",
       "3                                       0   \n",
       "4                                       0   \n",
       "\n",
       "   category_Auto-onderdelen en accessoires  ...  Day_3  Day_4  Day_5  Day_6  \\\n",
       "0                                        0  ...      1      0      0      0   \n",
       "1                                        0  ...      1      0      0      0   \n",
       "2                                        0  ...      1      0      0      0   \n",
       "3                                        0  ...      0      0      0      0   \n",
       "4                                        0  ...      1      0      0      0   \n",
       "\n",
       "   Month_1  Month_2  Month_3  increment_standard  increment_1euro  \\\n",
       "0        1        0        0                   1                0   \n",
       "1        1        0        0                   1                0   \n",
       "2        1        0        0                   1                0   \n",
       "3        1        0        0                   0                1   \n",
       "4        1        0        0                   0                1   \n",
       "\n",
       "   increment_other  \n",
       "0                0  \n",
       "1                0  \n",
       "2                0  \n",
       "3                0  \n",
       "4                0  \n",
       "\n",
       "[5 rows x 43 columns]"
      ]
     },
     "execution_count": 68,
     "metadata": {},
     "output_type": "execute_result"
    }
   ],
   "source": [
    "# show head\n",
    "data.head()"
   ]
  },
  {
   "cell_type": "code",
   "execution_count": 69,
   "metadata": {
    "pycharm": {
     "name": "#%%\n"
    }
   },
   "outputs": [
    {
     "data": {
      "text/plain": [
       "(66271, 43)"
      ]
     },
     "execution_count": 69,
     "metadata": {},
     "output_type": "execute_result"
    }
   ],
   "source": [
    "#show shape\n",
    "data.shape"
   ]
  },
  {
   "cell_type": "code",
   "execution_count": 70,
   "metadata": {
    "pycharm": {
     "name": "#%%\n"
    }
   },
   "outputs": [
    {
     "data": {
      "text/plain": [
       "['auction_fee_tax_rate',\n",
       " 'is_1euro_kavel',\n",
       " 'is_sold',\n",
       " 'start_amount',\n",
       " 'bidding_window',\n",
       " 'is_homedelivery',\n",
       " 'is_public',\n",
       " 'is_automatic_credit',\n",
       " 'category_Accu-/ elektrisch gereedschap',\n",
       " 'category_Auto-onderdelen en accessoires',\n",
       " 'category_Computers en Software',\n",
       " 'category_Dameskleding en -schoenen',\n",
       " 'category_Herenkleding en -schoenen',\n",
       " 'category_Horloges',\n",
       " 'category_Kantoorinrichting',\n",
       " 'category_Other',\n",
       " 'category_Sanitair',\n",
       " 'category_Sieraden',\n",
       " 'category_Slapen',\n",
       " 'category_Tuin en terras',\n",
       " 'category_Unisex',\n",
       " 'category_Verlichting',\n",
       " 'category_Woninginrichting',\n",
       " 'condition_New',\n",
       " 'condition_Old',\n",
       " 'seller_type_New Seller',\n",
       " 'seller_type_Seller',\n",
       " 'sourcing_company_3rdpartydailyspecials',\n",
       " 'sourcing_company_art',\n",
       " 'sourcing_company_bva',\n",
       " 'Day_0',\n",
       " 'Day_1',\n",
       " 'Day_2',\n",
       " 'Day_3',\n",
       " 'Day_4',\n",
       " 'Day_5',\n",
       " 'Day_6',\n",
       " 'Month_1',\n",
       " 'Month_2',\n",
       " 'Month_3',\n",
       " 'increment_standard',\n",
       " 'increment_1euro',\n",
       " 'increment_other']"
      ]
     },
     "execution_count": 70,
     "metadata": {},
     "output_type": "execute_result"
    }
   ],
   "source": [
    "#show list of columns\n",
    "list(data.columns)"
   ]
  },
  {
   "cell_type": "markdown",
   "metadata": {
    "pycharm": {
     "name": "#%% md\n"
    }
   },
   "source": [
    "### Split Data 20% split"
   ]
  },
  {
   "cell_type": "code",
   "execution_count": 71,
   "metadata": {
    "pycharm": {
     "name": "#%%\n"
    }
   },
   "outputs": [],
   "source": [
    "# Labels are the values we want to predict\n",
    "labels = data['is_sold']\n",
    "# Remove the labels from the features\n",
    "features= data.drop('is_sold', axis = 1)\n",
    "# Saving feature names for later use\n",
    "feature_list = list(features.columns)\n",
    "# Convert to numpy array\n",
    "# features = np.array(features)"
   ]
  },
  {
   "cell_type": "code",
   "execution_count": 72,
   "metadata": {
    "pycharm": {
     "name": "#%%\n"
    }
   },
   "outputs": [
    {
     "name": "stdout",
     "output_type": "stream",
     "text": [
      "The shape of our data is: (66271, 43)\n",
      "Training Features Shape: (53016, 42)\n",
      "Training Labels Shape: (53016,)\n",
      "Testing Features Shape: (13255, 42)\n",
      "Testing Labels Shape: (13255,)\n"
     ]
    }
   ],
   "source": [
    "# Split the data into training and testing sets\n",
    "train_features, test_features, train_labels, test_labels = train_test_split(features,\n",
    "                                                                            labels,\n",
    "                                                                            test_size = 0.20,\n",
    "                                                                            random_state = 42)\n",
    "\n",
    "print('The shape of our data is:', data.shape)\n",
    "print('Training Features Shape:', train_features.shape)\n",
    "print('Training Labels Shape:', train_labels.shape)\n",
    "print('Testing Features Shape:', test_features.shape)\n",
    "print('Testing Labels Shape:', test_labels.shape)"
   ]
  },
  {
   "cell_type": "markdown",
   "metadata": {
    "pycharm": {
     "name": "#%% md\n"
    }
   },
   "source": [
    "### Standerdize data using StandardScaler"
   ]
  },
  {
   "cell_type": "code",
   "execution_count": 73,
   "metadata": {
    "pycharm": {
     "name": "#%%\n"
    }
   },
   "outputs": [],
   "source": [
    "# standardize the feature variables\n",
    "# scaler = StandardScaler()\n",
    "# train_features = scaler.fit_transform(train_features)\n",
    "# test_features = scaler.fit_transform(test_features)"
   ]
  },
  {
   "cell_type": "markdown",
   "metadata": {
    "pycharm": {
     "name": "#%% md\n"
    }
   },
   "source": [
    "### Random Forest without hyper parameter optimisation"
   ]
  },
  {
   "cell_type": "code",
   "execution_count": 74,
   "metadata": {
    "pycharm": {
     "name": "#%%\n"
    }
   },
   "outputs": [
    {
     "data": {
      "text/plain": [
       "RandomForestClassifier()"
      ]
     },
     "execution_count": 74,
     "metadata": {},
     "output_type": "execute_result"
    }
   ],
   "source": [
    "RF0=RandomForestClassifier()\n",
    "RF0.fit(train_features, train_labels)"
   ]
  },
  {
   "cell_type": "code",
   "execution_count": 75,
   "metadata": {
    "pycharm": {
     "name": "#%%\n"
    }
   },
   "outputs": [
    {
     "name": "stdout",
     "output_type": "stream",
     "text": [
      "Accuracy;  88.69 %\n",
      "F1 score:  90.76 %\n"
     ]
    }
   ],
   "source": [
    "# General performance scores\n",
    "Performance_scores(Model=RF0,Y=test_labels,X=test_features)"
   ]
  },
  {
   "cell_type": "code",
   "execution_count": 76,
   "metadata": {
    "pycharm": {
     "name": "#%%\n"
    }
   },
   "outputs": [
    {
     "name": "stdout",
     "output_type": "stream",
     "text": [
      "the AUC is : 0.9190\n"
     ]
    },
    {
     "data": {
      "image/png": "[encoded data removed]",
      "text/plain": [
       "<Figure size 432x288 with 1 Axes>"
      ]
     },
     "metadata": {
      "needs_background": "light"
     },
     "output_type": "display_data"
    }
   ],
   "source": [
    "# ROC curve\n",
    "Performance_ROC(Model=RF0,Y=test_labels,X=test_features,loc='Random Forest/ROC_base_model.png')"
   ]
  },
  {
   "cell_type": "code",
   "execution_count": 77,
   "metadata": {
    "pycharm": {
     "name": "#%%\n"
    }
   },
   "outputs": [
    {
     "data": {
      "image/png": "[encoded data removed]",
      "text/plain": [
       "<Figure size 432x288 with 2 Axes>"
      ]
     },
     "metadata": {
      "needs_background": "light"
     },
     "output_type": "display_data"
    }
   ],
   "source": [
    "# Confusion matrix\n",
    "Performance_conf(Model=RF0,Y=test_labels,X=test_features,loc='Random Forest/CM_base_model.png')"
   ]
  },
  {
   "cell_type": "code",
   "execution_count": null,
   "metadata": {
    "pycharm": {
     "name": "#%%\n"
    }
   },
   "outputs": [],
   "source": []
  },
  {
   "cell_type": "markdown",
   "metadata": {},
   "source": [
    "### Random Forest using Hyperopt"
   ]
  },
  {
   "cell_type": "code",
   "execution_count": 18,
   "metadata": {
    "pycharm": {
     "name": "#%%\n"
    }
   },
   "outputs": [
    {
     "name": "stdout",
     "output_type": "stream",
     "text": [
      "new best:                                                                                                              \n",
      "0.8828366654092796                                                                                                     \n",
      "{'criterion': 'entropy', 'max_depth': 12, 'max_features': 36, 'min_samples_leaf': 4, 'n_estimators': 233}              \n",
      "new best:                                                                                                              \n",
      "0.8828366654092796                                                                                                     \n",
      "{'criterion': 'entropy', 'max_depth': 16, 'max_features': 24, 'min_samples_leaf': 9, 'n_estimators': 264}              \n",
      "new best:                                                                                                              \n",
      "0.8828366654092796                                                                                                     \n",
      "{'criterion': 'entropy', 'max_depth': 12, 'max_features': 35, 'min_samples_leaf': 7, 'n_estimators': 491}              \n",
      "new best:                                                                                                              \n",
      "0.8828366654092796                                                                                                     \n",
      "{'criterion': 'entropy', 'max_depth': 14, 'max_features': 28, 'min_samples_leaf': 7, 'n_estimators': 452}              \n",
      "new best:                                                                                                              \n",
      "0.885250848736326                                                                                                      \n",
      "{'criterion': 'entropy', 'max_depth': 17, 'max_features': 31, 'min_samples_leaf': 2, 'n_estimators': 322}              \n",
      "new best:                                                                                                              \n",
      "0.885250848736326                                                                                                      \n",
      "{'criterion': 'gini', 'max_depth': 4, 'max_features': 29, 'min_samples_leaf': 11, 'n_estimators': 337}                 \n",
      "new best:                                                                                                              \n",
      "0.885250848736326                                                                                                      \n",
      "{'criterion': 'gini', 'max_depth': 7, 'max_features': 2, 'min_samples_leaf': 8, 'n_estimators': 147}                   \n",
      "new best:                                                                                                              \n",
      "0.885250848736326                                                                                                      \n",
      "{'criterion': 'gini', 'max_depth': 2, 'max_features': 31, 'min_samples_leaf': 8, 'n_estimators': 196}                  \n",
      "new best:                                                                                                              \n",
      "0.885250848736326                                                                                                      \n",
      "{'criterion': 'gini', 'max_depth': 14, 'max_features': 26, 'min_samples_leaf': 11, 'n_estimators': 112}                \n",
      "new best:                                                                                                              \n",
      "0.885250848736326                                                                                                      \n",
      "{'criterion': 'entropy', 'max_depth': 11, 'max_features': 12, 'min_samples_leaf': 10, 'n_estimators': 315}             \n",
      "new best:                                                                                                              \n",
      "0.885250848736326                                                                                                      \n",
      "{'criterion': 'gini', 'max_depth': 2, 'max_features': 39, 'min_samples_leaf': 8, 'n_estimators': 438}                  \n",
      "new best:                                                                                                              \n",
      "0.885250848736326                                                                                                      \n",
      "{'criterion': 'entropy', 'max_depth': 10, 'max_features': 16, 'min_samples_leaf': 13, 'n_estimators': 375}             \n",
      "new best:                                                                                                              \n",
      "0.885250848736326                                                                                                      \n",
      "{'criterion': 'gini', 'max_depth': 4, 'max_features': 9, 'min_samples_leaf': 3, 'n_estimators': 475}                   \n",
      "new best:                                                                                                              \n",
      "0.885250848736326                                                                                                      \n",
      "{'criterion': 'gini', 'max_depth': 18, 'max_features': 21, 'min_samples_leaf': 1, 'n_estimators': 438}                 \n",
      "new best:                                                                                                              \n",
      "0.885250848736326                                                                                                      \n",
      "{'criterion': 'gini', 'max_depth': 2, 'max_features': 31, 'min_samples_leaf': 5, 'n_estimators': 495}                  \n",
      "new best:                                                                                                              \n",
      "0.885250848736326                                                                                                      \n",
      "{'criterion': 'gini', 'max_depth': 16, 'max_features': 4, 'min_samples_leaf': 12, 'n_estimators': 445}                 \n",
      "new best:                                                                                                              \n",
      "0.885250848736326                                                                                                      \n",
      "{'criterion': 'entropy', 'max_depth': 17, 'max_features': 25, 'min_samples_leaf': 7, 'n_estimators': 269}              \n",
      "new best:                                                                                                              \n",
      "0.885250848736326                                                                                                      \n",
      "{'criterion': 'gini', 'max_depth': 7, 'max_features': 40, 'min_samples_leaf': 8, 'n_estimators': 438}                  \n",
      "new best:                                                                                                              \n",
      "0.885250848736326                                                                                                      \n",
      "{'criterion': 'entropy', 'max_depth': 14, 'max_features': 41, 'min_samples_leaf': 14, 'n_estimators': 190}             \n",
      "new best:                                                                                                              \n",
      "0.885250848736326                                                                                                      \n",
      "{'criterion': 'gini', 'max_depth': 5, 'max_features': 31, 'min_samples_leaf': 2, 'n_estimators': 207}                  \n",
      "new best:                                                                                                              \n",
      "0.885250848736326                                                                                                      \n",
      "{'criterion': 'entropy', 'max_depth': 19, 'max_features': 36, 'min_samples_leaf': 4, 'n_estimators': 360}              \n",
      "new best:                                                                                                              \n",
      "0.885250848736326                                                                                                      \n",
      "{'criterion': 'entropy', 'max_depth': 19, 'max_features': 36, 'min_samples_leaf': 6, 'n_estimators': 489}              \n",
      "new best:                                                                                                              \n",
      "0.885250848736326                                                                                                      \n",
      "{'criterion': 'entropy', 'max_depth': 19, 'max_features': 5, 'min_samples_leaf': 4, 'n_estimators': 114}               \n",
      "new best:                                                                                                              \n",
      "0.885250848736326                                                                                                      \n",
      "{'criterion': 'entropy', 'max_depth': 9, 'max_features': 20, 'min_samples_leaf': 2, 'n_estimators': 352}               \n",
      "new best:                                                                                                              \n",
      "0.885250848736326                                                                                                      \n",
      "{'criterion': 'entropy', 'max_depth': 13, 'max_features': 19, 'min_samples_leaf': 4, 'n_estimators': 360}              \n",
      "new best:                                                                                                              \n",
      "0.885250848736326                                                                                                      \n",
      "{'criterion': 'entropy', 'max_depth': 3, 'max_features': 6, 'min_samples_leaf': 2, 'n_estimators': 322}                \n",
      "new best:                                                                                                              \n",
      "0.885250848736326                                                                                                      \n",
      "{'criterion': 'entropy', 'max_depth': 6, 'max_features': 23, 'min_samples_leaf': 12, 'n_estimators': 144}              \n",
      "new best:                                                                                                              \n",
      "0.885250848736326                                                                                                      \n",
      "{'criterion': 'entropy', 'max_depth': 8, 'max_features': 1, 'min_samples_leaf': 4, 'n_estimators': 354}                \n",
      "new best:                                                                                                              \n",
      "0.8854017351942662                                                                                                     \n",
      "{'criterion': 'entropy', 'max_depth': 17, 'max_features': 32, 'min_samples_leaf': 2, 'n_estimators': 321}              \n",
      "new best:                                                                                                              \n",
      "0.8854017351942662                                                                                                     \n",
      "{'criterion': 'entropy', 'max_depth': 15, 'max_features': 32, 'min_samples_leaf': 10, 'n_estimators': 229}             \n",
      "new best:                                                                                                              \n",
      "0.8854771784232366                                                                                                     \n",
      "{'criterion': 'entropy', 'max_depth': 17, 'max_features': 32, 'min_samples_leaf': 2, 'n_estimators': 321}              \n",
      "new best:                                                                                                              \n",
      "0.8854771784232366                                                                                                     \n",
      "{'criterion': 'entropy', 'max_depth': 17, 'max_features': 32, 'min_samples_leaf': 9, 'n_estimators': 300}              \n",
      "new best:                                                                                                              \n",
      "0.8854771784232366                                                                                                     \n",
      "{'criterion': 'entropy', 'max_depth': 1, 'max_features': 27, 'min_samples_leaf': 2, 'n_estimators': 157}               \n",
      "new best:                                                                                                              \n",
      "0.8854771784232366                                                                                                     \n",
      "{'criterion': 'entropy', 'max_depth': 17, 'max_features': 13, 'min_samples_leaf': 2, 'n_estimators': 395}              \n",
      "new best:                                                                                                              \n",
      "0.8854771784232366                                                                                                     \n",
      "{'criterion': 'entropy', 'max_depth': 12, 'max_features': 11, 'min_samples_leaf': 6, 'n_estimators': 217}              \n",
      "new best:                                                                                                              \n",
      "0.8854771784232366                                                                                                     \n",
      "{'criterion': 'entropy', 'max_depth': 8, 'max_features': 3, 'min_samples_leaf': 1, 'n_estimators': 308}                \n",
      "new best:                                                                                                              \n",
      "0.8854771784232366                                                                                                     \n",
      "{'criterion': 'entropy', 'max_depth': 17, 'max_features': 17, 'min_samples_leaf': 13, 'n_estimators': 117}             \n",
      "new best:                                                                                                              \n",
      "0.8854771784232366                                                                                                     \n",
      "{'criterion': 'entropy', 'max_depth': 17, 'max_features': 37, 'min_samples_leaf': 5, 'n_estimators': 262}              \n",
      "new best:                                                                                                              \n",
      "0.8854771784232366                                                                                                     \n",
      "{'criterion': 'entropy', 'max_depth': 11, 'max_features': 32, 'min_samples_leaf': 14, 'n_estimators': 321}             \n",
      "new best:                                                                                                              \n",
      "0.8854771784232366                                                                                                     \n",
      "{'criterion': 'entropy', 'max_depth': 13, 'max_features': 22, 'min_samples_leaf': 3, 'n_estimators': 488}              \n",
      "new best:                                                                                                              \n",
      "0.8854771784232366                                                                                                     \n",
      "{'criterion': 'entropy', 'max_depth': 10, 'max_features': 8, 'min_samples_leaf': 11, 'n_estimators': 381}              \n",
      "new best:                                                                                                              \n",
      "0.8854771784232366                                                                                                     \n",
      "{'criterion': 'entropy', 'max_depth': 1, 'max_features': 30, 'min_samples_leaf': 9, 'n_estimators': 301}               \n",
      "new best:                                                                                                              \n",
      "0.8854771784232366                                                                                                     \n",
      "{'criterion': 'entropy', 'max_depth': 18, 'max_features': 38, 'min_samples_leaf': 2, 'n_estimators': 235}              \n",
      "new best:                                                                                                              \n",
      "0.8854771784232366                                                                                                     \n",
      "{'criterion': 'entropy', 'max_depth': 3, 'max_features': 18, 'min_samples_leaf': 2, 'n_estimators': 321}               \n",
      "new best:                                                                                                              \n",
      "0.8854771784232366                                                                                                     \n",
      "{'criterion': 'gini', 'max_depth': 9, 'max_features': 34, 'min_samples_leaf': 7, 'n_estimators': 297}                  \n",
      "new best:                                                                                                              \n"
     ]
    },
    {
     "name": "stdout",
     "output_type": "stream",
     "text": [
      "0.8854771784232366                                                                                                     \n",
      "{'criterion': 'entropy', 'max_depth': 16, 'max_features': 33, 'min_samples_leaf': 3, 'n_estimators': 101}              \n",
      "new best:                                                                                                              \n",
      "0.8854771784232366                                                                                                     \n",
      "{'criterion': 'gini', 'max_depth': 15, 'max_features': 14, 'min_samples_leaf': 10, 'n_estimators': 499}                \n",
      "new best:                                                                                                              \n",
      "0.8854771784232366                                                                                                     \n",
      "{'criterion': 'entropy', 'max_depth': 4, 'max_features': 7, 'min_samples_leaf': 11, 'n_estimators': 294}               \n",
      "new best:                                                                                                              \n",
      "0.8854771784232366                                                                                                     \n",
      "{'criterion': 'gini', 'max_depth': 5, 'max_features': 10, 'min_samples_leaf': 13, 'n_estimators': 158}                 \n",
      "new best:                                                                                                              \n",
      "0.8854771784232366                                                                                                     \n",
      "{'criterion': 'entropy', 'max_depth': 17, 'max_features': 35, 'min_samples_leaf': 1, 'n_estimators': 150}              \n",
      "new best:                                                                                                              \n",
      "0.8854771784232366                                                                                                     \n",
      "{'criterion': 'entropy', 'max_depth': 6, 'max_features': 28, 'min_samples_leaf': 5, 'n_estimators': 291}               \n",
      "new best:                                                                                                              \n",
      "0.8854771784232366                                                                                                     \n",
      "{'criterion': 'gini', 'max_depth': 7, 'max_features': 15, 'min_samples_leaf': 12, 'n_estimators': 160}                 \n",
      "new best:                                                                                                              \n",
      "0.8854771784232366                                                                                                     \n",
      "{'criterion': 'entropy', 'max_depth': 12, 'max_features': 32, 'min_samples_leaf': 2, 'n_estimators': 485}              \n",
      "new best:                                                                                                              \n",
      "0.8854771784232366                                                                                                     \n",
      "{'criterion': 'entropy', 'max_depth': 17, 'max_features': 24, 'min_samples_leaf': 8, 'n_estimators': 162}              \n",
      "new best:                                                                                                              \n",
      "0.8854771784232366                                                                                                     \n",
      "{'criterion': 'gini', 'max_depth': 14, 'max_features': 29, 'min_samples_leaf': 14, 'n_estimators': 404}                \n",
      "new best:                                                                                                              \n",
      "0.8854771784232366                                                                                                     \n",
      "{'criterion': 'entropy', 'max_depth': 2, 'max_features': 2, 'min_samples_leaf': 6, 'n_estimators': 358}                \n",
      "new best:                                                                                                              \n",
      "0.8854771784232366                                                                                                     \n",
      "{'criterion': 'entropy', 'max_depth': 10, 'max_features': 12, 'min_samples_leaf': 7, 'n_estimators': 283}              \n",
      "new best:                                                                                                              \n",
      "0.8854771784232366                                                                                                     \n",
      "{'criterion': 'gini', 'max_depth': 11, 'max_features': 39, 'min_samples_leaf': 2, 'n_estimators': 118}                 \n",
      "new best:                                                                                                              \n",
      "0.8854771784232366                                                                                                     \n",
      "{'criterion': 'entropy', 'max_depth': 17, 'max_features': 21, 'min_samples_leaf': 9, 'n_estimators': 345}              \n",
      "new best:                                                                                                              \n",
      "0.8854771784232366                                                                                                     \n",
      "{'criterion': 'entropy', 'max_depth': 16, 'max_features': 25, 'min_samples_leaf': 2, 'n_estimators': 440}              \n",
      "new best:                                                                                                              \n",
      "0.8854771784232366                                                                                                     \n",
      "{'criterion': 'entropy', 'max_depth': 5, 'max_features': 16, 'min_samples_leaf': 10, 'n_estimators': 180}              \n",
      "new best:                                                                                                              \n",
      "0.8854771784232366                                                                                                     \n",
      "{'criterion': 'gini', 'max_depth': 18, 'max_features': 9, 'min_samples_leaf': 8, 'n_estimators': 223}                  \n",
      "new best:                                                                                                              \n",
      "0.8854771784232366                                                                                                     \n",
      "{'criterion': 'entropy', 'max_depth': 4, 'max_features': 4, 'min_samples_leaf': 12, 'n_estimators': 106}               \n",
      "new best:                                                                                                              \n",
      "0.8854771784232366                                                                                                     \n",
      "{'criterion': 'entropy', 'max_depth': 9, 'max_features': 32, 'min_samples_leaf': 2, 'n_estimators': 424}               \n",
      "new best:                                                                                                              \n",
      "0.8854771784232366                                                                                                     \n",
      "{'criterion': 'entropy', 'max_depth': 7, 'max_features': 40, 'min_samples_leaf': 13, 'n_estimators': 197}              \n",
      "new best:                                                                                                              \n",
      "0.8854771784232366                                                                                                     \n",
      "{'criterion': 'entropy', 'max_depth': 19, 'max_features': 5, 'min_samples_leaf': 4, 'n_estimators': 433}               \n",
      "new best:                                                                                                              \n",
      "0.8854771784232366                                                                                                     \n",
      "{'criterion': 'entropy', 'max_depth': 17, 'max_features': 31, 'min_samples_leaf': 2, 'n_estimators': 322}              \n",
      "new best:                                                                                                              \n",
      "0.8854771784232366                                                                                                     \n",
      "{'criterion': 'entropy', 'max_depth': 17, 'max_features': 26, 'min_samples_leaf': 2, 'n_estimators': 402}              \n",
      "new best:                                                                                                              \n",
      "0.8854771784232366                                                                                                     \n",
      "{'criterion': 'entropy', 'max_depth': 17, 'max_features': 41, 'min_samples_leaf': 2, 'n_estimators': 398}              \n",
      "new best:                                                                                                              \n",
      "0.8854771784232366                                                                                                     \n",
      "{'criterion': 'entropy', 'max_depth': 8, 'max_features': 31, 'min_samples_leaf': 1, 'n_estimators': 159}               \n",
      "new best:                                                                                                              \n",
      "0.8854771784232366                                                                                                     \n",
      "{'criterion': 'entropy', 'max_depth': 3, 'max_features': 23, 'min_samples_leaf': 3, 'n_estimators': 280}               \n",
      "new best:                                                                                                              \n",
      "0.8854771784232366                                                                                                     \n",
      "{'criterion': 'entropy', 'max_depth': 13, 'max_features': 20, 'min_samples_leaf': 5, 'n_estimators': 321}              \n",
      "new best:                                                                                                              \n",
      "0.8854771784232366                                                                                                     \n",
      "{'criterion': 'entropy', 'max_depth': 6, 'max_features': 19, 'min_samples_leaf': 4, 'n_estimators': 258}               \n",
      "new best:                                                                                                              \n",
      "0.8854771784232366                                                                                                     \n",
      "{'criterion': 'entropy', 'max_depth': 17, 'max_features': 27, 'min_samples_leaf': 11, 'n_estimators': 287}             \n",
      "new best:                                                                                                              \n",
      "0.8854771784232366                                                                                                     \n",
      "{'criterion': 'entropy', 'max_depth': 1, 'max_features': 1, 'min_samples_leaf': 2, 'n_estimators': 178}                \n",
      "new best:                                                                                                              \n",
      "0.8854771784232366                                                                                                     \n",
      "{'criterion': 'entropy', 'max_depth': 15, 'max_features': 6, 'min_samples_leaf': 6, 'n_estimators': 425}               \n",
      "new best:                                                                                                              \n",
      "0.8854771784232366                                                                                                     \n",
      "{'criterion': 'entropy', 'max_depth': 17, 'max_features': 11, 'min_samples_leaf': 14, 'n_estimators': 130}             \n",
      "new best:                                                                                                              \n",
      "0.8854771784232366                                                                                                     \n",
      "{'criterion': 'gini', 'max_depth': 14, 'max_features': 32, 'min_samples_leaf': 7, 'n_estimators': 100}                 \n",
      "new best:                                                                                                              \n",
      "0.8855526216522067                                                                                                     \n",
      "{'criterion': 'entropy', 'max_depth': 19, 'max_features': 36, 'min_samples_leaf': 4, 'n_estimators': 360}              \n",
      "new best:                                                                                                              \n",
      "0.8855526216522067                                                                                                     \n",
      "{'criterion': 'entropy', 'max_depth': 19, 'max_features': 36, 'min_samples_leaf': 4, 'n_estimators': 360}              \n",
      "new best:                                                                                                              \n",
      "0.8855526216522067                                                                                                     \n",
      "{'criterion': 'entropy', 'max_depth': 19, 'max_features': 37, 'min_samples_leaf': 4, 'n_estimators': 182}              \n",
      "new best:                                                                                                              \n",
      "0.8855526216522067                                                                                                     \n",
      "{'criterion': 'entropy', 'max_depth': 19, 'max_features': 36, 'min_samples_leaf': 9, 'n_estimators': 323}              \n",
      "new best:                                                                                                              \n",
      "0.8855526216522067                                                                                                     \n",
      "{'criterion': 'entropy', 'max_depth': 19, 'max_features': 13, 'min_samples_leaf': 4, 'n_estimators': 360}              \n",
      "new best:                                                                                                              \n",
      "0.8855526216522067                                                                                                     \n",
      "{'criterion': 'gini', 'max_depth': 19, 'max_features': 36, 'min_samples_leaf': 4, 'n_estimators': 248}                 \n",
      "new best:                                                                                                              \n",
      "0.8855526216522067                                                                                                     \n",
      "{'criterion': 'entropy', 'max_depth': 19, 'max_features': 22, 'min_samples_leaf': 4, 'n_estimators': 222}              \n",
      "new best:                                                                                                              \n",
      "0.8855526216522067                                                                                                     \n",
      "{'criterion': 'entropy', 'max_depth': 12, 'max_features': 17, 'min_samples_leaf': 10, 'n_estimators': 286}             \n",
      "new best:                                                                                                              \n",
      "0.8855526216522067                                                                                                     \n",
      "{'criterion': 'entropy', 'max_depth': 2, 'max_features': 8, 'min_samples_leaf': 12, 'n_estimators': 193}               \n",
      "new best:                                                                                                              \n",
      "0.8855526216522067                                                                                                     \n",
      "{'criterion': 'gini', 'max_depth': 10, 'max_features': 30, 'min_samples_leaf': 13, 'n_estimators': 142}                \n",
      "new best:                                                                                                              \n",
      "0.8855526216522067                                                                                                     \n",
      "{'criterion': 'entropy', 'max_depth': 19, 'max_features': 36, 'min_samples_leaf': 4, 'n_estimators': 175}              \n",
      "new best:                                                                                                              \n",
      "0.8855526216522067                                                                                                     \n",
      "{'criterion': 'entropy', 'max_depth': 11, 'max_features': 36, 'min_samples_leaf': 4, 'n_estimators': 327}              \n",
      "new best:                                                                                                              \n",
      "0.8855526216522067                                                                                                     \n"
     ]
    },
    {
     "name": "stdout",
     "output_type": "stream",
     "text": [
      "{'criterion': 'entropy', 'max_depth': 8, 'max_features': 3, 'min_samples_leaf': 4, 'n_estimators': 374}                \n",
      "new best:                                                                                                              \n",
      "0.8855526216522067                                                                                                     \n",
      "{'criterion': 'entropy', 'max_depth': 18, 'max_features': 38, 'min_samples_leaf': 1, 'n_estimators': 181}              \n",
      "new best:                                                                                                              \n",
      "0.8855526216522067                                                                                                     \n",
      "{'criterion': 'gini', 'max_depth': 16, 'max_features': 14, 'min_samples_leaf': 8, 'n_estimators': 173}                 \n",
      "new best:                                                                                                              \n",
      "0.8855526216522067                                                                                                     \n",
      "{'criterion': 'entropy', 'max_depth': 5, 'max_features': 34, 'min_samples_leaf': 3, 'n_estimators': 273}               \n",
      "new best:                                                                                                              \n",
      "0.8855526216522067                                                                                                     \n",
      "{'criterion': 'entropy', 'max_depth': 9, 'max_features': 18, 'min_samples_leaf': 11, 'n_estimators': 314}              \n",
      "new best:                                                                                                              \n",
      "0.8855526216522067                                                                                                     \n",
      "{'criterion': 'entropy', 'max_depth': 4, 'max_features': 15, 'min_samples_leaf': 5, 'n_estimators': 474}               \n",
      "new best:                                                                                                              \n",
      "0.8855526216522067                                                                                                     \n",
      "{'criterion': 'entropy', 'max_depth': 19, 'max_features': 28, 'min_samples_leaf': 6, 'n_estimators': 176}              \n",
      "new best:                                                                                                              \n",
      "0.8855526216522067                                                                                                     \n",
      "{'criterion': 'gini', 'max_depth': 3, 'max_features': 35, 'min_samples_leaf': 14, 'n_estimators': 109}                 \n",
      "new best:                                                                                                              \n",
      "0.8855526216522067                                                                                                     \n",
      "{'criterion': 'entropy', 'max_depth': 13, 'max_features': 7, 'min_samples_leaf': 7, 'n_estimators': 136}               \n",
      "new best:                                                                                                              \n",
      "0.8855526216522067                                                                                                     \n",
      "{'criterion': 'entropy', 'max_depth': 7, 'max_features': 33, 'min_samples_leaf': 4, 'n_estimators': 371}               \n",
      "100%|█████████████████████████████████████████████| 100/100 [23:42<00:00, 14.23s/trial, best loss: -0.8855526216522067]\n",
      "best:\n",
      "{'criterion': 1, 'max_depth': 18, 'max_features': 35, 'min_samples_leaf': 3, 'n_estimators': 260}\n"
     ]
    }
   ],
   "source": [
    "def acc_model(params):\n",
    "    clf = RandomForestClassifier(**params)\n",
    "    return cross_val_score(clf, test_features, test_labels).mean()\n",
    "\n",
    "param_space = {\n",
    "    'max_depth': hp.choice('max_depth', range(1,20)),\n",
    "    'max_features': hp.choice('max_features', range(1,42)),\n",
    "    'n_estimators': hp.choice('n_estimators', range(100,500)),\n",
    "    'min_samples_leaf': hp.choice('min_samples_leaf', range(1,15)),\n",
    "    'criterion': hp.choice('criterion', [\"gini\", \"entropy\"])}\n",
    "\n",
    "best = 0\n",
    "def f(params):\n",
    "    global best\n",
    "    acc = acc_model(params)\n",
    "    if acc > best:\n",
    "        best = acc\n",
    "    print('new best:', best, params)\n",
    "    return {'loss': -acc, 'status': STATUS_OK}\n",
    "\n",
    "trials = Trials()\n",
    "best = fmin(f, param_space, algo=tpe.suggest, max_evals=100, trials=trials)\n",
    "print('best:')\n",
    "print(best)"
   ]
  },
  {
   "cell_type": "code",
   "execution_count": 78,
   "metadata": {
    "pycharm": {
     "name": "#%%\n"
    }
   },
   "outputs": [
    {
     "data": {
      "text/plain": [
       "RandomForestClassifier(criterion='entropy', max_depth=18, max_features=35,\n",
       "                       min_samples_leaf=3, n_estimators=260, random_state=42)"
      ]
     },
     "execution_count": 78,
     "metadata": {},
     "output_type": "execute_result"
    }
   ],
   "source": [
    "RF2=RandomForestClassifier(max_features=35,\n",
    "                           n_estimators=260,\n",
    "                           criterion= 'entropy',\n",
    "                           max_depth=18,\n",
    "                           min_samples_leaf=3,\n",
    "                           random_state=42)\n",
    "RF2.fit(train_features, train_labels)"
   ]
  },
  {
   "cell_type": "code",
   "execution_count": 79,
   "metadata": {
    "pycharm": {
     "name": "#%%\n"
    }
   },
   "outputs": [
    {
     "name": "stdout",
     "output_type": "stream",
     "text": [
      "Accuracy;  89.44 %\n",
      "F1 score:  91.41 %\n"
     ]
    }
   ],
   "source": [
    "# After Hyperopt performance scores\n",
    "Performance_scores(Model=RF2,Y=test_labels,X=test_features)"
   ]
  },
  {
   "cell_type": "code",
   "execution_count": 80,
   "metadata": {
    "pycharm": {
     "name": "#%%\n"
    }
   },
   "outputs": [
    {
     "name": "stdout",
     "output_type": "stream",
     "text": [
      "the AUC is : 0.9245\n"
     ]
    },
    {
     "data": {
      "image/png": "[encoded data removed]",
      "text/plain": [
       "<Figure size 432x288 with 1 Axes>"
      ]
     },
     "metadata": {
      "needs_background": "light"
     },
     "output_type": "display_data"
    }
   ],
   "source": [
    "# ROC curve\n",
    "Performance_ROC(Model=RF2,Y=test_labels,X=test_features,loc='Random Forest/ROC_hypopt_model.png')"
   ]
  },
  {
   "cell_type": "code",
   "execution_count": 81,
   "metadata": {
    "pycharm": {
     "name": "#%%\n"
    }
   },
   "outputs": [
    {
     "data": {
      "image/png": "[encoded data removed]",
      "text/plain": [
       "<Figure size 432x288 with 2 Axes>"
      ]
     },
     "metadata": {
      "needs_background": "light"
     },
     "output_type": "display_data"
    }
   ],
   "source": [
    "# Confusion matrix\n",
    "Performance_conf(Model=RF2,Y=test_labels,X=test_features,loc='Random Forest/CM_hypopt_model.png')"
   ]
  },
  {
   "cell_type": "code",
   "execution_count": 85,
   "metadata": {},
   "outputs": [
    {
     "name": "stdout",
     "output_type": "stream",
     "text": [
      "The accuracy on test set: 0.8944\n",
      "The precision on test set: 0.8955\n",
      "The recall on test set: 0.9335\n",
      "The F1 score on test set: 0.9141\n",
      "The ROC AUC score on test set: 0.8844\n"
     ]
    }
   ],
   "source": [
    "from sklearn.metrics import accuracy_score\n",
    "from sklearn.metrics import precision_score\n",
    "from sklearn.metrics import recall_score\n",
    "from sklearn.metrics import f1_score\n",
    "from sklearn.metrics import roc_auc_score\n",
    "from sklearn.metrics import roc_curve, auc,plot_confusion_matrix\n",
    "acc = accuracy_score(test_labels, RF2.predict(test_features))\n",
    "prec = precision_score(test_labels, RF2.predict(test_features))\n",
    "rec = recall_score(test_labels, RF2.predict(test_features))\n",
    "f1 = f1_score(test_labels, RF2.predict(test_features))\n",
    "roc = roc_auc_score(test_labels, RF2.predict(test_features))\n",
    "print(\"The accuracy on test set: {:.4f}\".format(acc))\n",
    "print(\"The precision on test set: {:.4f}\".format(prec))\n",
    "print(\"The recall on test set: {:.4f}\".format(rec))\n",
    "print(\"The F1 score on test set: {:.4f}\".format(f1))\n",
    "print(\"The ROC AUC score on test set: {:.4f}\".format(roc))"
   ]
  },
  {
   "cell_type": "code",
   "execution_count": 53,
   "metadata": {
    "pycharm": {
     "name": "#%%\n"
    }
   },
   "outputs": [
    {
     "name": "stdout",
     "output_type": "stream",
     "text": [
      "the AUC of the model before HyperOpt is : 0.9188\n",
      "the AUC of the model after HyperOpt is : 0.9244\n"
     ]
    },
    {
     "data": {
      "image/png": "[encoded data removed]",
      "text/plain": [
       "<Figure size 432x288 with 1 Axes>"
      ]
     },
     "metadata": {
      "needs_background": "light"
     },
     "output_type": "display_data"
    }
   ],
   "source": [
    "# plot difference between models ROC\n",
    "Performance_ROC_multi(ModelA=RF0,\n",
    "                      ModelB=RF2,\n",
    "                      Y=test_labels,\n",
    "                      X=test_features,\n",
    "                      loc='Random Forest/ROC_multi.png')\n",
    "\n"
   ]
  },
  {
   "cell_type": "markdown",
   "metadata": {
    "pycharm": {
     "name": "#%% md\n"
    }
   },
   "source": [
    "### Feature importance"
   ]
  },
  {
   "cell_type": "code",
   "execution_count": 54,
   "metadata": {
    "pycharm": {
     "name": "#%%\n"
    }
   },
   "outputs": [
    {
     "name": "stdout",
     "output_type": "stream",
     "text": [
      "Variable: start_amount         Importance: 0.47\n",
      "Variable: bidding_window       Importance: 0.26\n",
      "Variable: is_1euro_kavel       Importance: 0.04\n",
      "Variable: Day_5                Importance: 0.02\n",
      "Variable: Day_6                Importance: 0.02\n",
      "Variable: increment_1euro      Importance: 0.02\n",
      "Variable: auction_fee_tax_rate Importance: 0.01\n",
      "Variable: is_homedelivery      Importance: 0.01\n",
      "Variable: is_public            Importance: 0.01\n",
      "Variable: is_automatic_credit  Importance: 0.01\n",
      "Variable: category_Other       Importance: 0.01\n",
      "Variable: category_Sanitair    Importance: 0.01\n",
      "Variable: category_Verlichting Importance: 0.01\n",
      "Variable: category_Woninginrichting Importance: 0.01\n",
      "Variable: Day_0                Importance: 0.01\n",
      "Variable: Day_1                Importance: 0.01\n",
      "Variable: Day_2                Importance: 0.01\n",
      "Variable: Day_3                Importance: 0.01\n",
      "Variable: Day_4                Importance: 0.01\n",
      "Variable: Month_1              Importance: 0.01\n",
      "Variable: Month_2              Importance: 0.01\n",
      "Variable: increment_standard   Importance: 0.01\n",
      "Variable: category_Accu-/ elektrisch gereedschap Importance: 0.0\n",
      "Variable: category_Auto-onderdelen en accessoires Importance: 0.0\n",
      "Variable: category_Computers en Software Importance: 0.0\n",
      "Variable: category_Dameskleding en -schoenen Importance: 0.0\n",
      "Variable: category_Herenkleding en -schoenen Importance: 0.0\n",
      "Variable: category_Horloges    Importance: 0.0\n",
      "Variable: category_Kantoorinrichting Importance: 0.0\n",
      "Variable: category_Sieraden    Importance: 0.0\n",
      "Variable: category_Slapen      Importance: 0.0\n",
      "Variable: category_Tuin en terras Importance: 0.0\n",
      "Variable: category_Unisex      Importance: 0.0\n",
      "Variable: condition_New        Importance: 0.0\n",
      "Variable: condition_Old        Importance: 0.0\n",
      "Variable: seller_type_New Seller Importance: 0.0\n",
      "Variable: seller_type_Seller   Importance: 0.0\n",
      "Variable: sourcing_company_3rdpartydailyspecials Importance: 0.0\n",
      "Variable: sourcing_company_art Importance: 0.0\n",
      "Variable: sourcing_company_bva Importance: 0.0\n",
      "Variable: Month_3              Importance: 0.0\n",
      "Variable: increment_other      Importance: 0.0\n"
     ]
    },
    {
     "data": {
      "text/plain": [
       "[None,\n",
       " None,\n",
       " None,\n",
       " None,\n",
       " None,\n",
       " None,\n",
       " None,\n",
       " None,\n",
       " None,\n",
       " None,\n",
       " None,\n",
       " None,\n",
       " None,\n",
       " None,\n",
       " None,\n",
       " None,\n",
       " None,\n",
       " None,\n",
       " None,\n",
       " None,\n",
       " None,\n",
       " None,\n",
       " None,\n",
       " None,\n",
       " None,\n",
       " None,\n",
       " None,\n",
       " None,\n",
       " None,\n",
       " None,\n",
       " None,\n",
       " None,\n",
       " None,\n",
       " None,\n",
       " None,\n",
       " None,\n",
       " None,\n",
       " None,\n",
       " None,\n",
       " None,\n",
       " None,\n",
       " None]"
      ]
     },
     "execution_count": 54,
     "metadata": {},
     "output_type": "execute_result"
    }
   ],
   "source": [
    "# Get numerical feature importances\n",
    "importances = list(RF2.feature_importances_)\n",
    "# List of tuples with variable and importance\n",
    "feature_importances = [(feature, round(importance, 2)) for feature, importance in zip(feature_list, importances)]\n",
    "# Sort the feature importances by most important first\n",
    "feature_importances = sorted(feature_importances, key = lambda x: x[1], reverse = True)\n",
    "# Print out the feature and importances\n",
    "[print('Variable: {:20} Importance: {}'.format(*pair)) for pair in feature_importances]"
   ]
  },
  {
   "cell_type": "code",
   "execution_count": 55,
   "metadata": {
    "pycharm": {
     "name": "#%%\n"
    }
   },
   "outputs": [
    {
     "data": {
      "image/png": "[encoded data removed]",
      "text/plain": [
       "<Figure size 432x288 with 1 Axes>"
      ]
     },
     "metadata": {
      "needs_background": "light"
     },
     "output_type": "display_data"
    }
   ],
   "source": [
    "# Extract feature importances\n",
    "fi = pd.DataFrame({'feature': list(feature_list),\n",
    "                   'importance': RF2.feature_importances_}).\\\n",
    "                    sort_values('importance', ascending = False)\n",
    "\n",
    "plt.figure()\n",
    "\n",
    "plt.bar(fi.iloc[:6 , 0], fi.iloc[:6, 1],color=(0.7,0,0,1))\n",
    "plt.ylabel(\"Gini Importance Value\")\n",
    "plt.xticks(rotation=90)\n",
    "plt.savefig('Random Forest/Feature importance.png',bbox_inches='tight')\n",
    "plt.show()\n"
   ]
  },
  {
   "cell_type": "code",
   "execution_count": 56,
   "metadata": {
    "pycharm": {
     "name": "#%%\n"
    }
   },
   "outputs": [
    {
     "data": {
      "text/html": [
       "<div>\n",
       "<style scoped>\n",
       "    .dataframe tbody tr th:only-of-type {\n",
       "        vertical-align: middle;\n",
       "    }\n",
       "\n",
       "    .dataframe tbody tr th {\n",
       "        vertical-align: top;\n",
       "    }\n",
       "\n",
       "    .dataframe thead th {\n",
       "        text-align: right;\n",
       "    }\n",
       "</style>\n",
       "<table border=\"1\" class=\"dataframe\">\n",
       "  <thead>\n",
       "    <tr style=\"text-align: right;\">\n",
       "      <th></th>\n",
       "      <th>is_sold</th>\n",
       "      <th>start_amount</th>\n",
       "      <th>bidding_window</th>\n",
       "      <th>Day_5</th>\n",
       "      <th>is_1euro_kavel</th>\n",
       "      <th>Day_6</th>\n",
       "      <th>increment_1euro</th>\n",
       "    </tr>\n",
       "  </thead>\n",
       "  <tbody>\n",
       "    <tr>\n",
       "      <th>0</th>\n",
       "      <td>0</td>\n",
       "      <td>65.0</td>\n",
       "      <td>9360.0</td>\n",
       "      <td>0</td>\n",
       "      <td>0</td>\n",
       "      <td>0</td>\n",
       "      <td>0</td>\n",
       "    </tr>\n",
       "    <tr>\n",
       "      <th>1</th>\n",
       "      <td>0</td>\n",
       "      <td>335.0</td>\n",
       "      <td>7920.0</td>\n",
       "      <td>0</td>\n",
       "      <td>0</td>\n",
       "      <td>0</td>\n",
       "      <td>0</td>\n",
       "    </tr>\n",
       "    <tr>\n",
       "      <th>2</th>\n",
       "      <td>0</td>\n",
       "      <td>65.0</td>\n",
       "      <td>7920.0</td>\n",
       "      <td>0</td>\n",
       "      <td>0</td>\n",
       "      <td>0</td>\n",
       "      <td>0</td>\n",
       "    </tr>\n",
       "    <tr>\n",
       "      <th>3</th>\n",
       "      <td>0</td>\n",
       "      <td>1.0</td>\n",
       "      <td>2220.0</td>\n",
       "      <td>0</td>\n",
       "      <td>1</td>\n",
       "      <td>0</td>\n",
       "      <td>1</td>\n",
       "    </tr>\n",
       "    <tr>\n",
       "      <th>4</th>\n",
       "      <td>1</td>\n",
       "      <td>1.0</td>\n",
       "      <td>2160.0</td>\n",
       "      <td>0</td>\n",
       "      <td>1</td>\n",
       "      <td>0</td>\n",
       "      <td>1</td>\n",
       "    </tr>\n",
       "    <tr>\n",
       "      <th>...</th>\n",
       "      <td>...</td>\n",
       "      <td>...</td>\n",
       "      <td>...</td>\n",
       "      <td>...</td>\n",
       "      <td>...</td>\n",
       "      <td>...</td>\n",
       "      <td>...</td>\n",
       "    </tr>\n",
       "    <tr>\n",
       "      <th>66266</th>\n",
       "      <td>1</td>\n",
       "      <td>1.0</td>\n",
       "      <td>2160.0</td>\n",
       "      <td>0</td>\n",
       "      <td>1</td>\n",
       "      <td>0</td>\n",
       "      <td>1</td>\n",
       "    </tr>\n",
       "    <tr>\n",
       "      <th>66267</th>\n",
       "      <td>1</td>\n",
       "      <td>1.0</td>\n",
       "      <td>2220.0</td>\n",
       "      <td>0</td>\n",
       "      <td>1</td>\n",
       "      <td>0</td>\n",
       "      <td>1</td>\n",
       "    </tr>\n",
       "    <tr>\n",
       "      <th>66268</th>\n",
       "      <td>0</td>\n",
       "      <td>1.0</td>\n",
       "      <td>2040.0</td>\n",
       "      <td>0</td>\n",
       "      <td>1</td>\n",
       "      <td>0</td>\n",
       "      <td>1</td>\n",
       "    </tr>\n",
       "    <tr>\n",
       "      <th>66269</th>\n",
       "      <td>0</td>\n",
       "      <td>5.0</td>\n",
       "      <td>15540.0</td>\n",
       "      <td>0</td>\n",
       "      <td>0</td>\n",
       "      <td>0</td>\n",
       "      <td>0</td>\n",
       "    </tr>\n",
       "    <tr>\n",
       "      <th>66270</th>\n",
       "      <td>1</td>\n",
       "      <td>5.0</td>\n",
       "      <td>10860.0</td>\n",
       "      <td>0</td>\n",
       "      <td>0</td>\n",
       "      <td>0</td>\n",
       "      <td>0</td>\n",
       "    </tr>\n",
       "  </tbody>\n",
       "</table>\n",
       "<p>66271 rows × 7 columns</p>\n",
       "</div>"
      ],
      "text/plain": [
       "       is_sold  start_amount  bidding_window  Day_5  is_1euro_kavel  Day_6  \\\n",
       "0            0          65.0          9360.0      0               0      0   \n",
       "1            0         335.0          7920.0      0               0      0   \n",
       "2            0          65.0          7920.0      0               0      0   \n",
       "3            0           1.0          2220.0      0               1      0   \n",
       "4            1           1.0          2160.0      0               1      0   \n",
       "...        ...           ...             ...    ...             ...    ...   \n",
       "66266        1           1.0          2160.0      0               1      0   \n",
       "66267        1           1.0          2220.0      0               1      0   \n",
       "66268        0           1.0          2040.0      0               1      0   \n",
       "66269        0           5.0         15540.0      0               0      0   \n",
       "66270        1           5.0         10860.0      0               0      0   \n",
       "\n",
       "       increment_1euro  \n",
       "0                    0  \n",
       "1                    0  \n",
       "2                    0  \n",
       "3                    1  \n",
       "4                    1  \n",
       "...                ...  \n",
       "66266                1  \n",
       "66267                1  \n",
       "66268                1  \n",
       "66269                0  \n",
       "66270                0  \n",
       "\n",
       "[66271 rows x 7 columns]"
      ]
     },
     "execution_count": 56,
     "metadata": {},
     "output_type": "execute_result"
    }
   ],
   "source": [
    "data2 = data[['is_sold',\n",
    "              'start_amount',\n",
    "              'bidding_window',\n",
    "              'Day_5',\n",
    "              'is_1euro_kavel',\n",
    "              'Day_6',\n",
    "              'increment_1euro']]\n",
    "data2"
   ]
  },
  {
   "cell_type": "code",
   "execution_count": 57,
   "metadata": {
    "pycharm": {
     "name": "#%%\n"
    }
   },
   "outputs": [],
   "source": [
    "# Labels are the values we want to predict\n",
    "labels = data2['is_sold']\n",
    "# Remove the labels from the features\n",
    "features= data2.drop('is_sold', axis = 1)\n",
    "# Saving feature names for later use\n",
    "feature_list = list(features.columns)\n",
    "# Convert to numpy array\n",
    "# features = np.array(features)"
   ]
  },
  {
   "cell_type": "code",
   "execution_count": 58,
   "metadata": {
    "pycharm": {
     "name": "#%%\n"
    }
   },
   "outputs": [
    {
     "name": "stdout",
     "output_type": "stream",
     "text": [
      "The shape of our data is: (66271, 43)\n",
      "Training Features Shape: (53016, 6)\n",
      "Training Labels Shape: (53016,)\n",
      "Testing Features Shape: (13255, 6)\n",
      "Testing Labels Shape: (13255,)\n"
     ]
    }
   ],
   "source": [
    "# Split the data into training and testing sets\n",
    "train_features, test_features, train_labels, test_labels = train_test_split(features,\n",
    "                                                                            labels,\n",
    "                                                                            test_size = 0.20,\n",
    "                                                                            random_state = 42)\n",
    "\n",
    "print('The shape of our data is:', data.shape)\n",
    "print('Training Features Shape:', train_features.shape)\n",
    "print('Training Labels Shape:', train_labels.shape)\n",
    "print('Testing Features Shape:', test_features.shape)\n",
    "print('Testing Labels Shape:', test_labels.shape)"
   ]
  },
  {
   "cell_type": "code",
   "execution_count": 59,
   "metadata": {
    "pycharm": {
     "name": "#%%\n"
    }
   },
   "outputs": [
    {
     "data": {
      "text/plain": [
       "RandomForestClassifier(max_depth=16, max_features=6, min_samples_leaf=3,\n",
       "                       n_estimators=340, random_state=42)"
      ]
     },
     "execution_count": 59,
     "metadata": {},
     "output_type": "execute_result"
    }
   ],
   "source": [
    "RF2=RandomForestClassifier(max_features=6,\n",
    "                           n_estimators=340,\n",
    "                           criterion= 'gini',\n",
    "                           max_depth=16,\n",
    "                           min_samples_leaf=3,\n",
    "                           random_state=42)\n",
    "RF2.fit(train_features, train_labels)"
   ]
  },
  {
   "cell_type": "code",
   "execution_count": 60,
   "metadata": {
    "pycharm": {
     "name": "#%%\n"
    }
   },
   "outputs": [
    {
     "name": "stdout",
     "output_type": "stream",
     "text": [
      "Accuracy;  88.92 %\n",
      "F1 score:  90.94 %\n"
     ]
    }
   ],
   "source": [
    "# After Hyperopt performance scores\n",
    "Performance_scores(Model=RF2,Y=test_labels,X=test_features)"
   ]
  },
  {
   "cell_type": "code",
   "execution_count": null,
   "metadata": {
    "pycharm": {
     "name": "#%%\n"
    }
   },
   "outputs": [],
   "source": []
  },
  {
   "cell_type": "code",
   "execution_count": null,
   "metadata": {},
   "outputs": [],
   "source": []
  }
 ],
 "metadata": {
  "kernelspec": {
   "display_name": "Python 3",
   "language": "python",
   "name": "python3"
  },
  "language_info": {
   "codemirror_mode": {
    "name": "ipython",
    "version": 3
   },
   "file_extension": ".py",
   "mimetype": "text/x-python",
   "name": "python",
   "nbconvert_exporter": "python",
   "pygments_lexer": "ipython3",
   "version": "3.7.9"
  }
 },
 "nbformat": 4,
 "nbformat_minor": 1
}
