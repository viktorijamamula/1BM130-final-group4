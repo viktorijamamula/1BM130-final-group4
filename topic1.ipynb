{
 "cells": [
  {
   "cell_type": "markdown",
   "metadata": {},
   "source": [
    "### Importing the Packages"
   ]
  },
  {
   "cell_type": "code",
   "execution_count": 1,
   "metadata": {},
   "outputs": [],
   "source": [
    "import pandas as pd\n",
    "import numpy as np\n",
    "import matplotlib as plt\n",
    "import seaborn as sns\n",
    "import io"
   ]
  },
  {
   "cell_type": "markdown",
   "metadata": {},
   "source": [
    "### Importing the Data"
   ]
  },
  {
   "cell_type": "code",
   "execution_count": 2,
   "metadata": {},
   "outputs": [
    {
     "name": "stderr",
     "output_type": "stream",
     "text": [
      "c:\\users\\s161942\\pycharmprojects\\1bm130-group4\\venv\\lib\\site-packages\\IPython\\core\\interactiveshell.py:3170: DtypeWarning: Columns (8) have mixed types.Specify dtype option on import or set low_memory=False.\n",
      "  interactivity=interactivity, compiler=compiler, result=result)\n",
      "c:\\users\\s161942\\pycharmprojects\\1bm130-group4\\venv\\lib\\site-packages\\IPython\\core\\interactiveshell.py:3170: DtypeWarning: Columns (1) have mixed types.Specify dtype option on import or set low_memory=False.\n",
      "  interactivity=interactivity, compiler=compiler, result=result)\n"
     ]
    }
   ],
   "source": [
    "dimAuction  = pd.read_csv(r'Data/Dim_auction.csv', sep=\";\") \n",
    "factLots1 = pd.read_excel(r'Data/fact_lots_1.xlsx', skiprows = 2)\n",
    "factLots2 = pd.read_excel(r'Data/fact_lots_2.xlsx', skiprows = 2)\n",
    "factBids = pd.read_csv(r'Data/Fact_bids1.csv', sep=\";\")\n",
    "dimProjects = pd.read_csv(r'Data/Dim_projects.csv', sep=\",\")\n",
    "dimLot = pd.read_csv(r'Data/dimLot_v3.csv')\n",
    "auctionCloseTimes = pd.read_csv(r'Data/AuctionCloseTimes.csv', sep=\",\")"
   ]
  },
  {
   "cell_type": "markdown",
   "metadata": {},
   "source": [
    "#### Step 1 - Remove the colums which are identified as not applicable by the project owner"
   ]
  },
  {
   "cell_type": "code",
   "execution_count": 3,
   "outputs": [
    {
     "data": {
      "text/plain": "          lot_id auction_id  lot_number auction_lotnumber  seller_id_an  \\\n0       14217267      45252         153         45252-153      515996.0   \n1       14124120      44794          93          44794-93      473489.0   \n2       14109052      37596        3629        37596-3629      513945.0   \n3       14203244      37599        3716        37599-3716      513945.0   \n4       14239515      45026        3457        45026-3457      513945.0   \n...          ...        ...         ...               ...           ...   \n286916  14086063      44682         130         44682-130      491992.0   \n286917  14302265      45974           5           45974-5      646773.0   \n286918  14154011      45294         242         45294-242      646773.0   \n286919  14153957      45294         188         45294-188      646773.0   \n286920  14264803      45571           3           45571-3      120524.0   \n\n        opportunity_id                                               naam  \\\n0          201821733.0        6 Intensions rolgordijnen lichtdoorlatend     \n1          201720052.0  4 Hilti snelspanmoeren met kwik-lock, M-14 opname   \n2          201820584.0                    Momo Design MD6003BK-12 horloge   \n3          201820584.0        Versace Hellenyium Automatic VZI020 horloge   \n4          201820584.0              Ted Baker Uhr 10031517 Oliver horloge   \n...                ...                                                ...   \n286916      20127347.0   Daimler Double six vanden plas series 2 v12 1978   \n286917     201923269.0                    Plieger design radiator Palermo   \n286918     201923269.0                  380V Verlengkabel, 5x1.5mm2, 16A    \n286919     201923269.0                            380V Verlengkabel, 32A    \n286920     201923296.0                                           Vitrine    \n\n        is_cancelled closingdate startingdate  ... is_sold  is_credited  \\\n0                  0  2020-01-30   2020-01-21  ...       0            0   \n1                  0  2020-01-12   2020-01-05  ...       0            0   \n2                  0  2020-01-02   2019-12-26  ...       0            0   \n3                  0  2020-01-23   2020-01-17  ...       0            0   \n4                  0  2020-01-30   2020-01-24  ...       0            0   \n...              ...         ...          ...  ...     ...          ...   \n286916             1  2020-01-29   2020-01-09  ...       0            0   \n286917             0  2020-02-17   2020-02-06  ...       1            0   \n286918             0  2020-01-15   2020-01-08  ...       1            0   \n286919             0  2020-01-15   2020-01-08  ...       1            0   \n286920             0  2020-02-17   2020-01-30  ...       1            0   \n\n        latest_creditreason       brand condition type categorycode  \\\n0                       NaN  intensions       NaN  NaN   ATLAS-2381   \n1                       NaN       hilti       NaN  NaN    ATLAS-551   \n2                       NaN         NaN       NaN  NaN    ATLAS-936   \n3                       NaN         NaN       NaN  NaN    ATLAS-936   \n4                       NaN         NaN       NaN  NaN    ATLAS-936   \n...                     ...         ...       ...  ...          ...   \n286916                  NaN     daimler  gebruikt  NaN   ATLAS-1792   \n286917                  NaN     plieger       NaN  NaN    ATLAS-384   \n286918                  NaN         NaN       NaN  NaN    ATLAS-560   \n286919                  NaN         NaN       NaN  NaN    ATLAS-560   \n286920                  NaN         NaN  gebruikt  NaN    ATLAS-705   \n\n        category_seller  bids  winning_bid  \n0                Seller   0.0          NaN  \n1                Seller   0.0          NaN  \n2                Seller   0.0          NaN  \n3                Seller   0.0          NaN  \n4                Seller   0.0          NaN  \n...                 ...   ...          ...  \n286916           Seller   0.0          NaN  \n286917           Seller   6.0         31.0  \n286918       New Seller   1.0         25.0  \n286919       New Seller   3.0         50.0  \n286920           Seller   4.0         35.0  \n\n[286921 rows x 31 columns]",
      "text/html": "<div>\n<style scoped>\n    .dataframe tbody tr th:only-of-type {\n        vertical-align: middle;\n    }\n\n    .dataframe tbody tr th {\n        vertical-align: top;\n    }\n\n    .dataframe thead th {\n        text-align: right;\n    }\n</style>\n<table border=\"1\" class=\"dataframe\">\n  <thead>\n    <tr style=\"text-align: right;\">\n      <th></th>\n      <th>lot_id</th>\n      <th>auction_id</th>\n      <th>lot_number</th>\n      <th>auction_lotnumber</th>\n      <th>seller_id_an</th>\n      <th>opportunity_id</th>\n      <th>naam</th>\n      <th>is_cancelled</th>\n      <th>closingdate</th>\n      <th>startingdate</th>\n      <th>...</th>\n      <th>is_sold</th>\n      <th>is_credited</th>\n      <th>latest_creditreason</th>\n      <th>brand</th>\n      <th>condition</th>\n      <th>type</th>\n      <th>categorycode</th>\n      <th>category_seller</th>\n      <th>bids</th>\n      <th>winning_bid</th>\n    </tr>\n  </thead>\n  <tbody>\n    <tr>\n      <th>0</th>\n      <td>14217267</td>\n      <td>45252</td>\n      <td>153</td>\n      <td>45252-153</td>\n      <td>515996.0</td>\n      <td>201821733.0</td>\n      <td>6 Intensions rolgordijnen lichtdoorlatend</td>\n      <td>0</td>\n      <td>2020-01-30</td>\n      <td>2020-01-21</td>\n      <td>...</td>\n      <td>0</td>\n      <td>0</td>\n      <td>NaN</td>\n      <td>intensions</td>\n      <td>NaN</td>\n      <td>NaN</td>\n      <td>ATLAS-2381</td>\n      <td>Seller</td>\n      <td>0.0</td>\n      <td>NaN</td>\n    </tr>\n    <tr>\n      <th>1</th>\n      <td>14124120</td>\n      <td>44794</td>\n      <td>93</td>\n      <td>44794-93</td>\n      <td>473489.0</td>\n      <td>201720052.0</td>\n      <td>4 Hilti snelspanmoeren met kwik-lock, M-14 opname</td>\n      <td>0</td>\n      <td>2020-01-12</td>\n      <td>2020-01-05</td>\n      <td>...</td>\n      <td>0</td>\n      <td>0</td>\n      <td>NaN</td>\n      <td>hilti</td>\n      <td>NaN</td>\n      <td>NaN</td>\n      <td>ATLAS-551</td>\n      <td>Seller</td>\n      <td>0.0</td>\n      <td>NaN</td>\n    </tr>\n    <tr>\n      <th>2</th>\n      <td>14109052</td>\n      <td>37596</td>\n      <td>3629</td>\n      <td>37596-3629</td>\n      <td>513945.0</td>\n      <td>201820584.0</td>\n      <td>Momo Design MD6003BK-12 horloge</td>\n      <td>0</td>\n      <td>2020-01-02</td>\n      <td>2019-12-26</td>\n      <td>...</td>\n      <td>0</td>\n      <td>0</td>\n      <td>NaN</td>\n      <td>NaN</td>\n      <td>NaN</td>\n      <td>NaN</td>\n      <td>ATLAS-936</td>\n      <td>Seller</td>\n      <td>0.0</td>\n      <td>NaN</td>\n    </tr>\n    <tr>\n      <th>3</th>\n      <td>14203244</td>\n      <td>37599</td>\n      <td>3716</td>\n      <td>37599-3716</td>\n      <td>513945.0</td>\n      <td>201820584.0</td>\n      <td>Versace Hellenyium Automatic VZI020 horloge</td>\n      <td>0</td>\n      <td>2020-01-23</td>\n      <td>2020-01-17</td>\n      <td>...</td>\n      <td>0</td>\n      <td>0</td>\n      <td>NaN</td>\n      <td>NaN</td>\n      <td>NaN</td>\n      <td>NaN</td>\n      <td>ATLAS-936</td>\n      <td>Seller</td>\n      <td>0.0</td>\n      <td>NaN</td>\n    </tr>\n    <tr>\n      <th>4</th>\n      <td>14239515</td>\n      <td>45026</td>\n      <td>3457</td>\n      <td>45026-3457</td>\n      <td>513945.0</td>\n      <td>201820584.0</td>\n      <td>Ted Baker Uhr 10031517 Oliver horloge</td>\n      <td>0</td>\n      <td>2020-01-30</td>\n      <td>2020-01-24</td>\n      <td>...</td>\n      <td>0</td>\n      <td>0</td>\n      <td>NaN</td>\n      <td>NaN</td>\n      <td>NaN</td>\n      <td>NaN</td>\n      <td>ATLAS-936</td>\n      <td>Seller</td>\n      <td>0.0</td>\n      <td>NaN</td>\n    </tr>\n    <tr>\n      <th>...</th>\n      <td>...</td>\n      <td>...</td>\n      <td>...</td>\n      <td>...</td>\n      <td>...</td>\n      <td>...</td>\n      <td>...</td>\n      <td>...</td>\n      <td>...</td>\n      <td>...</td>\n      <td>...</td>\n      <td>...</td>\n      <td>...</td>\n      <td>...</td>\n      <td>...</td>\n      <td>...</td>\n      <td>...</td>\n      <td>...</td>\n      <td>...</td>\n      <td>...</td>\n      <td>...</td>\n    </tr>\n    <tr>\n      <th>286916</th>\n      <td>14086063</td>\n      <td>44682</td>\n      <td>130</td>\n      <td>44682-130</td>\n      <td>491992.0</td>\n      <td>20127347.0</td>\n      <td>Daimler Double six vanden plas series 2 v12 1978</td>\n      <td>1</td>\n      <td>2020-01-29</td>\n      <td>2020-01-09</td>\n      <td>...</td>\n      <td>0</td>\n      <td>0</td>\n      <td>NaN</td>\n      <td>daimler</td>\n      <td>gebruikt</td>\n      <td>NaN</td>\n      <td>ATLAS-1792</td>\n      <td>Seller</td>\n      <td>0.0</td>\n      <td>NaN</td>\n    </tr>\n    <tr>\n      <th>286917</th>\n      <td>14302265</td>\n      <td>45974</td>\n      <td>5</td>\n      <td>45974-5</td>\n      <td>646773.0</td>\n      <td>201923269.0</td>\n      <td>Plieger design radiator Palermo</td>\n      <td>0</td>\n      <td>2020-02-17</td>\n      <td>2020-02-06</td>\n      <td>...</td>\n      <td>1</td>\n      <td>0</td>\n      <td>NaN</td>\n      <td>plieger</td>\n      <td>NaN</td>\n      <td>NaN</td>\n      <td>ATLAS-384</td>\n      <td>Seller</td>\n      <td>6.0</td>\n      <td>31.0</td>\n    </tr>\n    <tr>\n      <th>286918</th>\n      <td>14154011</td>\n      <td>45294</td>\n      <td>242</td>\n      <td>45294-242</td>\n      <td>646773.0</td>\n      <td>201923269.0</td>\n      <td>380V Verlengkabel, 5x1.5mm2, 16A</td>\n      <td>0</td>\n      <td>2020-01-15</td>\n      <td>2020-01-08</td>\n      <td>...</td>\n      <td>1</td>\n      <td>0</td>\n      <td>NaN</td>\n      <td>NaN</td>\n      <td>NaN</td>\n      <td>NaN</td>\n      <td>ATLAS-560</td>\n      <td>New Seller</td>\n      <td>1.0</td>\n      <td>25.0</td>\n    </tr>\n    <tr>\n      <th>286919</th>\n      <td>14153957</td>\n      <td>45294</td>\n      <td>188</td>\n      <td>45294-188</td>\n      <td>646773.0</td>\n      <td>201923269.0</td>\n      <td>380V Verlengkabel, 32A</td>\n      <td>0</td>\n      <td>2020-01-15</td>\n      <td>2020-01-08</td>\n      <td>...</td>\n      <td>1</td>\n      <td>0</td>\n      <td>NaN</td>\n      <td>NaN</td>\n      <td>NaN</td>\n      <td>NaN</td>\n      <td>ATLAS-560</td>\n      <td>New Seller</td>\n      <td>3.0</td>\n      <td>50.0</td>\n    </tr>\n    <tr>\n      <th>286920</th>\n      <td>14264803</td>\n      <td>45571</td>\n      <td>3</td>\n      <td>45571-3</td>\n      <td>120524.0</td>\n      <td>201923296.0</td>\n      <td>Vitrine</td>\n      <td>0</td>\n      <td>2020-02-17</td>\n      <td>2020-01-30</td>\n      <td>...</td>\n      <td>1</td>\n      <td>0</td>\n      <td>NaN</td>\n      <td>NaN</td>\n      <td>gebruikt</td>\n      <td>NaN</td>\n      <td>ATLAS-705</td>\n      <td>Seller</td>\n      <td>4.0</td>\n      <td>35.0</td>\n    </tr>\n  </tbody>\n</table>\n<p>286921 rows × 31 columns</p>\n</div>"
     },
     "execution_count": 3,
     "metadata": {},
     "output_type": "execute_result"
    }
   ],
   "source": [
    "dimLot"
   ],
   "metadata": {
    "collapsed": false,
    "pycharm": {
     "name": "#%%\n"
    }
   }
  },
  {
   "cell_type": "code",
   "execution_count": 4,
   "metadata": {},
   "outputs": [],
   "source": [
    "# not applicable columns per dataset\n",
    "na_dimProjects = ['project_auction_start','project_auction_end','project_auction_online']\n",
    "na_dimAuction = ['is_active','open_for_bidding']\n",
    "na_factBids = ['seller_id','channel_id']\n",
    "na_fact12 = ['seller_id']\n",
    "\n",
    "#correct the dimProjects dataset\n",
    "for i in na_dimProjects:\n",
    "    dimProjects.drop(i,inplace=True,axis=1)\n",
    "\n",
    "# #correct the dimAuction dataset\n",
    "for i in na_dimAuction:\n",
    "    dimAuction.drop(i,inplace=True,axis=1)\n",
    "    \n",
    "# #correct the factBids dataset\n",
    "for i in na_factBids:\n",
    "    factBids.drop(i,inplace=True,axis=1)\n",
    "\n",
    "#correct the factLots1 dataset\n",
    "for i in na_fact12:\n",
    "    factLots1.drop(i,inplace=True,axis=1)\n",
    "    \n",
    "#correct the factLots2 dataset\n",
    "for i in na_fact12:\n",
    "    factLots2.drop(i,inplace=True,axis=1)"
   ]
  },
  {
   "cell_type": "markdown",
   "metadata": {},
   "source": [
    "#### Step 2 - Remove the rows which carry data about the business line '006 Automotive'"
   ]
  },
  {
   "cell_type": "code",
   "execution_count": 5,
   "metadata": {},
   "outputs": [],
   "source": [
    "# only keep the rows for which the busines line is not automotive    \n",
    "factBids = factBids.loc[factBids['efficy_business_line'] != '006.Automotive']\n",
    "factLots1 = factLots1.loc[factLots1['efficy_business_line'] != '006.Automotive']\n",
    "factLots2 = factLots2.loc[factLots2['efficy_business_line'] != '006.Automotive']\n",
    "dimProjects = dimProjects.loc[dimProjects['project_businessline'] != '006.Automotive']"
   ]
  },
  {
   "cell_type": "markdown",
   "metadata": {},
   "source": [
    "#### Step 3 - Change column type for 'bid_amount' to float64"
   ]
  },
  {
   "cell_type": "code",
   "execution_count": 6,
   "metadata": {},
   "outputs": [],
   "source": [
    "def float_checker(x):\n",
    "    try:\n",
    "        return float(x.split()[0].replace(',', '.'))\n",
    "    except:\n",
    "        return x\n",
    "               \n",
    "factBids['bid_amount'] = factBids['bid_amount'].apply(float_checker)"
   ]
  },
  {
   "cell_type": "markdown",
   "metadata": {},
   "source": [
    "#### Step 4 - Check for missing values"
   ]
  },
  {
   "cell_type": "code",
   "execution_count": 7,
   "metadata": {},
   "outputs": [],
   "source": [
    "# clean dimAuction\n",
    "dimAuction.drop(columns=['onlinedate','is_public'])\n",
    "\n",
    "# clean dimLot\n",
    "dimLot['valid_bid_count'] = dimLot['valid_bid_count'].fillna(0)\n",
    "dimLot.drop(columns=['newprice','uitleverdatum','latest_creditreason','type'])                   \n",
    "\n",
    "# merge factLot1 and factLoc2\n",
    "factLots = factLots1.append(factLots2)\n",
    "            \n",
    "# clean dimProjects\n",
    "dimProjects = dimProjects.dropna(how='all', subset=['project_businessline'])   "
   ]
  },
  {
   "cell_type": "markdown",
   "metadata": {},
   "source": [
    "### Merging the Datasets"
   ]
  },
  {
   "cell_type": "code",
   "execution_count": 8,
   "metadata": {},
   "outputs": [
    {
     "data": {
      "text/plain": "     auction_id  is_homedelivery  is_public  is_automatic_credit  \\\n0         37597              1.0        1.0                  0.0   \n1         37598              1.0        1.0                  0.0   \n2         40620              0.0        1.0                  0.0   \n3         43832              0.0        1.0                  0.0   \n4         43843              0.0        0.0                  0.0   \n..          ...              ...        ...                  ...   \n896       46133              0.0        1.0                  0.0   \n897       46152              0.0        0.0                  0.0   \n898       46156              0.0        0.0                  0.0   \n899       46187              0.0        0.0                  0.0   \n900       46196              1.0        0.0                  0.0   \n\n    sourcing_company  \n0                art  \n1                art  \n2                bva  \n3                bva  \n4                bva  \n..               ...  \n896              bva  \n897              bva  \n898              bva  \n899              bva  \n900              bva  \n\n[901 rows x 5 columns]",
      "text/html": "<div>\n<style scoped>\n    .dataframe tbody tr th:only-of-type {\n        vertical-align: middle;\n    }\n\n    .dataframe tbody tr th {\n        vertical-align: top;\n    }\n\n    .dataframe thead th {\n        text-align: right;\n    }\n</style>\n<table border=\"1\" class=\"dataframe\">\n  <thead>\n    <tr style=\"text-align: right;\">\n      <th></th>\n      <th>auction_id</th>\n      <th>is_homedelivery</th>\n      <th>is_public</th>\n      <th>is_automatic_credit</th>\n      <th>sourcing_company</th>\n    </tr>\n  </thead>\n  <tbody>\n    <tr>\n      <th>0</th>\n      <td>37597</td>\n      <td>1.0</td>\n      <td>1.0</td>\n      <td>0.0</td>\n      <td>art</td>\n    </tr>\n    <tr>\n      <th>1</th>\n      <td>37598</td>\n      <td>1.0</td>\n      <td>1.0</td>\n      <td>0.0</td>\n      <td>art</td>\n    </tr>\n    <tr>\n      <th>2</th>\n      <td>40620</td>\n      <td>0.0</td>\n      <td>1.0</td>\n      <td>0.0</td>\n      <td>bva</td>\n    </tr>\n    <tr>\n      <th>3</th>\n      <td>43832</td>\n      <td>0.0</td>\n      <td>1.0</td>\n      <td>0.0</td>\n      <td>bva</td>\n    </tr>\n    <tr>\n      <th>4</th>\n      <td>43843</td>\n      <td>0.0</td>\n      <td>0.0</td>\n      <td>0.0</td>\n      <td>bva</td>\n    </tr>\n    <tr>\n      <th>...</th>\n      <td>...</td>\n      <td>...</td>\n      <td>...</td>\n      <td>...</td>\n      <td>...</td>\n    </tr>\n    <tr>\n      <th>896</th>\n      <td>46133</td>\n      <td>0.0</td>\n      <td>1.0</td>\n      <td>0.0</td>\n      <td>bva</td>\n    </tr>\n    <tr>\n      <th>897</th>\n      <td>46152</td>\n      <td>0.0</td>\n      <td>0.0</td>\n      <td>0.0</td>\n      <td>bva</td>\n    </tr>\n    <tr>\n      <th>898</th>\n      <td>46156</td>\n      <td>0.0</td>\n      <td>0.0</td>\n      <td>0.0</td>\n      <td>bva</td>\n    </tr>\n    <tr>\n      <th>899</th>\n      <td>46187</td>\n      <td>0.0</td>\n      <td>0.0</td>\n      <td>0.0</td>\n      <td>bva</td>\n    </tr>\n    <tr>\n      <th>900</th>\n      <td>46196</td>\n      <td>1.0</td>\n      <td>0.0</td>\n      <td>0.0</td>\n      <td>bva</td>\n    </tr>\n  </tbody>\n</table>\n<p>901 rows × 5 columns</p>\n</div>"
     },
     "execution_count": 8,
     "metadata": {},
     "output_type": "execute_result"
    }
   ],
   "source": [
    "# Creating a dataframe for auction related variables\n",
    "auction_related = pd.merge(dimProjects, dimAuction[dimAuction.columns.difference([\"is_public\"])], on ='auction_id', how ='outer')\n",
    "auction_related[\"is_homedelivery\"] = np.where(np.isnan(auction_related[\"is_homedelivery_x\"]), auction_related[\"is_homedelivery_y\"], auction_related[\"is_homedelivery_x\"])\n",
    "auction_related = auction_related.filter([\"auction_id\",'is_homedelivery', 'is_public', \"is_automatic_credit\", \"sourcing_company\"])\n",
    "auction_related = auction_related.dropna()\n",
    "auction_related = auction_related.reset_index(drop=True)\n",
    "auction_related"
   ]
  },
  {
   "cell_type": "code",
   "execution_count": 9,
   "metadata": {},
   "outputs": [
    {
     "name": "stdout",
     "output_type": "stream",
     "text": [
      "1334\n",
      "152\n"
     ]
    },
    {
     "data": {
      "text/plain": "       auction_id    lot_id  valid_bid_count  auctionfeetaxrate  \\\n0           45252  14217267              0.0                 21   \n1           44794  14124120              0.0                 21   \n2           37596  14109052              0.0                 21   \n3           37599  14203244              0.0                 21   \n4           45026  14239515              0.0                 21   \n...           ...       ...              ...                ...   \n286916      44682  14086063             28.0                  0   \n286917      45974  14302265              7.0                 21   \n286918      45294  14154011              1.0                 21   \n286919      45294  14153957              5.0                 21   \n286920      45571  14264803              6.0                 21   \n\n                      lot_topcategory  is_1euro_kavel condition  \\\n0                    Woninginrichting               0       NaN   \n1       Accu-/ elektrisch gereedschap               0       NaN   \n2                            Horloges               0       NaN   \n3                            Horloges               0       NaN   \n4                            Horloges               0       NaN   \n...                               ...             ...       ...   \n286916                   Classic cars               0  gebruikt   \n286917                 Warmtetechniek               0       NaN   \n286918  Accu-/ elektrisch gereedschap               0       NaN   \n286919  Accu-/ elektrisch gereedschap               0       NaN   \n286920              Garage-equipement               0  gebruikt   \n\n       category_seller          lot_closingdate      auction_closingdate  \\\n0               Seller                      NaN                      NaN   \n1               Seller                      NaN                      NaN   \n2               Seller                      NaN                      NaN   \n3               Seller                      NaN                      NaN   \n4               Seller                      NaN                      NaN   \n...                ...                      ...                      ...   \n286916          Seller                      NaN                      NaN   \n286917          Seller  2020-02-17 19:00:00.000  2020-02-17 00:00:00.000   \n286918      New Seller  2020-01-15 20:00:00.000  2020-01-15 00:00:00.000   \n286919      New Seller  2020-01-15 18:00:00.000  2020-01-15 00:00:00.000   \n286920          Seller  2020-02-17 16:00:00.000  2020-02-17 00:00:00.000   \n\n       closingdate  is_sold            lot_subcategory  bids  winning_bid  \n0       2020-01-30        0    Gordijnen en jaloezieen   0.0          NaN  \n1       2020-01-12        0              Slijpmachines   0.0          NaN  \n2       2020-01-02        0              Horloge Heren   0.0          NaN  \n3       2020-01-23        0              Horloge Heren   0.0          NaN  \n4       2020-01-30        0              Horloge Heren   0.0          NaN  \n...            ...      ...                        ...   ...          ...  \n286916  2020-01-29        0                    Daimler   0.0          NaN  \n286917  2020-02-17        1  Radiatoren en convectoren   6.0         31.0  \n286918  2020-01-15        1   Stroom- en verlengkabels   1.0         25.0  \n286919  2020-01-15        1   Stroom- en verlengkabels   3.0         50.0  \n286920  2020-02-17        1       Speciaal gereedschap   4.0         35.0  \n\n[286921 rows x 15 columns]",
      "text/html": "<div>\n<style scoped>\n    .dataframe tbody tr th:only-of-type {\n        vertical-align: middle;\n    }\n\n    .dataframe tbody tr th {\n        vertical-align: top;\n    }\n\n    .dataframe thead th {\n        text-align: right;\n    }\n</style>\n<table border=\"1\" class=\"dataframe\">\n  <thead>\n    <tr style=\"text-align: right;\">\n      <th></th>\n      <th>auction_id</th>\n      <th>lot_id</th>\n      <th>valid_bid_count</th>\n      <th>auctionfeetaxrate</th>\n      <th>lot_topcategory</th>\n      <th>is_1euro_kavel</th>\n      <th>condition</th>\n      <th>category_seller</th>\n      <th>lot_closingdate</th>\n      <th>auction_closingdate</th>\n      <th>closingdate</th>\n      <th>is_sold</th>\n      <th>lot_subcategory</th>\n      <th>bids</th>\n      <th>winning_bid</th>\n    </tr>\n  </thead>\n  <tbody>\n    <tr>\n      <th>0</th>\n      <td>45252</td>\n      <td>14217267</td>\n      <td>0.0</td>\n      <td>21</td>\n      <td>Woninginrichting</td>\n      <td>0</td>\n      <td>NaN</td>\n      <td>Seller</td>\n      <td>NaN</td>\n      <td>NaN</td>\n      <td>2020-01-30</td>\n      <td>0</td>\n      <td>Gordijnen en jaloezieen</td>\n      <td>0.0</td>\n      <td>NaN</td>\n    </tr>\n    <tr>\n      <th>1</th>\n      <td>44794</td>\n      <td>14124120</td>\n      <td>0.0</td>\n      <td>21</td>\n      <td>Accu-/ elektrisch gereedschap</td>\n      <td>0</td>\n      <td>NaN</td>\n      <td>Seller</td>\n      <td>NaN</td>\n      <td>NaN</td>\n      <td>2020-01-12</td>\n      <td>0</td>\n      <td>Slijpmachines</td>\n      <td>0.0</td>\n      <td>NaN</td>\n    </tr>\n    <tr>\n      <th>2</th>\n      <td>37596</td>\n      <td>14109052</td>\n      <td>0.0</td>\n      <td>21</td>\n      <td>Horloges</td>\n      <td>0</td>\n      <td>NaN</td>\n      <td>Seller</td>\n      <td>NaN</td>\n      <td>NaN</td>\n      <td>2020-01-02</td>\n      <td>0</td>\n      <td>Horloge Heren</td>\n      <td>0.0</td>\n      <td>NaN</td>\n    </tr>\n    <tr>\n      <th>3</th>\n      <td>37599</td>\n      <td>14203244</td>\n      <td>0.0</td>\n      <td>21</td>\n      <td>Horloges</td>\n      <td>0</td>\n      <td>NaN</td>\n      <td>Seller</td>\n      <td>NaN</td>\n      <td>NaN</td>\n      <td>2020-01-23</td>\n      <td>0</td>\n      <td>Horloge Heren</td>\n      <td>0.0</td>\n      <td>NaN</td>\n    </tr>\n    <tr>\n      <th>4</th>\n      <td>45026</td>\n      <td>14239515</td>\n      <td>0.0</td>\n      <td>21</td>\n      <td>Horloges</td>\n      <td>0</td>\n      <td>NaN</td>\n      <td>Seller</td>\n      <td>NaN</td>\n      <td>NaN</td>\n      <td>2020-01-30</td>\n      <td>0</td>\n      <td>Horloge Heren</td>\n      <td>0.0</td>\n      <td>NaN</td>\n    </tr>\n    <tr>\n      <th>...</th>\n      <td>...</td>\n      <td>...</td>\n      <td>...</td>\n      <td>...</td>\n      <td>...</td>\n      <td>...</td>\n      <td>...</td>\n      <td>...</td>\n      <td>...</td>\n      <td>...</td>\n      <td>...</td>\n      <td>...</td>\n      <td>...</td>\n      <td>...</td>\n      <td>...</td>\n    </tr>\n    <tr>\n      <th>286916</th>\n      <td>44682</td>\n      <td>14086063</td>\n      <td>28.0</td>\n      <td>0</td>\n      <td>Classic cars</td>\n      <td>0</td>\n      <td>gebruikt</td>\n      <td>Seller</td>\n      <td>NaN</td>\n      <td>NaN</td>\n      <td>2020-01-29</td>\n      <td>0</td>\n      <td>Daimler</td>\n      <td>0.0</td>\n      <td>NaN</td>\n    </tr>\n    <tr>\n      <th>286917</th>\n      <td>45974</td>\n      <td>14302265</td>\n      <td>7.0</td>\n      <td>21</td>\n      <td>Warmtetechniek</td>\n      <td>0</td>\n      <td>NaN</td>\n      <td>Seller</td>\n      <td>2020-02-17 19:00:00.000</td>\n      <td>2020-02-17 00:00:00.000</td>\n      <td>2020-02-17</td>\n      <td>1</td>\n      <td>Radiatoren en convectoren</td>\n      <td>6.0</td>\n      <td>31.0</td>\n    </tr>\n    <tr>\n      <th>286918</th>\n      <td>45294</td>\n      <td>14154011</td>\n      <td>1.0</td>\n      <td>21</td>\n      <td>Accu-/ elektrisch gereedschap</td>\n      <td>0</td>\n      <td>NaN</td>\n      <td>New Seller</td>\n      <td>2020-01-15 20:00:00.000</td>\n      <td>2020-01-15 00:00:00.000</td>\n      <td>2020-01-15</td>\n      <td>1</td>\n      <td>Stroom- en verlengkabels</td>\n      <td>1.0</td>\n      <td>25.0</td>\n    </tr>\n    <tr>\n      <th>286919</th>\n      <td>45294</td>\n      <td>14153957</td>\n      <td>5.0</td>\n      <td>21</td>\n      <td>Accu-/ elektrisch gereedschap</td>\n      <td>0</td>\n      <td>NaN</td>\n      <td>New Seller</td>\n      <td>2020-01-15 18:00:00.000</td>\n      <td>2020-01-15 00:00:00.000</td>\n      <td>2020-01-15</td>\n      <td>1</td>\n      <td>Stroom- en verlengkabels</td>\n      <td>3.0</td>\n      <td>50.0</td>\n    </tr>\n    <tr>\n      <th>286920</th>\n      <td>45571</td>\n      <td>14264803</td>\n      <td>6.0</td>\n      <td>21</td>\n      <td>Garage-equipement</td>\n      <td>0</td>\n      <td>gebruikt</td>\n      <td>Seller</td>\n      <td>2020-02-17 16:00:00.000</td>\n      <td>2020-02-17 00:00:00.000</td>\n      <td>2020-02-17</td>\n      <td>1</td>\n      <td>Speciaal gereedschap</td>\n      <td>4.0</td>\n      <td>35.0</td>\n    </tr>\n  </tbody>\n</table>\n<p>286921 rows × 15 columns</p>\n</div>"
     },
     "execution_count": 9,
     "metadata": {},
     "output_type": "execute_result"
    }
   ],
   "source": [
    "# Creating a dataframe for lot related variables\n",
    "\n",
    "# Adding lot related features into a new dataframe\n",
    "# (auction_id, lot_id, auctionfeetaxrate, lot_topcategory, \n",
    "# is_1euro_kavel, condition, category_seller, lot_closingdate, \n",
    "# auction_closingdate, closingdate)\n",
    "\n",
    "closing_dates = factBids.drop_duplicates(subset=['lot_id'])[[\"lot_id\", \"lot_closingdate\", \"auction_closingdate\"]]\n",
    "\n",
    "lot_related = pd.merge(dimLot, closing_dates, on ='lot_id', how ='left')\n",
    "\n",
    "lot_related = lot_related.filter([\"auction_id\",\"lot_id\",\"valid_bid_count\",\n",
    "                                  \"auctionfeetaxrate\", \"lot_topcategory\",\n",
    "                                  \"is_1euro_kavel\", \"condition\",\n",
    "                                  \"category_seller\", \"lot_closingdate\",\n",
    "                                  \"auction_closingdate\", \"closingdate\",\n",
    "                                  \"is_sold\",\"lot_subcategory\",\"bids\",\n",
    "                                  \"winning_bid\"])\n",
    "\n",
    "top15_sub_categories = lot_related['lot_subcategory'].value_counts().nlargest(15).index.tolist()\n",
    "\n",
    "print(len(lot_related['lot_subcategory'].unique().tolist()))\n",
    "print(len(lot_related['lot_topcategory'].unique().tolist()))\n",
    "\n",
    "# # lot_related = lot_related.loc[lot_related['lot_subcategory'].isin(top15_sub_categories)]\n",
    "# lot_related = lot_related.reset_index(drop=True)\n",
    "lot_related\n"
   ]
  },
  {
   "cell_type": "code",
   "source": [
    "rev_df = pd.DataFrame(columns = ['lot_topcategory',\n",
    "                                 'number_auctioned',\n",
    "                                 'number_sold',\n",
    "                                 'number_unsold',\n",
    "                                 'revenue',\n",
    "                                 'rev_per_item'])#,'scarcity_sub'\n",
    "cats = dimLot['lot_topcategory'].unique().tolist()\n",
    "\n",
    "for i in cats:\n",
    "    temp_df1 = dimLot[dimLot['lot_topcategory']==i]\n",
    "    number_auctioned=len(temp_df1)\n",
    "    number_sold = temp_df1['is_sold'].sum()\n",
    "    number_unsold = number_auctioned-number_sold\n",
    "    revenue = temp_df1['winning_bid'].sum()\n",
    "    rev_per_item = revenue/number_sold\n",
    "    rev_df = rev_df.append({\n",
    "        \"lot_topcategory\":i,\n",
    "        'number_auctioned':number_auctioned,\n",
    "        \"number_sold\": number_sold,\n",
    "        'number_unsold':number_unsold,\n",
    "        \"revenue\": revenue,\n",
    "        \"rev_per_item\":rev_per_item\n",
    "      }, ignore_index=True)\n",
    "\n",
    "rev_df"
   ],
   "metadata": {
    "collapsed": false,
    "pycharm": {
     "name": "#%%\n"
    }
   },
   "execution_count": 10,
   "outputs": [
    {
     "name": "stderr",
     "output_type": "stream",
     "text": [
      "c:\\users\\s161942\\pycharmprojects\\1bm130-group4\\venv\\lib\\site-packages\\ipykernel_launcher.py:15: RuntimeWarning: divide by zero encountered in double_scalars\n",
      "  from ipykernel import kernelapp as app\n",
      "c:\\users\\s161942\\pycharmprojects\\1bm130-group4\\venv\\lib\\site-packages\\ipykernel_launcher.py:15: RuntimeWarning: invalid value encountered in double_scalars\n",
      "  from ipykernel import kernelapp as app\n"
     ]
    },
    {
     "data": {
      "text/plain": "                   lot_topcategory number_auctioned number_sold number_unsold  \\\n0                 Woninginrichting            21578       10805         10773   \n1    Accu-/ elektrisch gereedschap            11790        7679          4111   \n2                         Horloges             7058        3610          3448   \n3                           Slapen            10628        7506          3122   \n4        Herenkleding en -schoenen            16849        7520          9329   \n..                             ...              ...         ...           ...   \n147                         Opslag                5           1             4   \n148                    Gereedschap                2           1             1   \n149                       Schouwen                1           0             1   \n150               Textielindustrie                1           1             0   \n151                           test                1           0             1   \n\n       revenue  rev_per_item  \n0    827369.20     76.572809  \n1    417226.00     54.333377  \n2    626818.50    173.633934  \n3    317227.11     42.263137  \n4    159815.00     21.251995  \n..         ...           ...  \n147       0.00      0.000000  \n148       0.00      0.000000  \n149       0.00           NaN  \n150     220.00    220.000000  \n151       0.00           NaN  \n\n[152 rows x 6 columns]",
      "text/html": "<div>\n<style scoped>\n    .dataframe tbody tr th:only-of-type {\n        vertical-align: middle;\n    }\n\n    .dataframe tbody tr th {\n        vertical-align: top;\n    }\n\n    .dataframe thead th {\n        text-align: right;\n    }\n</style>\n<table border=\"1\" class=\"dataframe\">\n  <thead>\n    <tr style=\"text-align: right;\">\n      <th></th>\n      <th>lot_topcategory</th>\n      <th>number_auctioned</th>\n      <th>number_sold</th>\n      <th>number_unsold</th>\n      <th>revenue</th>\n      <th>rev_per_item</th>\n    </tr>\n  </thead>\n  <tbody>\n    <tr>\n      <th>0</th>\n      <td>Woninginrichting</td>\n      <td>21578</td>\n      <td>10805</td>\n      <td>10773</td>\n      <td>827369.20</td>\n      <td>76.572809</td>\n    </tr>\n    <tr>\n      <th>1</th>\n      <td>Accu-/ elektrisch gereedschap</td>\n      <td>11790</td>\n      <td>7679</td>\n      <td>4111</td>\n      <td>417226.00</td>\n      <td>54.333377</td>\n    </tr>\n    <tr>\n      <th>2</th>\n      <td>Horloges</td>\n      <td>7058</td>\n      <td>3610</td>\n      <td>3448</td>\n      <td>626818.50</td>\n      <td>173.633934</td>\n    </tr>\n    <tr>\n      <th>3</th>\n      <td>Slapen</td>\n      <td>10628</td>\n      <td>7506</td>\n      <td>3122</td>\n      <td>317227.11</td>\n      <td>42.263137</td>\n    </tr>\n    <tr>\n      <th>4</th>\n      <td>Herenkleding en -schoenen</td>\n      <td>16849</td>\n      <td>7520</td>\n      <td>9329</td>\n      <td>159815.00</td>\n      <td>21.251995</td>\n    </tr>\n    <tr>\n      <th>...</th>\n      <td>...</td>\n      <td>...</td>\n      <td>...</td>\n      <td>...</td>\n      <td>...</td>\n      <td>...</td>\n    </tr>\n    <tr>\n      <th>147</th>\n      <td>Opslag</td>\n      <td>5</td>\n      <td>1</td>\n      <td>4</td>\n      <td>0.00</td>\n      <td>0.000000</td>\n    </tr>\n    <tr>\n      <th>148</th>\n      <td>Gereedschap</td>\n      <td>2</td>\n      <td>1</td>\n      <td>1</td>\n      <td>0.00</td>\n      <td>0.000000</td>\n    </tr>\n    <tr>\n      <th>149</th>\n      <td>Schouwen</td>\n      <td>1</td>\n      <td>0</td>\n      <td>1</td>\n      <td>0.00</td>\n      <td>NaN</td>\n    </tr>\n    <tr>\n      <th>150</th>\n      <td>Textielindustrie</td>\n      <td>1</td>\n      <td>1</td>\n      <td>0</td>\n      <td>220.00</td>\n      <td>220.000000</td>\n    </tr>\n    <tr>\n      <th>151</th>\n      <td>test</td>\n      <td>1</td>\n      <td>0</td>\n      <td>1</td>\n      <td>0.00</td>\n      <td>NaN</td>\n    </tr>\n  </tbody>\n</table>\n<p>152 rows × 6 columns</p>\n</div>"
     },
     "execution_count": 10,
     "metadata": {},
     "output_type": "execute_result"
    }
   ]
  },
  {
   "cell_type": "code",
   "execution_count": 11,
   "outputs": [
    {
     "name": "stdout",
     "output_type": "stream",
     "text": [
      "152\n",
      "55\n",
      "286921\n",
      "264115\n",
      "22806\n",
      "% left out  7.948529386137649\n"
     ]
    }
   ],
   "source": [
    "len_allcats = len(rev_df)\n",
    "rev_df_2 = rev_df[rev_df[\"number_auctioned\"]>1000]\n",
    "rev_df_3 = rev_df[rev_df[\"number_auctioned\"]<1000]\n",
    "len_100cats = len(rev_df_2)\n",
    "\n",
    "print(len_allcats)\n",
    "print(len_100cats)\n",
    "print(rev_df[\"number_auctioned\"].sum())\n",
    "print(rev_df_2[\"number_auctioned\"].sum())\n",
    "print(rev_df_3[\"number_auctioned\"].sum())\n",
    "print('% left out ',(rev_df_3[\"number_auctioned\"].sum()/rev_df[\"number_auctioned\"].sum())*100)\n",
    "# rev_df[\"number_auctioned\"].to_frame().sort_values(by=['number_auctioned']).style.bar()"
   ],
   "metadata": {
    "collapsed": false,
    "pycharm": {
     "name": "#%%\n"
    }
   }
  },
  {
   "cell_type": "code",
   "execution_count": 12,
   "outputs": [],
   "source": [
    "catlist = rev_df_2['lot_topcategory'].unique().tolist()\n",
    "lot_related = lot_related[lot_related['lot_topcategory'].isin(catlist)]\n",
    "\n"
   ],
   "metadata": {
    "collapsed": false,
    "pycharm": {
     "name": "#%%\n"
    }
   }
  },
  {
   "cell_type": "code",
   "execution_count": 33,
   "outputs": [
    {
     "data": {
      "application/vnd.plotly.v1+json": {
       "config": {
        "plotlyServerURL": "https://plot.ly"
       },
       "data": [
        {
         "name": "Linear Quartile Mode",
         "quartilemethod": "linear",
         "type": "box",
         "y": [
          827369.2,
          417226.0,
          626818.5,
          317227.11,
          159815.0,
          167473.0,
          47932.0,
          74534.0,
          174067.0,
          368282.0,
          67094.0,
          60312.020000000004,
          391874.1,
          27500.1,
          218487.0,
          358403.5,
          30165.0,
          462066.05,
          274024.5,
          117043.16,
          491612.53,
          270499.0,
          90167.0,
          39812.0,
          73080.0,
          59564.0,
          31215.0,
          62460.0,
          498006.0,
          39388.0,
          150616.1,
          67796.0,
          294824.0,
          81661.01000000001,
          48504.5,
          420157.0,
          226224.0,
          234581.0,
          60425.0,
          25693.0,
          27505.0,
          89262.0,
          255124.0,
          344739.6,
          204397.5,
          1076300.0,
          72138.0,
          500965.38,
          552530.0,
          35311.0,
          37358.0,
          96142.0,
          44425.0,
          23632.0,
          69041.0
         ]
        }
       ],
       "layout": {
        "template": {
         "data": {
          "bar": [
           {
            "error_x": {
             "color": "#2a3f5f"
            },
            "error_y": {
             "color": "#2a3f5f"
            },
            "marker": {
             "line": {
              "color": "#E5ECF6",
              "width": 0.5
             }
            },
            "type": "bar"
           }
          ],
          "barpolar": [
           {
            "marker": {
             "line": {
              "color": "#E5ECF6",
              "width": 0.5
             }
            },
            "type": "barpolar"
           }
          ],
          "carpet": [
           {
            "aaxis": {
             "endlinecolor": "#2a3f5f",
             "gridcolor": "white",
             "linecolor": "white",
             "minorgridcolor": "white",
             "startlinecolor": "#2a3f5f"
            },
            "baxis": {
             "endlinecolor": "#2a3f5f",
             "gridcolor": "white",
             "linecolor": "white",
             "minorgridcolor": "white",
             "startlinecolor": "#2a3f5f"
            },
            "type": "carpet"
           }
          ],
          "choropleth": [
           {
            "colorbar": {
             "outlinewidth": 0,
             "ticks": ""
            },
            "type": "choropleth"
           }
          ],
          "contour": [
           {
            "colorbar": {
             "outlinewidth": 0,
             "ticks": ""
            },
            "colorscale": [
             [
              0.0,
              "#0d0887"
             ],
             [
              0.1111111111111111,
              "#46039f"
             ],
             [
              0.2222222222222222,
              "#7201a8"
             ],
             [
              0.3333333333333333,
              "#9c179e"
             ],
             [
              0.4444444444444444,
              "#bd3786"
             ],
             [
              0.5555555555555556,
              "#d8576b"
             ],
             [
              0.6666666666666666,
              "#ed7953"
             ],
             [
              0.7777777777777778,
              "#fb9f3a"
             ],
             [
              0.8888888888888888,
              "#fdca26"
             ],
             [
              1.0,
              "#f0f921"
             ]
            ],
            "type": "contour"
           }
          ],
          "contourcarpet": [
           {
            "colorbar": {
             "outlinewidth": 0,
             "ticks": ""
            },
            "type": "contourcarpet"
           }
          ],
          "heatmap": [
           {
            "colorbar": {
             "outlinewidth": 0,
             "ticks": ""
            },
            "colorscale": [
             [
              0.0,
              "#0d0887"
             ],
             [
              0.1111111111111111,
              "#46039f"
             ],
             [
              0.2222222222222222,
              "#7201a8"
             ],
             [
              0.3333333333333333,
              "#9c179e"
             ],
             [
              0.4444444444444444,
              "#bd3786"
             ],
             [
              0.5555555555555556,
              "#d8576b"
             ],
             [
              0.6666666666666666,
              "#ed7953"
             ],
             [
              0.7777777777777778,
              "#fb9f3a"
             ],
             [
              0.8888888888888888,
              "#fdca26"
             ],
             [
              1.0,
              "#f0f921"
             ]
            ],
            "type": "heatmap"
           }
          ],
          "heatmapgl": [
           {
            "colorbar": {
             "outlinewidth": 0,
             "ticks": ""
            },
            "colorscale": [
             [
              0.0,
              "#0d0887"
             ],
             [
              0.1111111111111111,
              "#46039f"
             ],
             [
              0.2222222222222222,
              "#7201a8"
             ],
             [
              0.3333333333333333,
              "#9c179e"
             ],
             [
              0.4444444444444444,
              "#bd3786"
             ],
             [
              0.5555555555555556,
              "#d8576b"
             ],
             [
              0.6666666666666666,
              "#ed7953"
             ],
             [
              0.7777777777777778,
              "#fb9f3a"
             ],
             [
              0.8888888888888888,
              "#fdca26"
             ],
             [
              1.0,
              "#f0f921"
             ]
            ],
            "type": "heatmapgl"
           }
          ],
          "histogram": [
           {
            "marker": {
             "colorbar": {
              "outlinewidth": 0,
              "ticks": ""
             }
            },
            "type": "histogram"
           }
          ],
          "histogram2d": [
           {
            "colorbar": {
             "outlinewidth": 0,
             "ticks": ""
            },
            "colorscale": [
             [
              0.0,
              "#0d0887"
             ],
             [
              0.1111111111111111,
              "#46039f"
             ],
             [
              0.2222222222222222,
              "#7201a8"
             ],
             [
              0.3333333333333333,
              "#9c179e"
             ],
             [
              0.4444444444444444,
              "#bd3786"
             ],
             [
              0.5555555555555556,
              "#d8576b"
             ],
             [
              0.6666666666666666,
              "#ed7953"
             ],
             [
              0.7777777777777778,
              "#fb9f3a"
             ],
             [
              0.8888888888888888,
              "#fdca26"
             ],
             [
              1.0,
              "#f0f921"
             ]
            ],
            "type": "histogram2d"
           }
          ],
          "histogram2dcontour": [
           {
            "colorbar": {
             "outlinewidth": 0,
             "ticks": ""
            },
            "colorscale": [
             [
              0.0,
              "#0d0887"
             ],
             [
              0.1111111111111111,
              "#46039f"
             ],
             [
              0.2222222222222222,
              "#7201a8"
             ],
             [
              0.3333333333333333,
              "#9c179e"
             ],
             [
              0.4444444444444444,
              "#bd3786"
             ],
             [
              0.5555555555555556,
              "#d8576b"
             ],
             [
              0.6666666666666666,
              "#ed7953"
             ],
             [
              0.7777777777777778,
              "#fb9f3a"
             ],
             [
              0.8888888888888888,
              "#fdca26"
             ],
             [
              1.0,
              "#f0f921"
             ]
            ],
            "type": "histogram2dcontour"
           }
          ],
          "mesh3d": [
           {
            "colorbar": {
             "outlinewidth": 0,
             "ticks": ""
            },
            "type": "mesh3d"
           }
          ],
          "parcoords": [
           {
            "line": {
             "colorbar": {
              "outlinewidth": 0,
              "ticks": ""
             }
            },
            "type": "parcoords"
           }
          ],
          "pie": [
           {
            "automargin": true,
            "type": "pie"
           }
          ],
          "scatter": [
           {
            "marker": {
             "colorbar": {
              "outlinewidth": 0,
              "ticks": ""
             }
            },
            "type": "scatter"
           }
          ],
          "scatter3d": [
           {
            "line": {
             "colorbar": {
              "outlinewidth": 0,
              "ticks": ""
             }
            },
            "marker": {
             "colorbar": {
              "outlinewidth": 0,
              "ticks": ""
             }
            },
            "type": "scatter3d"
           }
          ],
          "scattercarpet": [
           {
            "marker": {
             "colorbar": {
              "outlinewidth": 0,
              "ticks": ""
             }
            },
            "type": "scattercarpet"
           }
          ],
          "scattergeo": [
           {
            "marker": {
             "colorbar": {
              "outlinewidth": 0,
              "ticks": ""
             }
            },
            "type": "scattergeo"
           }
          ],
          "scattergl": [
           {
            "marker": {
             "colorbar": {
              "outlinewidth": 0,
              "ticks": ""
             }
            },
            "type": "scattergl"
           }
          ],
          "scattermapbox": [
           {
            "marker": {
             "colorbar": {
              "outlinewidth": 0,
              "ticks": ""
             }
            },
            "type": "scattermapbox"
           }
          ],
          "scatterpolar": [
           {
            "marker": {
             "colorbar": {
              "outlinewidth": 0,
              "ticks": ""
             }
            },
            "type": "scatterpolar"
           }
          ],
          "scatterpolargl": [
           {
            "marker": {
             "colorbar": {
              "outlinewidth": 0,
              "ticks": ""
             }
            },
            "type": "scatterpolargl"
           }
          ],
          "scatterternary": [
           {
            "marker": {
             "colorbar": {
              "outlinewidth": 0,
              "ticks": ""
             }
            },
            "type": "scatterternary"
           }
          ],
          "surface": [
           {
            "colorbar": {
             "outlinewidth": 0,
             "ticks": ""
            },
            "colorscale": [
             [
              0.0,
              "#0d0887"
             ],
             [
              0.1111111111111111,
              "#46039f"
             ],
             [
              0.2222222222222222,
              "#7201a8"
             ],
             [
              0.3333333333333333,
              "#9c179e"
             ],
             [
              0.4444444444444444,
              "#bd3786"
             ],
             [
              0.5555555555555556,
              "#d8576b"
             ],
             [
              0.6666666666666666,
              "#ed7953"
             ],
             [
              0.7777777777777778,
              "#fb9f3a"
             ],
             [
              0.8888888888888888,
              "#fdca26"
             ],
             [
              1.0,
              "#f0f921"
             ]
            ],
            "type": "surface"
           }
          ],
          "table": [
           {
            "cells": {
             "fill": {
              "color": "#EBF0F8"
             },
             "line": {
              "color": "white"
             }
            },
            "header": {
             "fill": {
              "color": "#C8D4E3"
             },
             "line": {
              "color": "white"
             }
            },
            "type": "table"
           }
          ]
         },
         "layout": {
          "annotationdefaults": {
           "arrowcolor": "#2a3f5f",
           "arrowhead": 0,
           "arrowwidth": 1
          },
          "autotypenumbers": "strict",
          "coloraxis": {
           "colorbar": {
            "outlinewidth": 0,
            "ticks": ""
           }
          },
          "colorscale": {
           "diverging": [
            [
             0,
             "#8e0152"
            ],
            [
             0.1,
             "#c51b7d"
            ],
            [
             0.2,
             "#de77ae"
            ],
            [
             0.3,
             "#f1b6da"
            ],
            [
             0.4,
             "#fde0ef"
            ],
            [
             0.5,
             "#f7f7f7"
            ],
            [
             0.6,
             "#e6f5d0"
            ],
            [
             0.7,
             "#b8e186"
            ],
            [
             0.8,
             "#7fbc41"
            ],
            [
             0.9,
             "#4d9221"
            ],
            [
             1,
             "#276419"
            ]
           ],
           "sequential": [
            [
             0.0,
             "#0d0887"
            ],
            [
             0.1111111111111111,
             "#46039f"
            ],
            [
             0.2222222222222222,
             "#7201a8"
            ],
            [
             0.3333333333333333,
             "#9c179e"
            ],
            [
             0.4444444444444444,
             "#bd3786"
            ],
            [
             0.5555555555555556,
             "#d8576b"
            ],
            [
             0.6666666666666666,
             "#ed7953"
            ],
            [
             0.7777777777777778,
             "#fb9f3a"
            ],
            [
             0.8888888888888888,
             "#fdca26"
            ],
            [
             1.0,
             "#f0f921"
            ]
           ],
           "sequentialminus": [
            [
             0.0,
             "#0d0887"
            ],
            [
             0.1111111111111111,
             "#46039f"
            ],
            [
             0.2222222222222222,
             "#7201a8"
            ],
            [
             0.3333333333333333,
             "#9c179e"
            ],
            [
             0.4444444444444444,
             "#bd3786"
            ],
            [
             0.5555555555555556,
             "#d8576b"
            ],
            [
             0.6666666666666666,
             "#ed7953"
            ],
            [
             0.7777777777777778,
             "#fb9f3a"
            ],
            [
             0.8888888888888888,
             "#fdca26"
            ],
            [
             1.0,
             "#f0f921"
            ]
           ]
          },
          "colorway": [
           "#636efa",
           "#EF553B",
           "#00cc96",
           "#ab63fa",
           "#FFA15A",
           "#19d3f3",
           "#FF6692",
           "#B6E880",
           "#FF97FF",
           "#FECB52"
          ],
          "font": {
           "color": "#2a3f5f"
          },
          "geo": {
           "bgcolor": "white",
           "lakecolor": "white",
           "landcolor": "#E5ECF6",
           "showlakes": true,
           "showland": true,
           "subunitcolor": "white"
          },
          "hoverlabel": {
           "align": "left"
          },
          "hovermode": "closest",
          "mapbox": {
           "style": "light"
          },
          "paper_bgcolor": "white",
          "plot_bgcolor": "#E5ECF6",
          "polar": {
           "angularaxis": {
            "gridcolor": "white",
            "linecolor": "white",
            "ticks": ""
           },
           "bgcolor": "#E5ECF6",
           "radialaxis": {
            "gridcolor": "white",
            "linecolor": "white",
            "ticks": ""
           }
          },
          "scene": {
           "xaxis": {
            "backgroundcolor": "#E5ECF6",
            "gridcolor": "white",
            "gridwidth": 2,
            "linecolor": "white",
            "showbackground": true,
            "ticks": "",
            "zerolinecolor": "white"
           },
           "yaxis": {
            "backgroundcolor": "#E5ECF6",
            "gridcolor": "white",
            "gridwidth": 2,
            "linecolor": "white",
            "showbackground": true,
            "ticks": "",
            "zerolinecolor": "white"
           },
           "zaxis": {
            "backgroundcolor": "#E5ECF6",
            "gridcolor": "white",
            "gridwidth": 2,
            "linecolor": "white",
            "showbackground": true,
            "ticks": "",
            "zerolinecolor": "white"
           }
          },
          "shapedefaults": {
           "line": {
            "color": "#2a3f5f"
           }
          },
          "ternary": {
           "aaxis": {
            "gridcolor": "white",
            "linecolor": "white",
            "ticks": ""
           },
           "baxis": {
            "gridcolor": "white",
            "linecolor": "white",
            "ticks": ""
           },
           "bgcolor": "#E5ECF6",
           "caxis": {
            "gridcolor": "white",
            "linecolor": "white",
            "ticks": ""
           }
          },
          "title": {
           "x": 0.05
          },
          "xaxis": {
           "automargin": true,
           "gridcolor": "white",
           "linecolor": "white",
           "ticks": "",
           "title": {
            "standoff": 15
           },
           "zerolinecolor": "white",
           "zerolinewidth": 2
          },
          "yaxis": {
           "automargin": true,
           "gridcolor": "white",
           "linecolor": "white",
           "ticks": "",
           "title": {
            "standoff": 15
           },
           "zerolinecolor": "white",
           "zerolinewidth": 2
          }
         }
        }
       }
      },
      "text/html": "<div>                            <div id=\"4065e392-18d8-4b17-ab83-82dd9a20fb8d\" class=\"plotly-graph-div\" style=\"height:525px; width:100%;\"></div>            <script type=\"text/javascript\">                require([\"plotly\"], function(Plotly) {                    window.PLOTLYENV=window.PLOTLYENV || {};                                    if (document.getElementById(\"4065e392-18d8-4b17-ab83-82dd9a20fb8d\")) {                    Plotly.newPlot(                        \"4065e392-18d8-4b17-ab83-82dd9a20fb8d\",                        [{\"name\": \"Linear Quartile Mode\", \"quartilemethod\": \"linear\", \"type\": \"box\", \"y\": [827369.2, 417226.0, 626818.5, 317227.11, 159815.0, 167473.0, 47932.0, 74534.0, 174067.0, 368282.0, 67094.0, 60312.020000000004, 391874.1, 27500.1, 218487.0, 358403.5, 30165.0, 462066.05, 274024.5, 117043.16, 491612.53, 270499.0, 90167.0, 39812.0, 73080.0, 59564.0, 31215.0, 62460.0, 498006.0, 39388.0, 150616.1, 67796.0, 294824.0, 81661.01000000001, 48504.5, 420157.0, 226224.0, 234581.0, 60425.0, 25693.0, 27505.0, 89262.0, 255124.0, 344739.6, 204397.5, 1076300.0, 72138.0, 500965.38, 552530.0, 35311.0, 37358.0, 96142.0, 44425.0, 23632.0, 69041.0]}],                        {\"template\": {\"data\": {\"bar\": [{\"error_x\": {\"color\": \"#2a3f5f\"}, \"error_y\": {\"color\": \"#2a3f5f\"}, \"marker\": {\"line\": {\"color\": \"#E5ECF6\", \"width\": 0.5}}, \"type\": \"bar\"}], \"barpolar\": [{\"marker\": {\"line\": {\"color\": \"#E5ECF6\", \"width\": 0.5}}, \"type\": \"barpolar\"}], \"carpet\": [{\"aaxis\": {\"endlinecolor\": \"#2a3f5f\", \"gridcolor\": \"white\", \"linecolor\": \"white\", \"minorgridcolor\": \"white\", \"startlinecolor\": \"#2a3f5f\"}, \"baxis\": {\"endlinecolor\": \"#2a3f5f\", \"gridcolor\": \"white\", \"linecolor\": \"white\", \"minorgridcolor\": \"white\", \"startlinecolor\": \"#2a3f5f\"}, \"type\": \"carpet\"}], \"choropleth\": [{\"colorbar\": {\"outlinewidth\": 0, \"ticks\": \"\"}, \"type\": \"choropleth\"}], \"contour\": [{\"colorbar\": {\"outlinewidth\": 0, \"ticks\": \"\"}, \"colorscale\": [[0.0, \"#0d0887\"], [0.1111111111111111, \"#46039f\"], [0.2222222222222222, \"#7201a8\"], [0.3333333333333333, \"#9c179e\"], [0.4444444444444444, \"#bd3786\"], [0.5555555555555556, \"#d8576b\"], [0.6666666666666666, \"#ed7953\"], [0.7777777777777778, \"#fb9f3a\"], [0.8888888888888888, \"#fdca26\"], [1.0, \"#f0f921\"]], \"type\": \"contour\"}], \"contourcarpet\": [{\"colorbar\": {\"outlinewidth\": 0, \"ticks\": \"\"}, \"type\": \"contourcarpet\"}], \"heatmap\": [{\"colorbar\": {\"outlinewidth\": 0, \"ticks\": \"\"}, \"colorscale\": [[0.0, \"#0d0887\"], [0.1111111111111111, \"#46039f\"], [0.2222222222222222, \"#7201a8\"], [0.3333333333333333, \"#9c179e\"], [0.4444444444444444, \"#bd3786\"], [0.5555555555555556, \"#d8576b\"], [0.6666666666666666, \"#ed7953\"], [0.7777777777777778, \"#fb9f3a\"], [0.8888888888888888, \"#fdca26\"], [1.0, \"#f0f921\"]], \"type\": \"heatmap\"}], \"heatmapgl\": [{\"colorbar\": {\"outlinewidth\": 0, \"ticks\": \"\"}, \"colorscale\": [[0.0, \"#0d0887\"], [0.1111111111111111, \"#46039f\"], [0.2222222222222222, \"#7201a8\"], [0.3333333333333333, \"#9c179e\"], [0.4444444444444444, \"#bd3786\"], [0.5555555555555556, \"#d8576b\"], [0.6666666666666666, \"#ed7953\"], [0.7777777777777778, \"#fb9f3a\"], [0.8888888888888888, \"#fdca26\"], [1.0, \"#f0f921\"]], \"type\": \"heatmapgl\"}], \"histogram\": [{\"marker\": {\"colorbar\": {\"outlinewidth\": 0, \"ticks\": \"\"}}, \"type\": \"histogram\"}], \"histogram2d\": [{\"colorbar\": {\"outlinewidth\": 0, \"ticks\": \"\"}, \"colorscale\": [[0.0, \"#0d0887\"], [0.1111111111111111, \"#46039f\"], [0.2222222222222222, \"#7201a8\"], [0.3333333333333333, \"#9c179e\"], [0.4444444444444444, \"#bd3786\"], [0.5555555555555556, \"#d8576b\"], [0.6666666666666666, \"#ed7953\"], [0.7777777777777778, \"#fb9f3a\"], [0.8888888888888888, \"#fdca26\"], [1.0, \"#f0f921\"]], \"type\": \"histogram2d\"}], \"histogram2dcontour\": [{\"colorbar\": {\"outlinewidth\": 0, \"ticks\": \"\"}, \"colorscale\": [[0.0, \"#0d0887\"], [0.1111111111111111, \"#46039f\"], [0.2222222222222222, \"#7201a8\"], [0.3333333333333333, \"#9c179e\"], [0.4444444444444444, \"#bd3786\"], [0.5555555555555556, \"#d8576b\"], [0.6666666666666666, \"#ed7953\"], [0.7777777777777778, \"#fb9f3a\"], [0.8888888888888888, \"#fdca26\"], [1.0, \"#f0f921\"]], \"type\": \"histogram2dcontour\"}], \"mesh3d\": [{\"colorbar\": {\"outlinewidth\": 0, \"ticks\": \"\"}, \"type\": \"mesh3d\"}], \"parcoords\": [{\"line\": {\"colorbar\": {\"outlinewidth\": 0, \"ticks\": \"\"}}, \"type\": \"parcoords\"}], \"pie\": [{\"automargin\": true, \"type\": \"pie\"}], \"scatter\": [{\"marker\": {\"colorbar\": {\"outlinewidth\": 0, \"ticks\": \"\"}}, \"type\": \"scatter\"}], \"scatter3d\": [{\"line\": {\"colorbar\": {\"outlinewidth\": 0, \"ticks\": \"\"}}, \"marker\": {\"colorbar\": {\"outlinewidth\": 0, \"ticks\": \"\"}}, \"type\": \"scatter3d\"}], \"scattercarpet\": [{\"marker\": {\"colorbar\": {\"outlinewidth\": 0, \"ticks\": \"\"}}, \"type\": \"scattercarpet\"}], \"scattergeo\": [{\"marker\": {\"colorbar\": {\"outlinewidth\": 0, \"ticks\": \"\"}}, \"type\": \"scattergeo\"}], \"scattergl\": [{\"marker\": {\"colorbar\": {\"outlinewidth\": 0, \"ticks\": \"\"}}, \"type\": \"scattergl\"}], \"scattermapbox\": [{\"marker\": {\"colorbar\": {\"outlinewidth\": 0, \"ticks\": \"\"}}, \"type\": \"scattermapbox\"}], \"scatterpolar\": [{\"marker\": {\"colorbar\": {\"outlinewidth\": 0, \"ticks\": \"\"}}, \"type\": \"scatterpolar\"}], \"scatterpolargl\": [{\"marker\": {\"colorbar\": {\"outlinewidth\": 0, \"ticks\": \"\"}}, \"type\": \"scatterpolargl\"}], \"scatterternary\": [{\"marker\": {\"colorbar\": {\"outlinewidth\": 0, \"ticks\": \"\"}}, \"type\": \"scatterternary\"}], \"surface\": [{\"colorbar\": {\"outlinewidth\": 0, \"ticks\": \"\"}, \"colorscale\": [[0.0, \"#0d0887\"], [0.1111111111111111, \"#46039f\"], [0.2222222222222222, \"#7201a8\"], [0.3333333333333333, \"#9c179e\"], [0.4444444444444444, \"#bd3786\"], [0.5555555555555556, \"#d8576b\"], [0.6666666666666666, \"#ed7953\"], [0.7777777777777778, \"#fb9f3a\"], [0.8888888888888888, \"#fdca26\"], [1.0, \"#f0f921\"]], \"type\": \"surface\"}], \"table\": [{\"cells\": {\"fill\": {\"color\": \"#EBF0F8\"}, \"line\": {\"color\": \"white\"}}, \"header\": {\"fill\": {\"color\": \"#C8D4E3\"}, \"line\": {\"color\": \"white\"}}, \"type\": \"table\"}]}, \"layout\": {\"annotationdefaults\": {\"arrowcolor\": \"#2a3f5f\", \"arrowhead\": 0, \"arrowwidth\": 1}, \"autotypenumbers\": \"strict\", \"coloraxis\": {\"colorbar\": {\"outlinewidth\": 0, \"ticks\": \"\"}}, \"colorscale\": {\"diverging\": [[0, \"#8e0152\"], [0.1, \"#c51b7d\"], [0.2, \"#de77ae\"], [0.3, \"#f1b6da\"], [0.4, \"#fde0ef\"], [0.5, \"#f7f7f7\"], [0.6, \"#e6f5d0\"], [0.7, \"#b8e186\"], [0.8, \"#7fbc41\"], [0.9, \"#4d9221\"], [1, \"#276419\"]], \"sequential\": [[0.0, \"#0d0887\"], [0.1111111111111111, \"#46039f\"], [0.2222222222222222, \"#7201a8\"], [0.3333333333333333, \"#9c179e\"], [0.4444444444444444, \"#bd3786\"], [0.5555555555555556, \"#d8576b\"], [0.6666666666666666, \"#ed7953\"], [0.7777777777777778, \"#fb9f3a\"], [0.8888888888888888, \"#fdca26\"], [1.0, \"#f0f921\"]], \"sequentialminus\": [[0.0, \"#0d0887\"], [0.1111111111111111, \"#46039f\"], [0.2222222222222222, \"#7201a8\"], [0.3333333333333333, \"#9c179e\"], [0.4444444444444444, \"#bd3786\"], [0.5555555555555556, \"#d8576b\"], [0.6666666666666666, \"#ed7953\"], [0.7777777777777778, \"#fb9f3a\"], [0.8888888888888888, \"#fdca26\"], [1.0, \"#f0f921\"]]}, \"colorway\": [\"#636efa\", \"#EF553B\", \"#00cc96\", \"#ab63fa\", \"#FFA15A\", \"#19d3f3\", \"#FF6692\", \"#B6E880\", \"#FF97FF\", \"#FECB52\"], \"font\": {\"color\": \"#2a3f5f\"}, \"geo\": {\"bgcolor\": \"white\", \"lakecolor\": \"white\", \"landcolor\": \"#E5ECF6\", \"showlakes\": true, \"showland\": true, \"subunitcolor\": \"white\"}, \"hoverlabel\": {\"align\": \"left\"}, \"hovermode\": \"closest\", \"mapbox\": {\"style\": \"light\"}, \"paper_bgcolor\": \"white\", \"plot_bgcolor\": \"#E5ECF6\", \"polar\": {\"angularaxis\": {\"gridcolor\": \"white\", \"linecolor\": \"white\", \"ticks\": \"\"}, \"bgcolor\": \"#E5ECF6\", \"radialaxis\": {\"gridcolor\": \"white\", \"linecolor\": \"white\", \"ticks\": \"\"}}, \"scene\": {\"xaxis\": {\"backgroundcolor\": \"#E5ECF6\", \"gridcolor\": \"white\", \"gridwidth\": 2, \"linecolor\": \"white\", \"showbackground\": true, \"ticks\": \"\", \"zerolinecolor\": \"white\"}, \"yaxis\": {\"backgroundcolor\": \"#E5ECF6\", \"gridcolor\": \"white\", \"gridwidth\": 2, \"linecolor\": \"white\", \"showbackground\": true, \"ticks\": \"\", \"zerolinecolor\": \"white\"}, \"zaxis\": {\"backgroundcolor\": \"#E5ECF6\", \"gridcolor\": \"white\", \"gridwidth\": 2, \"linecolor\": \"white\", \"showbackground\": true, \"ticks\": \"\", \"zerolinecolor\": \"white\"}}, \"shapedefaults\": {\"line\": {\"color\": \"#2a3f5f\"}}, \"ternary\": {\"aaxis\": {\"gridcolor\": \"white\", \"linecolor\": \"white\", \"ticks\": \"\"}, \"baxis\": {\"gridcolor\": \"white\", \"linecolor\": \"white\", \"ticks\": \"\"}, \"bgcolor\": \"#E5ECF6\", \"caxis\": {\"gridcolor\": \"white\", \"linecolor\": \"white\", \"ticks\": \"\"}}, \"title\": {\"x\": 0.05}, \"xaxis\": {\"automargin\": true, \"gridcolor\": \"white\", \"linecolor\": \"white\", \"ticks\": \"\", \"title\": {\"standoff\": 15}, \"zerolinecolor\": \"white\", \"zerolinewidth\": 2}, \"yaxis\": {\"automargin\": true, \"gridcolor\": \"white\", \"linecolor\": \"white\", \"ticks\": \"\", \"title\": {\"standoff\": 15}, \"zerolinecolor\": \"white\", \"zerolinewidth\": 2}}}},                        {\"responsive\": true}                    ).then(function(){\n                            \nvar gd = document.getElementById('4065e392-18d8-4b17-ab83-82dd9a20fb8d');\nvar x = new MutationObserver(function (mutations, observer) {{\n        var display = window.getComputedStyle(gd).display;\n        if (!display || display === 'none') {{\n            console.log([gd, 'removed!']);\n            Plotly.purge(gd);\n            observer.disconnect();\n        }}\n}});\n\n// Listen for the removal of the full notebook cells\nvar notebookContainer = gd.closest('#notebook-container');\nif (notebookContainer) {{\n    x.observe(notebookContainer, {childList: true});\n}}\n\n// Listen for the clearing of the current output cell\nvar outputEl = gd.closest('.output');\nif (outputEl) {{\n    x.observe(outputEl, {childList: true});\n}}\n\n                        })                };                });            </script>        </div>"
     },
     "metadata": {},
     "output_type": "display_data"
    }
   ],
   "source": [
    "import plotly.graph_objects as go\n",
    "fig = go.Figure()\n",
    "fig.add_trace(go.Box(y=rev_df_2['revenue'],\n",
    "                     quartilemethod=\"linear\",\n",
    "                     name=\"Linear Quartile Mode\"))"
   ],
   "metadata": {
    "collapsed": false,
    "pycharm": {
     "name": "#%%\n"
    }
   }
  },
  {
   "cell_type": "code",
   "execution_count": null,
   "outputs": [],
   "source": [
    "import plotly.express as px\n",
    "fig = px.bar(rev_df, x=rev_df.index, y='rev_per_item')\n",
    "fig.show()\n"
   ],
   "metadata": {
    "collapsed": false,
    "pycharm": {
     "name": "#%%\n"
    }
   }
  },
  {
   "cell_type": "markdown",
   "metadata": {},
   "source": [
    "#### Convert the datatype of auction_id to float"
   ]
  },
  {
   "cell_type": "code",
   "execution_count": 13,
   "metadata": {},
   "outputs": [
    {
     "name": "stderr",
     "output_type": "stream",
     "text": [
      "c:\\users\\s161942\\pycharmprojects\\1bm130-group4\\venv\\lib\\site-packages\\pandas\\core\\indexing.py:1720: SettingWithCopyWarning: \n",
      "A value is trying to be set on a copy of a slice from a DataFrame.\n",
      "Try using .loc[row_indexer,col_indexer] = value instead\n",
      "\n",
      "See the caveats in the documentation: https://pandas.pydata.org/pandas-docs/stable/user_guide/indexing.html#returning-a-view-versus-a-copy\n",
      "  self._setitem_single_column(loc, value, pi)\n",
      "c:\\users\\s161942\\pycharmprojects\\1bm130-group4\\venv\\lib\\site-packages\\ipykernel_launcher.py:4: SettingWithCopyWarning: \n",
      "A value is trying to be set on a copy of a slice from a DataFrame.\n",
      "Try using .loc[row_indexer,col_indexer] = value instead\n",
      "\n",
      "See the caveats in the documentation: https://pandas.pydata.org/pandas-docs/stable/user_guide/indexing.html#returning-a-view-versus-a-copy\n",
      "  after removing the cwd from sys.path.\n"
     ]
    }
   ],
   "source": [
    "# Dealing with one faulty auction_id value\n",
    "lot_related.loc[lot_related['auction_id'] == \"3667-\", \"auction_id\"] = \"3667\"\n",
    "\n",
    "lot_related['auction_id'] = pd.to_numeric(lot_related['auction_id'])"
   ]
  },
  {
   "cell_type": "markdown",
   "metadata": {},
   "source": [
    "#### Adding starting_amount column from factLots dataframe"
   ]
  },
  {
   "cell_type": "code",
   "execution_count": 14,
   "metadata": {
    "scrolled": true
   },
   "outputs": [
    {
     "data": {
      "text/plain": "        auction_id    lot_id  valid_bid_count  auctionfeetaxrate  \\\n0            45252  14217267              0.0                 21   \n1            44794  14124120              0.0                 21   \n2            37596  14109052              0.0                 21   \n3            37599  14203244              0.0                 21   \n4            45026  14239515              0.0                 21   \n...            ...       ...              ...                ...   \n286914       46066  14354817              0.0                 21   \n286917       45974  14302265              7.0                 21   \n286918       45294  14154011              1.0                 21   \n286919       45294  14153957              5.0                 21   \n286920       45571  14264803              6.0                 21   \n\n                      lot_topcategory  is_1euro_kavel condition  \\\n0                    Woninginrichting               0       NaN   \n1       Accu-/ elektrisch gereedschap               0       NaN   \n2                            Horloges               0       NaN   \n3                            Horloges               0       NaN   \n4                            Horloges               0       NaN   \n...                               ...             ...       ...   \n286914         Magazijn en werkplaats               0       NaN   \n286917                 Warmtetechniek               0       NaN   \n286918  Accu-/ elektrisch gereedschap               0       NaN   \n286919  Accu-/ elektrisch gereedschap               0       NaN   \n286920              Garage-equipement               0  gebruikt   \n\n       category_seller          lot_closingdate      auction_closingdate  \\\n0               Seller                      NaN                      NaN   \n1               Seller                      NaN                      NaN   \n2               Seller                      NaN                      NaN   \n3               Seller                      NaN                      NaN   \n4               Seller                      NaN                      NaN   \n...                ...                      ...                      ...   \n286914          Seller                      NaN                      NaN   \n286917          Seller  2020-02-17 19:00:00.000  2020-02-17 00:00:00.000   \n286918      New Seller  2020-01-15 20:00:00.000  2020-01-15 00:00:00.000   \n286919      New Seller  2020-01-15 18:00:00.000  2020-01-15 00:00:00.000   \n286920          Seller  2020-02-17 16:00:00.000  2020-02-17 00:00:00.000   \n\n       closingdate  is_sold            lot_subcategory  bids  winning_bid  \\\n0       2020-01-30        0    Gordijnen en jaloezieen   0.0          NaN   \n1       2020-01-12        0              Slijpmachines   0.0          NaN   \n2       2020-01-02        0              Horloge Heren   0.0          NaN   \n3       2020-01-23        0              Horloge Heren   0.0          NaN   \n4       2020-01-30        0              Horloge Heren   0.0          NaN   \n...            ...      ...                        ...   ...          ...   \n286914  2020-02-19        0          Klimaatbeheersing   0.0          NaN   \n286917  2020-02-17        1  Radiatoren en convectoren   6.0         31.0   \n286918  2020-01-15        1   Stroom- en verlengkabels   1.0         25.0   \n286919  2020-01-15        1   Stroom- en verlengkabels   3.0         50.0   \n286920  2020-02-17        1       Speciaal gereedschap   4.0         35.0   \n\n        startamount  \n0              20.0  \n1              30.0  \n2              65.0  \n3             335.0  \n4              65.0  \n...             ...  \n286914         10.0  \n286917          5.0  \n286918         20.0  \n286919         20.0  \n286920          5.0  \n\n[264115 rows x 16 columns]",
      "text/html": "<div>\n<style scoped>\n    .dataframe tbody tr th:only-of-type {\n        vertical-align: middle;\n    }\n\n    .dataframe tbody tr th {\n        vertical-align: top;\n    }\n\n    .dataframe thead th {\n        text-align: right;\n    }\n</style>\n<table border=\"1\" class=\"dataframe\">\n  <thead>\n    <tr style=\"text-align: right;\">\n      <th></th>\n      <th>auction_id</th>\n      <th>lot_id</th>\n      <th>valid_bid_count</th>\n      <th>auctionfeetaxrate</th>\n      <th>lot_topcategory</th>\n      <th>is_1euro_kavel</th>\n      <th>condition</th>\n      <th>category_seller</th>\n      <th>lot_closingdate</th>\n      <th>auction_closingdate</th>\n      <th>closingdate</th>\n      <th>is_sold</th>\n      <th>lot_subcategory</th>\n      <th>bids</th>\n      <th>winning_bid</th>\n      <th>startamount</th>\n    </tr>\n  </thead>\n  <tbody>\n    <tr>\n      <th>0</th>\n      <td>45252</td>\n      <td>14217267</td>\n      <td>0.0</td>\n      <td>21</td>\n      <td>Woninginrichting</td>\n      <td>0</td>\n      <td>NaN</td>\n      <td>Seller</td>\n      <td>NaN</td>\n      <td>NaN</td>\n      <td>2020-01-30</td>\n      <td>0</td>\n      <td>Gordijnen en jaloezieen</td>\n      <td>0.0</td>\n      <td>NaN</td>\n      <td>20.0</td>\n    </tr>\n    <tr>\n      <th>1</th>\n      <td>44794</td>\n      <td>14124120</td>\n      <td>0.0</td>\n      <td>21</td>\n      <td>Accu-/ elektrisch gereedschap</td>\n      <td>0</td>\n      <td>NaN</td>\n      <td>Seller</td>\n      <td>NaN</td>\n      <td>NaN</td>\n      <td>2020-01-12</td>\n      <td>0</td>\n      <td>Slijpmachines</td>\n      <td>0.0</td>\n      <td>NaN</td>\n      <td>30.0</td>\n    </tr>\n    <tr>\n      <th>2</th>\n      <td>37596</td>\n      <td>14109052</td>\n      <td>0.0</td>\n      <td>21</td>\n      <td>Horloges</td>\n      <td>0</td>\n      <td>NaN</td>\n      <td>Seller</td>\n      <td>NaN</td>\n      <td>NaN</td>\n      <td>2020-01-02</td>\n      <td>0</td>\n      <td>Horloge Heren</td>\n      <td>0.0</td>\n      <td>NaN</td>\n      <td>65.0</td>\n    </tr>\n    <tr>\n      <th>3</th>\n      <td>37599</td>\n      <td>14203244</td>\n      <td>0.0</td>\n      <td>21</td>\n      <td>Horloges</td>\n      <td>0</td>\n      <td>NaN</td>\n      <td>Seller</td>\n      <td>NaN</td>\n      <td>NaN</td>\n      <td>2020-01-23</td>\n      <td>0</td>\n      <td>Horloge Heren</td>\n      <td>0.0</td>\n      <td>NaN</td>\n      <td>335.0</td>\n    </tr>\n    <tr>\n      <th>4</th>\n      <td>45026</td>\n      <td>14239515</td>\n      <td>0.0</td>\n      <td>21</td>\n      <td>Horloges</td>\n      <td>0</td>\n      <td>NaN</td>\n      <td>Seller</td>\n      <td>NaN</td>\n      <td>NaN</td>\n      <td>2020-01-30</td>\n      <td>0</td>\n      <td>Horloge Heren</td>\n      <td>0.0</td>\n      <td>NaN</td>\n      <td>65.0</td>\n    </tr>\n    <tr>\n      <th>...</th>\n      <td>...</td>\n      <td>...</td>\n      <td>...</td>\n      <td>...</td>\n      <td>...</td>\n      <td>...</td>\n      <td>...</td>\n      <td>...</td>\n      <td>...</td>\n      <td>...</td>\n      <td>...</td>\n      <td>...</td>\n      <td>...</td>\n      <td>...</td>\n      <td>...</td>\n      <td>...</td>\n    </tr>\n    <tr>\n      <th>286914</th>\n      <td>46066</td>\n      <td>14354817</td>\n      <td>0.0</td>\n      <td>21</td>\n      <td>Magazijn en werkplaats</td>\n      <td>0</td>\n      <td>NaN</td>\n      <td>Seller</td>\n      <td>NaN</td>\n      <td>NaN</td>\n      <td>2020-02-19</td>\n      <td>0</td>\n      <td>Klimaatbeheersing</td>\n      <td>0.0</td>\n      <td>NaN</td>\n      <td>10.0</td>\n    </tr>\n    <tr>\n      <th>286917</th>\n      <td>45974</td>\n      <td>14302265</td>\n      <td>7.0</td>\n      <td>21</td>\n      <td>Warmtetechniek</td>\n      <td>0</td>\n      <td>NaN</td>\n      <td>Seller</td>\n      <td>2020-02-17 19:00:00.000</td>\n      <td>2020-02-17 00:00:00.000</td>\n      <td>2020-02-17</td>\n      <td>1</td>\n      <td>Radiatoren en convectoren</td>\n      <td>6.0</td>\n      <td>31.0</td>\n      <td>5.0</td>\n    </tr>\n    <tr>\n      <th>286918</th>\n      <td>45294</td>\n      <td>14154011</td>\n      <td>1.0</td>\n      <td>21</td>\n      <td>Accu-/ elektrisch gereedschap</td>\n      <td>0</td>\n      <td>NaN</td>\n      <td>New Seller</td>\n      <td>2020-01-15 20:00:00.000</td>\n      <td>2020-01-15 00:00:00.000</td>\n      <td>2020-01-15</td>\n      <td>1</td>\n      <td>Stroom- en verlengkabels</td>\n      <td>1.0</td>\n      <td>25.0</td>\n      <td>20.0</td>\n    </tr>\n    <tr>\n      <th>286919</th>\n      <td>45294</td>\n      <td>14153957</td>\n      <td>5.0</td>\n      <td>21</td>\n      <td>Accu-/ elektrisch gereedschap</td>\n      <td>0</td>\n      <td>NaN</td>\n      <td>New Seller</td>\n      <td>2020-01-15 18:00:00.000</td>\n      <td>2020-01-15 00:00:00.000</td>\n      <td>2020-01-15</td>\n      <td>1</td>\n      <td>Stroom- en verlengkabels</td>\n      <td>3.0</td>\n      <td>50.0</td>\n      <td>20.0</td>\n    </tr>\n    <tr>\n      <th>286920</th>\n      <td>45571</td>\n      <td>14264803</td>\n      <td>6.0</td>\n      <td>21</td>\n      <td>Garage-equipement</td>\n      <td>0</td>\n      <td>gebruikt</td>\n      <td>Seller</td>\n      <td>2020-02-17 16:00:00.000</td>\n      <td>2020-02-17 00:00:00.000</td>\n      <td>2020-02-17</td>\n      <td>1</td>\n      <td>Speciaal gereedschap</td>\n      <td>4.0</td>\n      <td>35.0</td>\n      <td>5.0</td>\n    </tr>\n  </tbody>\n</table>\n<p>264115 rows × 16 columns</p>\n</div>"
     },
     "execution_count": 14,
     "metadata": {},
     "output_type": "execute_result"
    }
   ],
   "source": [
    "factLots_related = factLots[[\"lot_id\", \"startamount\"]]\n",
    "lot_related = lot_related.join(factLots_related.set_index('lot_id'), on='lot_id')\n",
    "lot_related"
   ]
  },
  {
   "cell_type": "code",
   "execution_count": 15,
   "metadata": {},
   "outputs": [
    {
     "data": {
      "text/plain": "        auction_id    lot_id  valid_bid_count  auctionfeetaxrate  \\\n0            45252  14217267              0.0                 21   \n1            44794  14124120              0.0                 21   \n2            37596  14109052              0.0                 21   \n3            37599  14203244              0.0                 21   \n4            45026  14239515              0.0                 21   \n...            ...       ...              ...                ...   \n286914       46066  14354817              0.0                 21   \n286917       45974  14302265              7.0                 21   \n286918       45294  14154011              1.0                 21   \n286919       45294  14153957              5.0                 21   \n286920       45571  14264803              6.0                 21   \n\n                      lot_topcategory  is_1euro_kavel condition  \\\n0                    Woninginrichting               0       NaN   \n1       Accu-/ elektrisch gereedschap               0       NaN   \n2                            Horloges               0       NaN   \n3                            Horloges               0       NaN   \n4                            Horloges               0       NaN   \n...                               ...             ...       ...   \n286914         Magazijn en werkplaats               0       NaN   \n286917                 Warmtetechniek               0       NaN   \n286918  Accu-/ elektrisch gereedschap               0       NaN   \n286919  Accu-/ elektrisch gereedschap               0       NaN   \n286920              Garage-equipement               0  gebruikt   \n\n       category_seller          lot_closingdate      auction_closingdate  \\\n0               Seller                      NaN                      NaN   \n1               Seller                      NaN                      NaN   \n2               Seller                      NaN                      NaN   \n3               Seller                      NaN                      NaN   \n4               Seller                      NaN                      NaN   \n...                ...                      ...                      ...   \n286914          Seller                      NaN                      NaN   \n286917          Seller  2020-02-17 19:00:00.000  2020-02-17 00:00:00.000   \n286918      New Seller  2020-01-15 20:00:00.000  2020-01-15 00:00:00.000   \n286919      New Seller  2020-01-15 18:00:00.000  2020-01-15 00:00:00.000   \n286920          Seller  2020-02-17 16:00:00.000  2020-02-17 00:00:00.000   \n\n       closingdate  is_sold            lot_subcategory  bids  winning_bid  \\\n0       2020-01-30        0    Gordijnen en jaloezieen   0.0          NaN   \n1       2020-01-12        0              Slijpmachines   0.0          NaN   \n2       2020-01-02        0              Horloge Heren   0.0          NaN   \n3       2020-01-23        0              Horloge Heren   0.0          NaN   \n4       2020-01-30        0              Horloge Heren   0.0          NaN   \n...            ...      ...                        ...   ...          ...   \n286914  2020-02-19        0          Klimaatbeheersing   0.0          NaN   \n286917  2020-02-17        1  Radiatoren en convectoren   6.0         31.0   \n286918  2020-01-15        1   Stroom- en verlengkabels   1.0         25.0   \n286919  2020-01-15        1   Stroom- en verlengkabels   3.0         50.0   \n286920  2020-02-17        1       Speciaal gereedschap   4.0         35.0   \n\n        startamount      LOTMINSTARTDATE  \\\n0              20.0  21-01-2020 05:00:00   \n1              30.0  05-01-2020 09:00:00   \n2              65.0  26-12-2019 12:00:00   \n3             335.0  17-01-2020 12:00:00   \n4              65.0  24-01-2020 12:00:00   \n...             ...                  ...   \n286914         10.0  12-02-2020 05:00:00   \n286917          5.0  06-02-2020 05:00:00   \n286918         20.0  08-01-2020 05:00:00   \n286919         20.0  08-01-2020 05:00:00   \n286920          5.0  30-01-2020 05:00:00   \n\n                                           BIDRANGENAME  \n0       de Standard en Standard nl Standaard biedranges  \n1       de Standard en Standard nl Standaard biedranges  \n2       de Standard en Standard nl Standaard biedranges  \n3       de Standard en Standard nl Standaard biedranges  \n4       de Standard en Standard nl Standaard biedranges  \n...                                                 ...  \n286914  de Standard en Standard nl Standaard biedranges  \n286917  de Standard en Standard nl Standaard biedranges  \n286918  de Standard en Standard nl Standaard biedranges  \n286919  de Standard en Standard nl Standaard biedranges  \n286920  de Standard en Standard nl Standaard biedranges  \n\n[264115 rows x 18 columns]",
      "text/html": "<div>\n<style scoped>\n    .dataframe tbody tr th:only-of-type {\n        vertical-align: middle;\n    }\n\n    .dataframe tbody tr th {\n        vertical-align: top;\n    }\n\n    .dataframe thead th {\n        text-align: right;\n    }\n</style>\n<table border=\"1\" class=\"dataframe\">\n  <thead>\n    <tr style=\"text-align: right;\">\n      <th></th>\n      <th>auction_id</th>\n      <th>lot_id</th>\n      <th>valid_bid_count</th>\n      <th>auctionfeetaxrate</th>\n      <th>lot_topcategory</th>\n      <th>is_1euro_kavel</th>\n      <th>condition</th>\n      <th>category_seller</th>\n      <th>lot_closingdate</th>\n      <th>auction_closingdate</th>\n      <th>closingdate</th>\n      <th>is_sold</th>\n      <th>lot_subcategory</th>\n      <th>bids</th>\n      <th>winning_bid</th>\n      <th>startamount</th>\n      <th>LOTMINSTARTDATE</th>\n      <th>BIDRANGENAME</th>\n    </tr>\n  </thead>\n  <tbody>\n    <tr>\n      <th>0</th>\n      <td>45252</td>\n      <td>14217267</td>\n      <td>0.0</td>\n      <td>21</td>\n      <td>Woninginrichting</td>\n      <td>0</td>\n      <td>NaN</td>\n      <td>Seller</td>\n      <td>NaN</td>\n      <td>NaN</td>\n      <td>2020-01-30</td>\n      <td>0</td>\n      <td>Gordijnen en jaloezieen</td>\n      <td>0.0</td>\n      <td>NaN</td>\n      <td>20.0</td>\n      <td>21-01-2020 05:00:00</td>\n      <td>de Standard en Standard nl Standaard biedranges</td>\n    </tr>\n    <tr>\n      <th>1</th>\n      <td>44794</td>\n      <td>14124120</td>\n      <td>0.0</td>\n      <td>21</td>\n      <td>Accu-/ elektrisch gereedschap</td>\n      <td>0</td>\n      <td>NaN</td>\n      <td>Seller</td>\n      <td>NaN</td>\n      <td>NaN</td>\n      <td>2020-01-12</td>\n      <td>0</td>\n      <td>Slijpmachines</td>\n      <td>0.0</td>\n      <td>NaN</td>\n      <td>30.0</td>\n      <td>05-01-2020 09:00:00</td>\n      <td>de Standard en Standard nl Standaard biedranges</td>\n    </tr>\n    <tr>\n      <th>2</th>\n      <td>37596</td>\n      <td>14109052</td>\n      <td>0.0</td>\n      <td>21</td>\n      <td>Horloges</td>\n      <td>0</td>\n      <td>NaN</td>\n      <td>Seller</td>\n      <td>NaN</td>\n      <td>NaN</td>\n      <td>2020-01-02</td>\n      <td>0</td>\n      <td>Horloge Heren</td>\n      <td>0.0</td>\n      <td>NaN</td>\n      <td>65.0</td>\n      <td>26-12-2019 12:00:00</td>\n      <td>de Standard en Standard nl Standaard biedranges</td>\n    </tr>\n    <tr>\n      <th>3</th>\n      <td>37599</td>\n      <td>14203244</td>\n      <td>0.0</td>\n      <td>21</td>\n      <td>Horloges</td>\n      <td>0</td>\n      <td>NaN</td>\n      <td>Seller</td>\n      <td>NaN</td>\n      <td>NaN</td>\n      <td>2020-01-23</td>\n      <td>0</td>\n      <td>Horloge Heren</td>\n      <td>0.0</td>\n      <td>NaN</td>\n      <td>335.0</td>\n      <td>17-01-2020 12:00:00</td>\n      <td>de Standard en Standard nl Standaard biedranges</td>\n    </tr>\n    <tr>\n      <th>4</th>\n      <td>45026</td>\n      <td>14239515</td>\n      <td>0.0</td>\n      <td>21</td>\n      <td>Horloges</td>\n      <td>0</td>\n      <td>NaN</td>\n      <td>Seller</td>\n      <td>NaN</td>\n      <td>NaN</td>\n      <td>2020-01-30</td>\n      <td>0</td>\n      <td>Horloge Heren</td>\n      <td>0.0</td>\n      <td>NaN</td>\n      <td>65.0</td>\n      <td>24-01-2020 12:00:00</td>\n      <td>de Standard en Standard nl Standaard biedranges</td>\n    </tr>\n    <tr>\n      <th>...</th>\n      <td>...</td>\n      <td>...</td>\n      <td>...</td>\n      <td>...</td>\n      <td>...</td>\n      <td>...</td>\n      <td>...</td>\n      <td>...</td>\n      <td>...</td>\n      <td>...</td>\n      <td>...</td>\n      <td>...</td>\n      <td>...</td>\n      <td>...</td>\n      <td>...</td>\n      <td>...</td>\n      <td>...</td>\n      <td>...</td>\n    </tr>\n    <tr>\n      <th>286914</th>\n      <td>46066</td>\n      <td>14354817</td>\n      <td>0.0</td>\n      <td>21</td>\n      <td>Magazijn en werkplaats</td>\n      <td>0</td>\n      <td>NaN</td>\n      <td>Seller</td>\n      <td>NaN</td>\n      <td>NaN</td>\n      <td>2020-02-19</td>\n      <td>0</td>\n      <td>Klimaatbeheersing</td>\n      <td>0.0</td>\n      <td>NaN</td>\n      <td>10.0</td>\n      <td>12-02-2020 05:00:00</td>\n      <td>de Standard en Standard nl Standaard biedranges</td>\n    </tr>\n    <tr>\n      <th>286917</th>\n      <td>45974</td>\n      <td>14302265</td>\n      <td>7.0</td>\n      <td>21</td>\n      <td>Warmtetechniek</td>\n      <td>0</td>\n      <td>NaN</td>\n      <td>Seller</td>\n      <td>2020-02-17 19:00:00.000</td>\n      <td>2020-02-17 00:00:00.000</td>\n      <td>2020-02-17</td>\n      <td>1</td>\n      <td>Radiatoren en convectoren</td>\n      <td>6.0</td>\n      <td>31.0</td>\n      <td>5.0</td>\n      <td>06-02-2020 05:00:00</td>\n      <td>de Standard en Standard nl Standaard biedranges</td>\n    </tr>\n    <tr>\n      <th>286918</th>\n      <td>45294</td>\n      <td>14154011</td>\n      <td>1.0</td>\n      <td>21</td>\n      <td>Accu-/ elektrisch gereedschap</td>\n      <td>0</td>\n      <td>NaN</td>\n      <td>New Seller</td>\n      <td>2020-01-15 20:00:00.000</td>\n      <td>2020-01-15 00:00:00.000</td>\n      <td>2020-01-15</td>\n      <td>1</td>\n      <td>Stroom- en verlengkabels</td>\n      <td>1.0</td>\n      <td>25.0</td>\n      <td>20.0</td>\n      <td>08-01-2020 05:00:00</td>\n      <td>de Standard en Standard nl Standaard biedranges</td>\n    </tr>\n    <tr>\n      <th>286919</th>\n      <td>45294</td>\n      <td>14153957</td>\n      <td>5.0</td>\n      <td>21</td>\n      <td>Accu-/ elektrisch gereedschap</td>\n      <td>0</td>\n      <td>NaN</td>\n      <td>New Seller</td>\n      <td>2020-01-15 18:00:00.000</td>\n      <td>2020-01-15 00:00:00.000</td>\n      <td>2020-01-15</td>\n      <td>1</td>\n      <td>Stroom- en verlengkabels</td>\n      <td>3.0</td>\n      <td>50.0</td>\n      <td>20.0</td>\n      <td>08-01-2020 05:00:00</td>\n      <td>de Standard en Standard nl Standaard biedranges</td>\n    </tr>\n    <tr>\n      <th>286920</th>\n      <td>45571</td>\n      <td>14264803</td>\n      <td>6.0</td>\n      <td>21</td>\n      <td>Garage-equipement</td>\n      <td>0</td>\n      <td>gebruikt</td>\n      <td>Seller</td>\n      <td>2020-02-17 16:00:00.000</td>\n      <td>2020-02-17 00:00:00.000</td>\n      <td>2020-02-17</td>\n      <td>1</td>\n      <td>Speciaal gereedschap</td>\n      <td>4.0</td>\n      <td>35.0</td>\n      <td>5.0</td>\n      <td>30-01-2020 05:00:00</td>\n      <td>de Standard en Standard nl Standaard biedranges</td>\n    </tr>\n  </tbody>\n</table>\n<p>264115 rows × 18 columns</p>\n</div>"
     },
     "execution_count": 15,
     "metadata": {},
     "output_type": "execute_result"
    }
   ],
   "source": [
    "# Adding LOTMINSTARTDATE and BIDRANGENAME columns from auctionCloseTimes dataframe\n",
    "auctionCloseTimes_related = auctionCloseTimes[[\"AUCTIONID\", \"LOTMINSTARTDATE\", \"BIDRANGENAME\"]]\n",
    "auctionCloseTimes_related = auctionCloseTimes_related.rename(columns={'AUCTIONID': 'auction_id'})\n",
    "\n",
    "lot_related = lot_related.join(auctionCloseTimes_related.set_index('auction_id'), on='auction_id')\n",
    "lot_related"
   ]
  },
  {
   "cell_type": "markdown",
   "metadata": {},
   "source": [
    "#### Changing the \"condition\" column"
   ]
  },
  {
   "cell_type": "code",
   "execution_count": 16,
   "metadata": {},
   "outputs": [
    {
     "data": {
      "text/plain": "        auction_id    lot_id  valid_bid_count  auctionfeetaxrate  \\\n0            45252  14217267              0.0                 21   \n1            44794  14124120              0.0                 21   \n2            37596  14109052              0.0                 21   \n3            37599  14203244              0.0                 21   \n4            45026  14239515              0.0                 21   \n...            ...       ...              ...                ...   \n286914       46066  14354817              0.0                 21   \n286917       45974  14302265              7.0                 21   \n286918       45294  14154011              1.0                 21   \n286919       45294  14153957              5.0                 21   \n286920       45571  14264803              6.0                 21   \n\n                      lot_topcategory  is_1euro_kavel condition  \\\n0                    Woninginrichting               0       Old   \n1       Accu-/ elektrisch gereedschap               0       Old   \n2                            Horloges               0       Old   \n3                            Horloges               0       Old   \n4                            Horloges               0       Old   \n...                               ...             ...       ...   \n286914         Magazijn en werkplaats               0       Old   \n286917                 Warmtetechniek               0       Old   \n286918  Accu-/ elektrisch gereedschap               0       Old   \n286919  Accu-/ elektrisch gereedschap               0       Old   \n286920              Garage-equipement               0       Old   \n\n       category_seller          lot_closingdate      auction_closingdate  \\\n0               Seller                      NaN                      NaN   \n1               Seller                      NaN                      NaN   \n2               Seller                      NaN                      NaN   \n3               Seller                      NaN                      NaN   \n4               Seller                      NaN                      NaN   \n...                ...                      ...                      ...   \n286914          Seller                      NaN                      NaN   \n286917          Seller  2020-02-17 19:00:00.000  2020-02-17 00:00:00.000   \n286918      New Seller  2020-01-15 20:00:00.000  2020-01-15 00:00:00.000   \n286919      New Seller  2020-01-15 18:00:00.000  2020-01-15 00:00:00.000   \n286920          Seller  2020-02-17 16:00:00.000  2020-02-17 00:00:00.000   \n\n       closingdate  is_sold            lot_subcategory  bids  winning_bid  \\\n0       2020-01-30        0    Gordijnen en jaloezieen   0.0          NaN   \n1       2020-01-12        0              Slijpmachines   0.0          NaN   \n2       2020-01-02        0              Horloge Heren   0.0          NaN   \n3       2020-01-23        0              Horloge Heren   0.0          NaN   \n4       2020-01-30        0              Horloge Heren   0.0          NaN   \n...            ...      ...                        ...   ...          ...   \n286914  2020-02-19        0          Klimaatbeheersing   0.0          NaN   \n286917  2020-02-17        1  Radiatoren en convectoren   6.0         31.0   \n286918  2020-01-15        1   Stroom- en verlengkabels   1.0         25.0   \n286919  2020-01-15        1   Stroom- en verlengkabels   3.0         50.0   \n286920  2020-02-17        1       Speciaal gereedschap   4.0         35.0   \n\n        startamount      LOTMINSTARTDATE  \\\n0              20.0  21-01-2020 05:00:00   \n1              30.0  05-01-2020 09:00:00   \n2              65.0  26-12-2019 12:00:00   \n3             335.0  17-01-2020 12:00:00   \n4              65.0  24-01-2020 12:00:00   \n...             ...                  ...   \n286914         10.0  12-02-2020 05:00:00   \n286917          5.0  06-02-2020 05:00:00   \n286918         20.0  08-01-2020 05:00:00   \n286919         20.0  08-01-2020 05:00:00   \n286920          5.0  30-01-2020 05:00:00   \n\n                                           BIDRANGENAME  \n0       de Standard en Standard nl Standaard biedranges  \n1       de Standard en Standard nl Standaard biedranges  \n2       de Standard en Standard nl Standaard biedranges  \n3       de Standard en Standard nl Standaard biedranges  \n4       de Standard en Standard nl Standaard biedranges  \n...                                                 ...  \n286914  de Standard en Standard nl Standaard biedranges  \n286917  de Standard en Standard nl Standaard biedranges  \n286918  de Standard en Standard nl Standaard biedranges  \n286919  de Standard en Standard nl Standaard biedranges  \n286920  de Standard en Standard nl Standaard biedranges  \n\n[264115 rows x 18 columns]",
      "text/html": "<div>\n<style scoped>\n    .dataframe tbody tr th:only-of-type {\n        vertical-align: middle;\n    }\n\n    .dataframe tbody tr th {\n        vertical-align: top;\n    }\n\n    .dataframe thead th {\n        text-align: right;\n    }\n</style>\n<table border=\"1\" class=\"dataframe\">\n  <thead>\n    <tr style=\"text-align: right;\">\n      <th></th>\n      <th>auction_id</th>\n      <th>lot_id</th>\n      <th>valid_bid_count</th>\n      <th>auctionfeetaxrate</th>\n      <th>lot_topcategory</th>\n      <th>is_1euro_kavel</th>\n      <th>condition</th>\n      <th>category_seller</th>\n      <th>lot_closingdate</th>\n      <th>auction_closingdate</th>\n      <th>closingdate</th>\n      <th>is_sold</th>\n      <th>lot_subcategory</th>\n      <th>bids</th>\n      <th>winning_bid</th>\n      <th>startamount</th>\n      <th>LOTMINSTARTDATE</th>\n      <th>BIDRANGENAME</th>\n    </tr>\n  </thead>\n  <tbody>\n    <tr>\n      <th>0</th>\n      <td>45252</td>\n      <td>14217267</td>\n      <td>0.0</td>\n      <td>21</td>\n      <td>Woninginrichting</td>\n      <td>0</td>\n      <td>Old</td>\n      <td>Seller</td>\n      <td>NaN</td>\n      <td>NaN</td>\n      <td>2020-01-30</td>\n      <td>0</td>\n      <td>Gordijnen en jaloezieen</td>\n      <td>0.0</td>\n      <td>NaN</td>\n      <td>20.0</td>\n      <td>21-01-2020 05:00:00</td>\n      <td>de Standard en Standard nl Standaard biedranges</td>\n    </tr>\n    <tr>\n      <th>1</th>\n      <td>44794</td>\n      <td>14124120</td>\n      <td>0.0</td>\n      <td>21</td>\n      <td>Accu-/ elektrisch gereedschap</td>\n      <td>0</td>\n      <td>Old</td>\n      <td>Seller</td>\n      <td>NaN</td>\n      <td>NaN</td>\n      <td>2020-01-12</td>\n      <td>0</td>\n      <td>Slijpmachines</td>\n      <td>0.0</td>\n      <td>NaN</td>\n      <td>30.0</td>\n      <td>05-01-2020 09:00:00</td>\n      <td>de Standard en Standard nl Standaard biedranges</td>\n    </tr>\n    <tr>\n      <th>2</th>\n      <td>37596</td>\n      <td>14109052</td>\n      <td>0.0</td>\n      <td>21</td>\n      <td>Horloges</td>\n      <td>0</td>\n      <td>Old</td>\n      <td>Seller</td>\n      <td>NaN</td>\n      <td>NaN</td>\n      <td>2020-01-02</td>\n      <td>0</td>\n      <td>Horloge Heren</td>\n      <td>0.0</td>\n      <td>NaN</td>\n      <td>65.0</td>\n      <td>26-12-2019 12:00:00</td>\n      <td>de Standard en Standard nl Standaard biedranges</td>\n    </tr>\n    <tr>\n      <th>3</th>\n      <td>37599</td>\n      <td>14203244</td>\n      <td>0.0</td>\n      <td>21</td>\n      <td>Horloges</td>\n      <td>0</td>\n      <td>Old</td>\n      <td>Seller</td>\n      <td>NaN</td>\n      <td>NaN</td>\n      <td>2020-01-23</td>\n      <td>0</td>\n      <td>Horloge Heren</td>\n      <td>0.0</td>\n      <td>NaN</td>\n      <td>335.0</td>\n      <td>17-01-2020 12:00:00</td>\n      <td>de Standard en Standard nl Standaard biedranges</td>\n    </tr>\n    <tr>\n      <th>4</th>\n      <td>45026</td>\n      <td>14239515</td>\n      <td>0.0</td>\n      <td>21</td>\n      <td>Horloges</td>\n      <td>0</td>\n      <td>Old</td>\n      <td>Seller</td>\n      <td>NaN</td>\n      <td>NaN</td>\n      <td>2020-01-30</td>\n      <td>0</td>\n      <td>Horloge Heren</td>\n      <td>0.0</td>\n      <td>NaN</td>\n      <td>65.0</td>\n      <td>24-01-2020 12:00:00</td>\n      <td>de Standard en Standard nl Standaard biedranges</td>\n    </tr>\n    <tr>\n      <th>...</th>\n      <td>...</td>\n      <td>...</td>\n      <td>...</td>\n      <td>...</td>\n      <td>...</td>\n      <td>...</td>\n      <td>...</td>\n      <td>...</td>\n      <td>...</td>\n      <td>...</td>\n      <td>...</td>\n      <td>...</td>\n      <td>...</td>\n      <td>...</td>\n      <td>...</td>\n      <td>...</td>\n      <td>...</td>\n      <td>...</td>\n    </tr>\n    <tr>\n      <th>286914</th>\n      <td>46066</td>\n      <td>14354817</td>\n      <td>0.0</td>\n      <td>21</td>\n      <td>Magazijn en werkplaats</td>\n      <td>0</td>\n      <td>Old</td>\n      <td>Seller</td>\n      <td>NaN</td>\n      <td>NaN</td>\n      <td>2020-02-19</td>\n      <td>0</td>\n      <td>Klimaatbeheersing</td>\n      <td>0.0</td>\n      <td>NaN</td>\n      <td>10.0</td>\n      <td>12-02-2020 05:00:00</td>\n      <td>de Standard en Standard nl Standaard biedranges</td>\n    </tr>\n    <tr>\n      <th>286917</th>\n      <td>45974</td>\n      <td>14302265</td>\n      <td>7.0</td>\n      <td>21</td>\n      <td>Warmtetechniek</td>\n      <td>0</td>\n      <td>Old</td>\n      <td>Seller</td>\n      <td>2020-02-17 19:00:00.000</td>\n      <td>2020-02-17 00:00:00.000</td>\n      <td>2020-02-17</td>\n      <td>1</td>\n      <td>Radiatoren en convectoren</td>\n      <td>6.0</td>\n      <td>31.0</td>\n      <td>5.0</td>\n      <td>06-02-2020 05:00:00</td>\n      <td>de Standard en Standard nl Standaard biedranges</td>\n    </tr>\n    <tr>\n      <th>286918</th>\n      <td>45294</td>\n      <td>14154011</td>\n      <td>1.0</td>\n      <td>21</td>\n      <td>Accu-/ elektrisch gereedschap</td>\n      <td>0</td>\n      <td>Old</td>\n      <td>New Seller</td>\n      <td>2020-01-15 20:00:00.000</td>\n      <td>2020-01-15 00:00:00.000</td>\n      <td>2020-01-15</td>\n      <td>1</td>\n      <td>Stroom- en verlengkabels</td>\n      <td>1.0</td>\n      <td>25.0</td>\n      <td>20.0</td>\n      <td>08-01-2020 05:00:00</td>\n      <td>de Standard en Standard nl Standaard biedranges</td>\n    </tr>\n    <tr>\n      <th>286919</th>\n      <td>45294</td>\n      <td>14153957</td>\n      <td>5.0</td>\n      <td>21</td>\n      <td>Accu-/ elektrisch gereedschap</td>\n      <td>0</td>\n      <td>Old</td>\n      <td>New Seller</td>\n      <td>2020-01-15 18:00:00.000</td>\n      <td>2020-01-15 00:00:00.000</td>\n      <td>2020-01-15</td>\n      <td>1</td>\n      <td>Stroom- en verlengkabels</td>\n      <td>3.0</td>\n      <td>50.0</td>\n      <td>20.0</td>\n      <td>08-01-2020 05:00:00</td>\n      <td>de Standard en Standard nl Standaard biedranges</td>\n    </tr>\n    <tr>\n      <th>286920</th>\n      <td>45571</td>\n      <td>14264803</td>\n      <td>6.0</td>\n      <td>21</td>\n      <td>Garage-equipement</td>\n      <td>0</td>\n      <td>Old</td>\n      <td>Seller</td>\n      <td>2020-02-17 16:00:00.000</td>\n      <td>2020-02-17 00:00:00.000</td>\n      <td>2020-02-17</td>\n      <td>1</td>\n      <td>Speciaal gereedschap</td>\n      <td>4.0</td>\n      <td>35.0</td>\n      <td>5.0</td>\n      <td>30-01-2020 05:00:00</td>\n      <td>de Standard en Standard nl Standaard biedranges</td>\n    </tr>\n  </tbody>\n</table>\n<p>264115 rows × 18 columns</p>\n</div>"
     },
     "execution_count": 16,
     "metadata": {},
     "output_type": "execute_result"
    }
   ],
   "source": [
    "# Condition of the lot is assumed to be old if the condition value doesn't start with \"nieuw\"\n",
    "new_lot_rows1 = dimLot[dimLot['condition'].apply(lambda x: str(x).startswith('nieuw'))]\n",
    "new_lot_ids1 = new_lot_rows1[\"lot_id\"].unique().tolist()\n",
    "# Condition of the lot is assumed to be old if the condition value doesn't start with \"on\" (ongebruikt,ongeopend)\n",
    "new_lot_rows2 = dimLot[dimLot['condition'].apply(lambda x: str(x).startswith('on'))]\n",
    "new_lot_ids2 = new_lot_rows2[\"lot_id\"].unique().tolist()\n",
    "# Condition of the lot is assumed to be old if the condition value doesn't start with \"exce\" (Excellent en perfect)\n",
    "new_lot_rows3 = dimLot[dimLot['condition'].apply(lambda x: str(x).startswith('on'))]\n",
    "new_lot_ids3 = new_lot_rows3[\"lot_id\"].unique().tolist()\n",
    "new_lot_ids1.extend(new_lot_ids2)\n",
    "new_lot_ids1.extend(new_lot_ids3)\n",
    "lot_related[\"condition\"] = np.where(lot_related[\"lot_id\"].isin(new_lot_ids1), \"New\", \"Old\")\n",
    "lot_related"
   ]
  },
  {
   "cell_type": "markdown",
   "metadata": {},
   "source": [
    "### Dealing with the missing values in lot_related data frame"
   ]
  },
  {
   "cell_type": "code",
   "execution_count": 20,
   "metadata": {},
   "outputs": [
    {
     "data": {
      "text/plain": "        auction_id    lot_id  valid_bid_count  auctionfeetaxrate  \\\n0            45252  14217267              0.0                 21   \n1            44794  14124120              0.0                 21   \n2            37596  14109052              0.0                 21   \n3            37599  14203244              0.0                 21   \n4            45026  14239515              0.0                 21   \n...            ...       ...              ...                ...   \n286914       46066  14354817              0.0                 21   \n286917       45974  14302265              7.0                 21   \n286918       45294  14154011              1.0                 21   \n286919       45294  14153957              5.0                 21   \n286920       45571  14264803              6.0                 21   \n\n                      lot_topcategory  is_1euro_kavel condition  \\\n0                    Woninginrichting               0       Old   \n1       Accu-/ elektrisch gereedschap               0       Old   \n2                            Horloges               0       Old   \n3                            Horloges               0       Old   \n4                            Horloges               0       Old   \n...                               ...             ...       ...   \n286914         Magazijn en werkplaats               0       Old   \n286917                 Warmtetechniek               0       Old   \n286918  Accu-/ elektrisch gereedschap               0       Old   \n286919  Accu-/ elektrisch gereedschap               0       Old   \n286920              Garage-equipement               0       Old   \n\n       category_seller          lot_closingdate      auction_closingdate  \\\n0               Seller                      NaN                      NaN   \n1               Seller                      NaN                      NaN   \n2               Seller                      NaN                      NaN   \n3               Seller                      NaN                      NaN   \n4               Seller                      NaN                      NaN   \n...                ...                      ...                      ...   \n286914          Seller                      NaN                      NaN   \n286917          Seller  2020-02-17 19:00:00.000  2020-02-17 00:00:00.000   \n286918      New Seller  2020-01-15 20:00:00.000  2020-01-15 00:00:00.000   \n286919      New Seller  2020-01-15 18:00:00.000  2020-01-15 00:00:00.000   \n286920          Seller  2020-02-17 16:00:00.000  2020-02-17 00:00:00.000   \n\n       closingdate  is_sold            lot_subcategory  bids  winning_bid  \\\n0       2020-01-30        0    Gordijnen en jaloezieen   0.0          NaN   \n1       2020-01-12        0              Slijpmachines   0.0          NaN   \n2       2020-01-02        0              Horloge Heren   0.0          NaN   \n3       2020-01-23        0              Horloge Heren   0.0          NaN   \n4       2020-01-30        0              Horloge Heren   0.0          NaN   \n...            ...      ...                        ...   ...          ...   \n286914  2020-02-19        0          Klimaatbeheersing   0.0          NaN   \n286917  2020-02-17        1  Radiatoren en convectoren   6.0         31.0   \n286918  2020-01-15        1   Stroom- en verlengkabels   1.0         25.0   \n286919  2020-01-15        1   Stroom- en verlengkabels   3.0         50.0   \n286920  2020-02-17        1       Speciaal gereedschap   4.0         35.0   \n\n        startamount      LOTMINSTARTDATE  \\\n0              20.0  21-01-2020 05:00:00   \n1              30.0  05-01-2020 09:00:00   \n2              65.0  26-12-2019 12:00:00   \n3             335.0  17-01-2020 12:00:00   \n4              65.0  24-01-2020 12:00:00   \n...             ...                  ...   \n286914         10.0  12-02-2020 05:00:00   \n286917          5.0  06-02-2020 05:00:00   \n286918         20.0  08-01-2020 05:00:00   \n286919         20.0  08-01-2020 05:00:00   \n286920          5.0  30-01-2020 05:00:00   \n\n                                           BIDRANGENAME  \n0       de Standard en Standard nl Standaard biedranges  \n1       de Standard en Standard nl Standaard biedranges  \n2       de Standard en Standard nl Standaard biedranges  \n3       de Standard en Standard nl Standaard biedranges  \n4       de Standard en Standard nl Standaard biedranges  \n...                                                 ...  \n286914  de Standard en Standard nl Standaard biedranges  \n286917  de Standard en Standard nl Standaard biedranges  \n286918  de Standard en Standard nl Standaard biedranges  \n286919  de Standard en Standard nl Standaard biedranges  \n286920  de Standard en Standard nl Standaard biedranges  \n\n[264115 rows x 18 columns]",
      "text/html": "<div>\n<style scoped>\n    .dataframe tbody tr th:only-of-type {\n        vertical-align: middle;\n    }\n\n    .dataframe tbody tr th {\n        vertical-align: top;\n    }\n\n    .dataframe thead th {\n        text-align: right;\n    }\n</style>\n<table border=\"1\" class=\"dataframe\">\n  <thead>\n    <tr style=\"text-align: right;\">\n      <th></th>\n      <th>auction_id</th>\n      <th>lot_id</th>\n      <th>valid_bid_count</th>\n      <th>auctionfeetaxrate</th>\n      <th>lot_topcategory</th>\n      <th>is_1euro_kavel</th>\n      <th>condition</th>\n      <th>category_seller</th>\n      <th>lot_closingdate</th>\n      <th>auction_closingdate</th>\n      <th>closingdate</th>\n      <th>is_sold</th>\n      <th>lot_subcategory</th>\n      <th>bids</th>\n      <th>winning_bid</th>\n      <th>startamount</th>\n      <th>LOTMINSTARTDATE</th>\n      <th>BIDRANGENAME</th>\n    </tr>\n  </thead>\n  <tbody>\n    <tr>\n      <th>0</th>\n      <td>45252</td>\n      <td>14217267</td>\n      <td>0.0</td>\n      <td>21</td>\n      <td>Woninginrichting</td>\n      <td>0</td>\n      <td>Old</td>\n      <td>Seller</td>\n      <td>NaN</td>\n      <td>NaN</td>\n      <td>2020-01-30</td>\n      <td>0</td>\n      <td>Gordijnen en jaloezieen</td>\n      <td>0.0</td>\n      <td>NaN</td>\n      <td>20.0</td>\n      <td>21-01-2020 05:00:00</td>\n      <td>de Standard en Standard nl Standaard biedranges</td>\n    </tr>\n    <tr>\n      <th>1</th>\n      <td>44794</td>\n      <td>14124120</td>\n      <td>0.0</td>\n      <td>21</td>\n      <td>Accu-/ elektrisch gereedschap</td>\n      <td>0</td>\n      <td>Old</td>\n      <td>Seller</td>\n      <td>NaN</td>\n      <td>NaN</td>\n      <td>2020-01-12</td>\n      <td>0</td>\n      <td>Slijpmachines</td>\n      <td>0.0</td>\n      <td>NaN</td>\n      <td>30.0</td>\n      <td>05-01-2020 09:00:00</td>\n      <td>de Standard en Standard nl Standaard biedranges</td>\n    </tr>\n    <tr>\n      <th>2</th>\n      <td>37596</td>\n      <td>14109052</td>\n      <td>0.0</td>\n      <td>21</td>\n      <td>Horloges</td>\n      <td>0</td>\n      <td>Old</td>\n      <td>Seller</td>\n      <td>NaN</td>\n      <td>NaN</td>\n      <td>2020-01-02</td>\n      <td>0</td>\n      <td>Horloge Heren</td>\n      <td>0.0</td>\n      <td>NaN</td>\n      <td>65.0</td>\n      <td>26-12-2019 12:00:00</td>\n      <td>de Standard en Standard nl Standaard biedranges</td>\n    </tr>\n    <tr>\n      <th>3</th>\n      <td>37599</td>\n      <td>14203244</td>\n      <td>0.0</td>\n      <td>21</td>\n      <td>Horloges</td>\n      <td>0</td>\n      <td>Old</td>\n      <td>Seller</td>\n      <td>NaN</td>\n      <td>NaN</td>\n      <td>2020-01-23</td>\n      <td>0</td>\n      <td>Horloge Heren</td>\n      <td>0.0</td>\n      <td>NaN</td>\n      <td>335.0</td>\n      <td>17-01-2020 12:00:00</td>\n      <td>de Standard en Standard nl Standaard biedranges</td>\n    </tr>\n    <tr>\n      <th>4</th>\n      <td>45026</td>\n      <td>14239515</td>\n      <td>0.0</td>\n      <td>21</td>\n      <td>Horloges</td>\n      <td>0</td>\n      <td>Old</td>\n      <td>Seller</td>\n      <td>NaN</td>\n      <td>NaN</td>\n      <td>2020-01-30</td>\n      <td>0</td>\n      <td>Horloge Heren</td>\n      <td>0.0</td>\n      <td>NaN</td>\n      <td>65.0</td>\n      <td>24-01-2020 12:00:00</td>\n      <td>de Standard en Standard nl Standaard biedranges</td>\n    </tr>\n    <tr>\n      <th>...</th>\n      <td>...</td>\n      <td>...</td>\n      <td>...</td>\n      <td>...</td>\n      <td>...</td>\n      <td>...</td>\n      <td>...</td>\n      <td>...</td>\n      <td>...</td>\n      <td>...</td>\n      <td>...</td>\n      <td>...</td>\n      <td>...</td>\n      <td>...</td>\n      <td>...</td>\n      <td>...</td>\n      <td>...</td>\n      <td>...</td>\n    </tr>\n    <tr>\n      <th>286914</th>\n      <td>46066</td>\n      <td>14354817</td>\n      <td>0.0</td>\n      <td>21</td>\n      <td>Magazijn en werkplaats</td>\n      <td>0</td>\n      <td>Old</td>\n      <td>Seller</td>\n      <td>NaN</td>\n      <td>NaN</td>\n      <td>2020-02-19</td>\n      <td>0</td>\n      <td>Klimaatbeheersing</td>\n      <td>0.0</td>\n      <td>NaN</td>\n      <td>10.0</td>\n      <td>12-02-2020 05:00:00</td>\n      <td>de Standard en Standard nl Standaard biedranges</td>\n    </tr>\n    <tr>\n      <th>286917</th>\n      <td>45974</td>\n      <td>14302265</td>\n      <td>7.0</td>\n      <td>21</td>\n      <td>Warmtetechniek</td>\n      <td>0</td>\n      <td>Old</td>\n      <td>Seller</td>\n      <td>2020-02-17 19:00:00.000</td>\n      <td>2020-02-17 00:00:00.000</td>\n      <td>2020-02-17</td>\n      <td>1</td>\n      <td>Radiatoren en convectoren</td>\n      <td>6.0</td>\n      <td>31.0</td>\n      <td>5.0</td>\n      <td>06-02-2020 05:00:00</td>\n      <td>de Standard en Standard nl Standaard biedranges</td>\n    </tr>\n    <tr>\n      <th>286918</th>\n      <td>45294</td>\n      <td>14154011</td>\n      <td>1.0</td>\n      <td>21</td>\n      <td>Accu-/ elektrisch gereedschap</td>\n      <td>0</td>\n      <td>Old</td>\n      <td>New Seller</td>\n      <td>2020-01-15 20:00:00.000</td>\n      <td>2020-01-15 00:00:00.000</td>\n      <td>2020-01-15</td>\n      <td>1</td>\n      <td>Stroom- en verlengkabels</td>\n      <td>1.0</td>\n      <td>25.0</td>\n      <td>20.0</td>\n      <td>08-01-2020 05:00:00</td>\n      <td>de Standard en Standard nl Standaard biedranges</td>\n    </tr>\n    <tr>\n      <th>286919</th>\n      <td>45294</td>\n      <td>14153957</td>\n      <td>5.0</td>\n      <td>21</td>\n      <td>Accu-/ elektrisch gereedschap</td>\n      <td>0</td>\n      <td>Old</td>\n      <td>New Seller</td>\n      <td>2020-01-15 18:00:00.000</td>\n      <td>2020-01-15 00:00:00.000</td>\n      <td>2020-01-15</td>\n      <td>1</td>\n      <td>Stroom- en verlengkabels</td>\n      <td>3.0</td>\n      <td>50.0</td>\n      <td>20.0</td>\n      <td>08-01-2020 05:00:00</td>\n      <td>de Standard en Standard nl Standaard biedranges</td>\n    </tr>\n    <tr>\n      <th>286920</th>\n      <td>45571</td>\n      <td>14264803</td>\n      <td>6.0</td>\n      <td>21</td>\n      <td>Garage-equipement</td>\n      <td>0</td>\n      <td>Old</td>\n      <td>Seller</td>\n      <td>2020-02-17 16:00:00.000</td>\n      <td>2020-02-17 00:00:00.000</td>\n      <td>2020-02-17</td>\n      <td>1</td>\n      <td>Speciaal gereedschap</td>\n      <td>4.0</td>\n      <td>35.0</td>\n      <td>5.0</td>\n      <td>30-01-2020 05:00:00</td>\n      <td>de Standard en Standard nl Standaard biedranges</td>\n    </tr>\n  </tbody>\n</table>\n<p>264115 rows × 18 columns</p>\n</div>"
     },
     "execution_count": 20,
     "metadata": {},
     "output_type": "execute_result"
    }
   ],
   "source": [
    "lot_related.isnull().sum(axis = 0)\n",
    "lot_related"
   ]
  },
  {
   "cell_type": "code",
   "execution_count": 21,
   "metadata": {},
   "outputs": [
    {
     "data": {
      "text/plain": "        auction_id    lot_id  valid_bid_count  auctionfeetaxrate  \\\n0            45252  14217267              0.0                 21   \n1            44794  14124120              0.0                 21   \n2            37596  14109052              0.0                 21   \n3            37599  14203244              0.0                 21   \n4            45026  14239515              0.0                 21   \n...            ...       ...              ...                ...   \n286914       46066  14354817              0.0                 21   \n286917       45974  14302265              7.0                 21   \n286918       45294  14154011              1.0                 21   \n286919       45294  14153957              5.0                 21   \n286920       45571  14264803              6.0                 21   \n\n                      lot_topcategory  is_1euro_kavel condition  \\\n0                    Woninginrichting               0       Old   \n1       Accu-/ elektrisch gereedschap               0       Old   \n2                            Horloges               0       Old   \n3                            Horloges               0       Old   \n4                            Horloges               0       Old   \n...                               ...             ...       ...   \n286914         Magazijn en werkplaats               0       Old   \n286917                 Warmtetechniek               0       Old   \n286918  Accu-/ elektrisch gereedschap               0       Old   \n286919  Accu-/ elektrisch gereedschap               0       Old   \n286920              Garage-equipement               0       Old   \n\n       category_seller          lot_closingdate      auction_closingdate  \\\n0               Seller                      NaN                      NaN   \n1               Seller                      NaN                      NaN   \n2               Seller                      NaN                      NaN   \n3               Seller                      NaN                      NaN   \n4               Seller                      NaN                      NaN   \n...                ...                      ...                      ...   \n286914          Seller                      NaN                      NaN   \n286917          Seller  2020-02-17 19:00:00.000  2020-02-17 00:00:00.000   \n286918      New Seller  2020-01-15 20:00:00.000  2020-01-15 00:00:00.000   \n286919      New Seller  2020-01-15 18:00:00.000  2020-01-15 00:00:00.000   \n286920          Seller  2020-02-17 16:00:00.000  2020-02-17 00:00:00.000   \n\n       closingdate  is_sold            lot_subcategory  bids  winning_bid  \\\n0       2020-01-30        0    Gordijnen en jaloezieen   0.0          NaN   \n1       2020-01-12        0              Slijpmachines   0.0          NaN   \n2       2020-01-02        0              Horloge Heren   0.0          NaN   \n3       2020-01-23        0              Horloge Heren   0.0          NaN   \n4       2020-01-30        0              Horloge Heren   0.0          NaN   \n...            ...      ...                        ...   ...          ...   \n286914  2020-02-19        0          Klimaatbeheersing   0.0          NaN   \n286917  2020-02-17        1  Radiatoren en convectoren   6.0         31.0   \n286918  2020-01-15        1   Stroom- en verlengkabels   1.0         25.0   \n286919  2020-01-15        1   Stroom- en verlengkabels   3.0         50.0   \n286920  2020-02-17        1       Speciaal gereedschap   4.0         35.0   \n\n        startamount      LOTMINSTARTDATE  \\\n0              20.0  21-01-2020 05:00:00   \n1              30.0  05-01-2020 09:00:00   \n2              65.0  26-12-2019 12:00:00   \n3             335.0  17-01-2020 12:00:00   \n4              65.0  24-01-2020 12:00:00   \n...             ...                  ...   \n286914         10.0  12-02-2020 05:00:00   \n286917          5.0  06-02-2020 05:00:00   \n286918         20.0  08-01-2020 05:00:00   \n286919         20.0  08-01-2020 05:00:00   \n286920          5.0  30-01-2020 05:00:00   \n\n                                           BIDRANGENAME  \n0       de Standard en Standard nl Standaard biedranges  \n1       de Standard en Standard nl Standaard biedranges  \n2       de Standard en Standard nl Standaard biedranges  \n3       de Standard en Standard nl Standaard biedranges  \n4       de Standard en Standard nl Standaard biedranges  \n...                                                 ...  \n286914  de Standard en Standard nl Standaard biedranges  \n286917  de Standard en Standard nl Standaard biedranges  \n286918  de Standard en Standard nl Standaard biedranges  \n286919  de Standard en Standard nl Standaard biedranges  \n286920  de Standard en Standard nl Standaard biedranges  \n\n[255415 rows x 18 columns]",
      "text/html": "<div>\n<style scoped>\n    .dataframe tbody tr th:only-of-type {\n        vertical-align: middle;\n    }\n\n    .dataframe tbody tr th {\n        vertical-align: top;\n    }\n\n    .dataframe thead th {\n        text-align: right;\n    }\n</style>\n<table border=\"1\" class=\"dataframe\">\n  <thead>\n    <tr style=\"text-align: right;\">\n      <th></th>\n      <th>auction_id</th>\n      <th>lot_id</th>\n      <th>valid_bid_count</th>\n      <th>auctionfeetaxrate</th>\n      <th>lot_topcategory</th>\n      <th>is_1euro_kavel</th>\n      <th>condition</th>\n      <th>category_seller</th>\n      <th>lot_closingdate</th>\n      <th>auction_closingdate</th>\n      <th>closingdate</th>\n      <th>is_sold</th>\n      <th>lot_subcategory</th>\n      <th>bids</th>\n      <th>winning_bid</th>\n      <th>startamount</th>\n      <th>LOTMINSTARTDATE</th>\n      <th>BIDRANGENAME</th>\n    </tr>\n  </thead>\n  <tbody>\n    <tr>\n      <th>0</th>\n      <td>45252</td>\n      <td>14217267</td>\n      <td>0.0</td>\n      <td>21</td>\n      <td>Woninginrichting</td>\n      <td>0</td>\n      <td>Old</td>\n      <td>Seller</td>\n      <td>NaN</td>\n      <td>NaN</td>\n      <td>2020-01-30</td>\n      <td>0</td>\n      <td>Gordijnen en jaloezieen</td>\n      <td>0.0</td>\n      <td>NaN</td>\n      <td>20.0</td>\n      <td>21-01-2020 05:00:00</td>\n      <td>de Standard en Standard nl Standaard biedranges</td>\n    </tr>\n    <tr>\n      <th>1</th>\n      <td>44794</td>\n      <td>14124120</td>\n      <td>0.0</td>\n      <td>21</td>\n      <td>Accu-/ elektrisch gereedschap</td>\n      <td>0</td>\n      <td>Old</td>\n      <td>Seller</td>\n      <td>NaN</td>\n      <td>NaN</td>\n      <td>2020-01-12</td>\n      <td>0</td>\n      <td>Slijpmachines</td>\n      <td>0.0</td>\n      <td>NaN</td>\n      <td>30.0</td>\n      <td>05-01-2020 09:00:00</td>\n      <td>de Standard en Standard nl Standaard biedranges</td>\n    </tr>\n    <tr>\n      <th>2</th>\n      <td>37596</td>\n      <td>14109052</td>\n      <td>0.0</td>\n      <td>21</td>\n      <td>Horloges</td>\n      <td>0</td>\n      <td>Old</td>\n      <td>Seller</td>\n      <td>NaN</td>\n      <td>NaN</td>\n      <td>2020-01-02</td>\n      <td>0</td>\n      <td>Horloge Heren</td>\n      <td>0.0</td>\n      <td>NaN</td>\n      <td>65.0</td>\n      <td>26-12-2019 12:00:00</td>\n      <td>de Standard en Standard nl Standaard biedranges</td>\n    </tr>\n    <tr>\n      <th>3</th>\n      <td>37599</td>\n      <td>14203244</td>\n      <td>0.0</td>\n      <td>21</td>\n      <td>Horloges</td>\n      <td>0</td>\n      <td>Old</td>\n      <td>Seller</td>\n      <td>NaN</td>\n      <td>NaN</td>\n      <td>2020-01-23</td>\n      <td>0</td>\n      <td>Horloge Heren</td>\n      <td>0.0</td>\n      <td>NaN</td>\n      <td>335.0</td>\n      <td>17-01-2020 12:00:00</td>\n      <td>de Standard en Standard nl Standaard biedranges</td>\n    </tr>\n    <tr>\n      <th>4</th>\n      <td>45026</td>\n      <td>14239515</td>\n      <td>0.0</td>\n      <td>21</td>\n      <td>Horloges</td>\n      <td>0</td>\n      <td>Old</td>\n      <td>Seller</td>\n      <td>NaN</td>\n      <td>NaN</td>\n      <td>2020-01-30</td>\n      <td>0</td>\n      <td>Horloge Heren</td>\n      <td>0.0</td>\n      <td>NaN</td>\n      <td>65.0</td>\n      <td>24-01-2020 12:00:00</td>\n      <td>de Standard en Standard nl Standaard biedranges</td>\n    </tr>\n    <tr>\n      <th>...</th>\n      <td>...</td>\n      <td>...</td>\n      <td>...</td>\n      <td>...</td>\n      <td>...</td>\n      <td>...</td>\n      <td>...</td>\n      <td>...</td>\n      <td>...</td>\n      <td>...</td>\n      <td>...</td>\n      <td>...</td>\n      <td>...</td>\n      <td>...</td>\n      <td>...</td>\n      <td>...</td>\n      <td>...</td>\n      <td>...</td>\n    </tr>\n    <tr>\n      <th>286914</th>\n      <td>46066</td>\n      <td>14354817</td>\n      <td>0.0</td>\n      <td>21</td>\n      <td>Magazijn en werkplaats</td>\n      <td>0</td>\n      <td>Old</td>\n      <td>Seller</td>\n      <td>NaN</td>\n      <td>NaN</td>\n      <td>2020-02-19</td>\n      <td>0</td>\n      <td>Klimaatbeheersing</td>\n      <td>0.0</td>\n      <td>NaN</td>\n      <td>10.0</td>\n      <td>12-02-2020 05:00:00</td>\n      <td>de Standard en Standard nl Standaard biedranges</td>\n    </tr>\n    <tr>\n      <th>286917</th>\n      <td>45974</td>\n      <td>14302265</td>\n      <td>7.0</td>\n      <td>21</td>\n      <td>Warmtetechniek</td>\n      <td>0</td>\n      <td>Old</td>\n      <td>Seller</td>\n      <td>2020-02-17 19:00:00.000</td>\n      <td>2020-02-17 00:00:00.000</td>\n      <td>2020-02-17</td>\n      <td>1</td>\n      <td>Radiatoren en convectoren</td>\n      <td>6.0</td>\n      <td>31.0</td>\n      <td>5.0</td>\n      <td>06-02-2020 05:00:00</td>\n      <td>de Standard en Standard nl Standaard biedranges</td>\n    </tr>\n    <tr>\n      <th>286918</th>\n      <td>45294</td>\n      <td>14154011</td>\n      <td>1.0</td>\n      <td>21</td>\n      <td>Accu-/ elektrisch gereedschap</td>\n      <td>0</td>\n      <td>Old</td>\n      <td>New Seller</td>\n      <td>2020-01-15 20:00:00.000</td>\n      <td>2020-01-15 00:00:00.000</td>\n      <td>2020-01-15</td>\n      <td>1</td>\n      <td>Stroom- en verlengkabels</td>\n      <td>1.0</td>\n      <td>25.0</td>\n      <td>20.0</td>\n      <td>08-01-2020 05:00:00</td>\n      <td>de Standard en Standard nl Standaard biedranges</td>\n    </tr>\n    <tr>\n      <th>286919</th>\n      <td>45294</td>\n      <td>14153957</td>\n      <td>5.0</td>\n      <td>21</td>\n      <td>Accu-/ elektrisch gereedschap</td>\n      <td>0</td>\n      <td>Old</td>\n      <td>New Seller</td>\n      <td>2020-01-15 18:00:00.000</td>\n      <td>2020-01-15 00:00:00.000</td>\n      <td>2020-01-15</td>\n      <td>1</td>\n      <td>Stroom- en verlengkabels</td>\n      <td>3.0</td>\n      <td>50.0</td>\n      <td>20.0</td>\n      <td>08-01-2020 05:00:00</td>\n      <td>de Standard en Standard nl Standaard biedranges</td>\n    </tr>\n    <tr>\n      <th>286920</th>\n      <td>45571</td>\n      <td>14264803</td>\n      <td>6.0</td>\n      <td>21</td>\n      <td>Garage-equipement</td>\n      <td>0</td>\n      <td>Old</td>\n      <td>Seller</td>\n      <td>2020-02-17 16:00:00.000</td>\n      <td>2020-02-17 00:00:00.000</td>\n      <td>2020-02-17</td>\n      <td>1</td>\n      <td>Speciaal gereedschap</td>\n      <td>4.0</td>\n      <td>35.0</td>\n      <td>5.0</td>\n      <td>30-01-2020 05:00:00</td>\n      <td>de Standard en Standard nl Standaard biedranges</td>\n    </tr>\n  </tbody>\n</table>\n<p>255415 rows × 18 columns</p>\n</div>"
     },
     "execution_count": 21,
     "metadata": {},
     "output_type": "execute_result"
    }
   ],
   "source": [
    "# Removing rows where LOTMINSTARTDATE, BIDRANGENAME or startamount is missing\n",
    "lot_related1 = lot_related.dropna(axis=0, subset=['LOTMINSTARTDATE', \"BIDRANGENAME\", \"startamount\"])\n",
    "lot_related1"
   ]
  },
  {
   "cell_type": "markdown",
   "metadata": {},
   "source": [
    "### Creating new features"
   ]
  },
  {
   "cell_type": "code",
   "execution_count": 22,
   "metadata": {},
   "outputs": [],
   "source": [
    "# Deciding on final_closing_time and converting it into datetime type\n",
    "lot_related[\"final_closing_time\"] = np.where(pd.isnull(lot_related[\"lot_closingdate\"]) , lot_related[\"closingdate\"], lot_related[\"lot_closingdate\"])\n",
    "lot_related['final_closing_time'] = pd.to_datetime(lot_related['final_closing_time'], format = '%Y-%m-%d %H:%M:%S')\n",
    "\n",
    "# Converting LOTMINSTARTDATE column to datetime type\n",
    "lot_related[\"final_start_time\"] = pd.to_datetime(lot_related['LOTMINSTARTDATE'], format = '%d-%m-%Y %H:%M:%S')\n",
    "\n",
    "# Removing lots that have closing time earlier than start time\n",
    "lot_related = lot_related.drop(lot_related[lot_related[\"final_start_time\"] > lot_related[\"final_closing_time\"]].index)\n",
    "\n",
    "# Creating a new column called bidding window(in minutes)\n",
    "lot_related['bidding window'] = ((lot_related['final_closing_time'] - lot_related['final_start_time']).dt.total_seconds())/60"
   ]
  },
  {
   "cell_type": "code",
   "execution_count": 16,
   "metadata": {},
   "outputs": [],
   "source": [
    "# Creating final_closing_day and final_closing_month columns\n",
    "import datetime\n",
    "lot_related[\"final_closing_day\"] = lot_related[\"final_closing_time\"].dt.dayofweek\n",
    "lot_related[\"final_closing_month\"] = lot_related[\"final_closing_time\"].dt.month"
   ]
  },
  {
   "cell_type": "code",
   "execution_count": 17,
   "metadata": {},
   "outputs": [
    {
     "data": {
      "text/plain": "<pandas.io.formats.style.Styler at 0x2428b12d1c8>",
      "text/html": "<style  type=\"text/css\" >\n#T_496e2_row0_col0{\n            width:  10em;\n             height:  80%;\n            background:  linear-gradient(90deg,#d65f5f 100.0%, transparent 100.0%);\n        }#T_496e2_row1_col0{\n            width:  10em;\n             height:  80%;\n            background:  linear-gradient(90deg,#d65f5f 74.5%, transparent 74.5%);\n        }#T_496e2_row2_col0{\n            width:  10em;\n             height:  80%;\n            background:  linear-gradient(90deg,#d65f5f 73.7%, transparent 73.7%);\n        }#T_496e2_row3_col0{\n            width:  10em;\n             height:  80%;\n            background:  linear-gradient(90deg,#d65f5f 56.7%, transparent 56.7%);\n        }#T_496e2_row4_col0{\n            width:  10em;\n             height:  80%;\n            background:  linear-gradient(90deg,#d65f5f 35.5%, transparent 35.5%);\n        }#T_496e2_row5_col0{\n            width:  10em;\n             height:  80%;\n            background:  linear-gradient(90deg,#d65f5f 25.0%, transparent 25.0%);\n        }#T_496e2_row6_col0{\n            width:  10em;\n             height:  80%;\n            background:  linear-gradient(90deg,#d65f5f 23.4%, transparent 23.4%);\n        }#T_496e2_row7_col0{\n            width:  10em;\n             height:  80%;\n            background:  linear-gradient(90deg,#d65f5f 19.6%, transparent 19.6%);\n        }#T_496e2_row8_col0{\n            width:  10em;\n             height:  80%;\n            background:  linear-gradient(90deg,#d65f5f 19.4%, transparent 19.4%);\n        }#T_496e2_row9_col0{\n            width:  10em;\n             height:  80%;\n            background:  linear-gradient(90deg,#d65f5f 16.4%, transparent 16.4%);\n        }#T_496e2_row10_col0{\n            width:  10em;\n             height:  80%;\n            background:  linear-gradient(90deg,#d65f5f 14.4%, transparent 14.4%);\n        }#T_496e2_row11_col0{\n            width:  10em;\n             height:  80%;\n            background:  linear-gradient(90deg,#d65f5f 13.7%, transparent 13.7%);\n        }#T_496e2_row12_col0{\n            width:  10em;\n             height:  80%;\n            background:  linear-gradient(90deg,#d65f5f 12.5%, transparent 12.5%);\n        }#T_496e2_row13_col0{\n            width:  10em;\n             height:  80%;\n            background:  linear-gradient(90deg,#d65f5f 9.6%, transparent 9.6%);\n        }#T_496e2_row14_col0{\n            width:  10em;\n             height:  80%;\n            background:  linear-gradient(90deg,#d65f5f 7.6%, transparent 7.6%);\n        }#T_496e2_row15_col0{\n            width:  10em;\n             height:  80%;\n            background:  linear-gradient(90deg,#d65f5f 5.3%, transparent 5.3%);\n        }#T_496e2_row16_col0{\n            width:  10em;\n             height:  80%;\n            background:  linear-gradient(90deg,#d65f5f 5.0%, transparent 5.0%);\n        }#T_496e2_row17_col0{\n            width:  10em;\n             height:  80%;\n            background:  linear-gradient(90deg,#d65f5f 4.9%, transparent 4.9%);\n        }#T_496e2_row18_col0{\n            width:  10em;\n             height:  80%;\n            background:  linear-gradient(90deg,#d65f5f 4.5%, transparent 4.5%);\n        }#T_496e2_row19_col0{\n            width:  10em;\n             height:  80%;\n            background:  linear-gradient(90deg,#d65f5f 4.1%, transparent 4.1%);\n        }#T_496e2_row20_col0{\n            width:  10em;\n             height:  80%;\n            background:  linear-gradient(90deg,#d65f5f 3.7%, transparent 3.7%);\n        }#T_496e2_row21_col0{\n            width:  10em;\n             height:  80%;\n            background:  linear-gradient(90deg,#d65f5f 3.3%, transparent 3.3%);\n        }#T_496e2_row22_col0{\n            width:  10em;\n             height:  80%;\n            background:  linear-gradient(90deg,#d65f5f 3.1%, transparent 3.1%);\n        }#T_496e2_row23_col0{\n            width:  10em;\n             height:  80%;\n            background:  linear-gradient(90deg,#d65f5f 2.7%, transparent 2.7%);\n        }#T_496e2_row24_col0{\n            width:  10em;\n             height:  80%;\n            background:  linear-gradient(90deg,#d65f5f 1.2%, transparent 1.2%);\n        }#T_496e2_row25_col0{\n            width:  10em;\n             height:  80%;\n            background:  linear-gradient(90deg,#d65f5f 1.1%, transparent 1.1%);\n        }#T_496e2_row26_col0{\n            width:  10em;\n             height:  80%;\n            background:  linear-gradient(90deg,#d65f5f 0.9%, transparent 0.9%);\n        }#T_496e2_row27_col0{\n            width:  10em;\n             height:  80%;\n            background:  linear-gradient(90deg,#d65f5f 0.8%, transparent 0.8%);\n        }#T_496e2_row28_col0,#T_496e2_row29_col0,#T_496e2_row30_col0{\n            width:  10em;\n             height:  80%;\n            background:  linear-gradient(90deg,#d65f5f 0.4%, transparent 0.4%);\n        }#T_496e2_row31_col0,#T_496e2_row32_col0{\n            width:  10em;\n             height:  80%;\n            background:  linear-gradient(90deg,#d65f5f 0.3%, transparent 0.3%);\n        }#T_496e2_row33_col0{\n            width:  10em;\n             height:  80%;\n            background:  linear-gradient(90deg,#d65f5f 0.1%, transparent 0.1%);\n        }#T_496e2_row34_col0,#T_496e2_row35_col0,#T_496e2_row36_col0,#T_496e2_row37_col0{\n            width:  10em;\n             height:  80%;\n            background:  linear-gradient(90deg,#d65f5f 0.0%, transparent 0.0%);\n        }#T_496e2_row38_col0{\n            width:  10em;\n             height:  80%;\n        }</style><table id=\"T_496e2_\" ><thead>    <tr>        <th class=\"blank level0\" ></th>        <th class=\"col_heading level0 col0\" >lot_topcategory</th>    </tr></thead><tbody>\n                <tr>\n                        <th id=\"T_496e2_level0_row0\" class=\"row_heading level0 row0\" >Computers en Software</th>\n                        <td id=\"T_496e2_row0_col0\" class=\"data row0 col0\" >12517</td>\n            </tr>\n            <tr>\n                        <th id=\"T_496e2_level0_row1\" class=\"row_heading level0 row1\" >Woninginrichting</th>\n                        <td id=\"T_496e2_row1_col0\" class=\"data row1 col0\" >9331</td>\n            </tr>\n            <tr>\n                        <th id=\"T_496e2_level0_row2\" class=\"row_heading level0 row2\" >Herenkleding en -schoenen</th>\n                        <td id=\"T_496e2_row2_col0\" class=\"data row2 col0\" >9227</td>\n            </tr>\n            <tr>\n                        <th id=\"T_496e2_level0_row3\" class=\"row_heading level0 row3\" >Slapen</th>\n                        <td id=\"T_496e2_row3_col0\" class=\"data row3 col0\" >7099</td>\n            </tr>\n            <tr>\n                        <th id=\"T_496e2_level0_row4\" class=\"row_heading level0 row4\" >Sanitair</th>\n                        <td id=\"T_496e2_row4_col0\" class=\"data row4 col0\" >4450</td>\n            </tr>\n            <tr>\n                        <th id=\"T_496e2_level0_row5\" class=\"row_heading level0 row5\" >Horloges</th>\n                        <td id=\"T_496e2_row5_col0\" class=\"data row5 col0\" >3131</td>\n            </tr>\n            <tr>\n                        <th id=\"T_496e2_level0_row6\" class=\"row_heading level0 row6\" >Auto-onderdelen en accessoires</th>\n                        <td id=\"T_496e2_row6_col0\" class=\"data row6 col0\" >2935</td>\n            </tr>\n            <tr>\n                        <th id=\"T_496e2_level0_row7\" class=\"row_heading level0 row7\" >Sieraden</th>\n                        <td id=\"T_496e2_row7_col0\" class=\"data row7 col0\" >2456</td>\n            </tr>\n            <tr>\n                        <th id=\"T_496e2_level0_row8\" class=\"row_heading level0 row8\" >Dameskleding en -schoenen</th>\n                        <td id=\"T_496e2_row8_col0\" class=\"data row8 col0\" >2433</td>\n            </tr>\n            <tr>\n                        <th id=\"T_496e2_level0_row9\" class=\"row_heading level0 row9\" >Verlichting</th>\n                        <td id=\"T_496e2_row9_col0\" class=\"data row9 col0\" >2054</td>\n            </tr>\n            <tr>\n                        <th id=\"T_496e2_level0_row10\" class=\"row_heading level0 row10\" >Tuin en terras</th>\n                        <td id=\"T_496e2_row10_col0\" class=\"data row10 col0\" >1798</td>\n            </tr>\n            <tr>\n                        <th id=\"T_496e2_level0_row11\" class=\"row_heading level0 row11\" >Accu-/ elektrisch gereedschap</th>\n                        <td id=\"T_496e2_row11_col0\" class=\"data row11 col0\" >1714</td>\n            </tr>\n            <tr>\n                        <th id=\"T_496e2_level0_row12\" class=\"row_heading level0 row12\" >Kantoorinrichting</th>\n                        <td id=\"T_496e2_row12_col0\" class=\"data row12 col0\" >1570</td>\n            </tr>\n            <tr>\n                        <th id=\"T_496e2_level0_row13\" class=\"row_heading level0 row13\" >Unisex</th>\n                        <td id=\"T_496e2_row13_col0\" class=\"data row13 col0\" >1202</td>\n            </tr>\n            <tr>\n                        <th id=\"T_496e2_level0_row14\" class=\"row_heading level0 row14\" >Communicatie en telefonie</th>\n                        <td id=\"T_496e2_row14_col0\" class=\"data row14 col0\" >956</td>\n            </tr>\n            <tr>\n                        <th id=\"T_496e2_level0_row15\" class=\"row_heading level0 row15\" >Handgereedschap</th>\n                        <td id=\"T_496e2_row15_col0\" class=\"data row15 col0\" >663</td>\n            </tr>\n            <tr>\n                        <th id=\"T_496e2_level0_row16\" class=\"row_heading level0 row16\" >Winkelinrichting</th>\n                        <td id=\"T_496e2_row16_col0\" class=\"data row16 col0\" >625</td>\n            </tr>\n            <tr>\n                        <th id=\"T_496e2_level0_row17\" class=\"row_heading level0 row17\" >Huishoudelijk</th>\n                        <td id=\"T_496e2_row17_col0\" class=\"data row17 col0\" >614</td>\n            </tr>\n            <tr>\n                        <th id=\"T_496e2_level0_row18\" class=\"row_heading level0 row18\" >Bouwplaatsinrichting</th>\n                        <td id=\"T_496e2_row18_col0\" class=\"data row18 col0\" >559</td>\n            </tr>\n            <tr>\n                        <th id=\"T_496e2_level0_row19\" class=\"row_heading level0 row19\" >Horeca-inventaris</th>\n                        <td id=\"T_496e2_row19_col0\" class=\"data row19 col0\" >514</td>\n            </tr>\n            <tr>\n                        <th id=\"T_496e2_level0_row20\" class=\"row_heading level0 row20\" >Werkkleding & Veiligheid</th>\n                        <td id=\"T_496e2_row20_col0\" class=\"data row20 col0\" >469</td>\n            </tr>\n            <tr>\n                        <th id=\"T_496e2_level0_row21\" class=\"row_heading level0 row21\" >Fitness</th>\n                        <td id=\"T_496e2_row21_col0\" class=\"data row21 col0\" >408</td>\n            </tr>\n            <tr>\n                        <th id=\"T_496e2_level0_row22\" class=\"row_heading level0 row22\" >Televisie en audio</th>\n                        <td id=\"T_496e2_row22_col0\" class=\"data row22 col0\" >389</td>\n            </tr>\n            <tr>\n                        <th id=\"T_496e2_level0_row23\" class=\"row_heading level0 row23\" >Muziek</th>\n                        <td id=\"T_496e2_row23_col0\" class=\"data row23 col0\" >334</td>\n            </tr>\n            <tr>\n                        <th id=\"T_496e2_level0_row24\" class=\"row_heading level0 row24\" >Partijen</th>\n                        <td id=\"T_496e2_row24_col0\" class=\"data row24 col0\" >151</td>\n            </tr>\n            <tr>\n                        <th id=\"T_496e2_level0_row25\" class=\"row_heading level0 row25\" >Garage-equipement</th>\n                        <td id=\"T_496e2_row25_col0\" class=\"data row25 col0\" >142</td>\n            </tr>\n            <tr>\n                        <th id=\"T_496e2_level0_row26\" class=\"row_heading level0 row26\" >Motorkleding</th>\n                        <td id=\"T_496e2_row26_col0\" class=\"data row26 col0\" >115</td>\n            </tr>\n            <tr>\n                        <th id=\"T_496e2_level0_row27\" class=\"row_heading level0 row27\" >Wintersport</th>\n                        <td id=\"T_496e2_row27_col0\" class=\"data row27 col0\" >103</td>\n            </tr>\n            <tr>\n                        <th id=\"T_496e2_level0_row28\" class=\"row_heading level0 row28\" >Seizoensartikelen</th>\n                        <td id=\"T_496e2_row28_col0\" class=\"data row28 col0\" >57</td>\n            </tr>\n            <tr>\n                        <th id=\"T_496e2_level0_row29\" class=\"row_heading level0 row29\" >Design</th>\n                        <td id=\"T_496e2_row29_col0\" class=\"data row29 col0\" >48</td>\n            </tr>\n            <tr>\n                        <th id=\"T_496e2_level0_row30\" class=\"row_heading level0 row30\" >Pneumatisch gereedschap</th>\n                        <td id=\"T_496e2_row30_col0\" class=\"data row30 col0\" >47</td>\n            </tr>\n            <tr>\n                        <th id=\"T_496e2_level0_row31\" class=\"row_heading level0 row31\" >Antiek</th>\n                        <td id=\"T_496e2_row31_col0\" class=\"data row31 col0\" >38</td>\n            </tr>\n            <tr>\n                        <th id=\"T_496e2_level0_row32\" class=\"row_heading level0 row32\" >Meubelen</th>\n                        <td id=\"T_496e2_row32_col0\" class=\"data row32 col0\" >37</td>\n            </tr>\n            <tr>\n                        <th id=\"T_496e2_level0_row33\" class=\"row_heading level0 row33\" >Car tuning en autostyling</th>\n                        <td id=\"T_496e2_row33_col0\" class=\"data row33 col0\" >11</td>\n            </tr>\n            <tr>\n                        <th id=\"T_496e2_level0_row34\" class=\"row_heading level0 row34\" >Bootonderdelen</th>\n                        <td id=\"T_496e2_row34_col0\" class=\"data row34 col0\" >6</td>\n            </tr>\n            <tr>\n                        <th id=\"T_496e2_level0_row35\" class=\"row_heading level0 row35\" >Goud</th>\n                        <td id=\"T_496e2_row35_col0\" class=\"data row35 col0\" >5</td>\n            </tr>\n            <tr>\n                        <th id=\"T_496e2_level0_row36\" class=\"row_heading level0 row36\" >Professioneel ICT</th>\n                        <td id=\"T_496e2_row36_col0\" class=\"data row36 col0\" >3</td>\n            </tr>\n            <tr>\n                        <th id=\"T_496e2_level0_row37\" class=\"row_heading level0 row37\" >Keukeninrichting</th>\n                        <td id=\"T_496e2_row37_col0\" class=\"data row37 col0\" >3</td>\n            </tr>\n            <tr>\n                        <th id=\"T_496e2_level0_row38\" class=\"row_heading level0 row38\" >Golfsport</th>\n                        <td id=\"T_496e2_row38_col0\" class=\"data row38 col0\" >1</td>\n            </tr>\n    </tbody></table>"
     },
     "execution_count": 17,
     "metadata": {},
     "output_type": "execute_result"
    }
   ],
   "source": [
    "lot_related[\"lot_topcategory\"].value_counts().to_frame().style.bar()"
   ]
  },
  {
   "cell_type": "code",
   "execution_count": 18,
   "metadata": {},
   "outputs": [],
   "source": [
    "# Threshold is used for categorizing lots as \"Other\"\n",
    "# (if number of lots in a category is less than threshold that lot is added to the \"Other\" category)\n",
    "\n",
    "threshold = 1000\n",
    "lot_related.loc[lot_related['lot_topcategory'].isin((lot_related['lot_topcategory'].value_counts()[lot_related['lot_topcategory'].value_counts() < threshold]).index), 'lot_topcategory'] = 'Other'"
   ]
  },
  {
   "cell_type": "code",
   "execution_count": 19,
   "metadata": {},
   "outputs": [
    {
     "data": {
      "text/plain": "<pandas.io.formats.style.Styler at 0x2428bb11288>",
      "text/html": "<style  type=\"text/css\" >\n#T_1d35c_row0_col0{\n            width:  10em;\n             height:  80%;\n            background:  linear-gradient(90deg,#d65f5f 100.0%, transparent 100.0%);\n        }#T_1d35c_row1_col0{\n            width:  10em;\n             height:  80%;\n            background:  linear-gradient(90deg,#d65f5f 71.8%, transparent 71.8%);\n        }#T_1d35c_row2_col0{\n            width:  10em;\n             height:  80%;\n            background:  linear-gradient(90deg,#d65f5f 70.9%, transparent 70.9%);\n        }#T_1d35c_row3_col0{\n            width:  10em;\n             height:  80%;\n            background:  linear-gradient(90deg,#d65f5f 52.1%, transparent 52.1%);\n        }#T_1d35c_row4_col0{\n            width:  10em;\n             height:  80%;\n            background:  linear-gradient(90deg,#d65f5f 45.0%, transparent 45.0%);\n        }#T_1d35c_row5_col0{\n            width:  10em;\n             height:  80%;\n            background:  linear-gradient(90deg,#d65f5f 28.7%, transparent 28.7%);\n        }#T_1d35c_row6_col0{\n            width:  10em;\n             height:  80%;\n            background:  linear-gradient(90deg,#d65f5f 17.0%, transparent 17.0%);\n        }#T_1d35c_row7_col0{\n            width:  10em;\n             height:  80%;\n            background:  linear-gradient(90deg,#d65f5f 15.3%, transparent 15.3%);\n        }#T_1d35c_row8_col0{\n            width:  10em;\n             height:  80%;\n            background:  linear-gradient(90deg,#d65f5f 11.1%, transparent 11.1%);\n        }#T_1d35c_row9_col0{\n            width:  10em;\n             height:  80%;\n            background:  linear-gradient(90deg,#d65f5f 10.9%, transparent 10.9%);\n        }#T_1d35c_row10_col0{\n            width:  10em;\n             height:  80%;\n            background:  linear-gradient(90deg,#d65f5f 7.5%, transparent 7.5%);\n        }#T_1d35c_row11_col0{\n            width:  10em;\n             height:  80%;\n            background:  linear-gradient(90deg,#d65f5f 5.3%, transparent 5.3%);\n        }#T_1d35c_row12_col0{\n            width:  10em;\n             height:  80%;\n            background:  linear-gradient(90deg,#d65f5f 4.5%, transparent 4.5%);\n        }#T_1d35c_row13_col0{\n            width:  10em;\n             height:  80%;\n            background:  linear-gradient(90deg,#d65f5f 3.3%, transparent 3.3%);\n        }#T_1d35c_row14_col0{\n            width:  10em;\n             height:  80%;\n        }</style><table id=\"T_1d35c_\" ><thead>    <tr>        <th class=\"blank level0\" ></th>        <th class=\"col_heading level0 col0\" >lot_topcategory</th>    </tr></thead><tbody>\n                <tr>\n                        <th id=\"T_1d35c_level0_row0\" class=\"row_heading level0 row0\" >Computers en Software</th>\n                        <td id=\"T_1d35c_row0_col0\" class=\"data row0 col0\" >12517</td>\n            </tr>\n            <tr>\n                        <th id=\"T_1d35c_level0_row1\" class=\"row_heading level0 row1\" >Woninginrichting</th>\n                        <td id=\"T_1d35c_row1_col0\" class=\"data row1 col0\" >9331</td>\n            </tr>\n            <tr>\n                        <th id=\"T_1d35c_level0_row2\" class=\"row_heading level0 row2\" >Herenkleding en -schoenen</th>\n                        <td id=\"T_1d35c_row2_col0\" class=\"data row2 col0\" >9227</td>\n            </tr>\n            <tr>\n                        <th id=\"T_1d35c_level0_row3\" class=\"row_heading level0 row3\" >Slapen</th>\n                        <td id=\"T_1d35c_row3_col0\" class=\"data row3 col0\" >7099</td>\n            </tr>\n            <tr>\n                        <th id=\"T_1d35c_level0_row4\" class=\"row_heading level0 row4\" >Other</th>\n                        <td id=\"T_1d35c_row4_col0\" class=\"data row4 col0\" >6298</td>\n            </tr>\n            <tr>\n                        <th id=\"T_1d35c_level0_row5\" class=\"row_heading level0 row5\" >Sanitair</th>\n                        <td id=\"T_1d35c_row5_col0\" class=\"data row5 col0\" >4450</td>\n            </tr>\n            <tr>\n                        <th id=\"T_1d35c_level0_row6\" class=\"row_heading level0 row6\" >Horloges</th>\n                        <td id=\"T_1d35c_row6_col0\" class=\"data row6 col0\" >3131</td>\n            </tr>\n            <tr>\n                        <th id=\"T_1d35c_level0_row7\" class=\"row_heading level0 row7\" >Auto-onderdelen en accessoires</th>\n                        <td id=\"T_1d35c_row7_col0\" class=\"data row7 col0\" >2935</td>\n            </tr>\n            <tr>\n                        <th id=\"T_1d35c_level0_row8\" class=\"row_heading level0 row8\" >Sieraden</th>\n                        <td id=\"T_1d35c_row8_col0\" class=\"data row8 col0\" >2456</td>\n            </tr>\n            <tr>\n                        <th id=\"T_1d35c_level0_row9\" class=\"row_heading level0 row9\" >Dameskleding en -schoenen</th>\n                        <td id=\"T_1d35c_row9_col0\" class=\"data row9 col0\" >2433</td>\n            </tr>\n            <tr>\n                        <th id=\"T_1d35c_level0_row10\" class=\"row_heading level0 row10\" >Verlichting</th>\n                        <td id=\"T_1d35c_row10_col0\" class=\"data row10 col0\" >2054</td>\n            </tr>\n            <tr>\n                        <th id=\"T_1d35c_level0_row11\" class=\"row_heading level0 row11\" >Tuin en terras</th>\n                        <td id=\"T_1d35c_row11_col0\" class=\"data row11 col0\" >1798</td>\n            </tr>\n            <tr>\n                        <th id=\"T_1d35c_level0_row12\" class=\"row_heading level0 row12\" >Accu-/ elektrisch gereedschap</th>\n                        <td id=\"T_1d35c_row12_col0\" class=\"data row12 col0\" >1714</td>\n            </tr>\n            <tr>\n                        <th id=\"T_1d35c_level0_row13\" class=\"row_heading level0 row13\" >Kantoorinrichting</th>\n                        <td id=\"T_1d35c_row13_col0\" class=\"data row13 col0\" >1570</td>\n            </tr>\n            <tr>\n                        <th id=\"T_1d35c_level0_row14\" class=\"row_heading level0 row14\" >Unisex</th>\n                        <td id=\"T_1d35c_row14_col0\" class=\"data row14 col0\" >1202</td>\n            </tr>\n    </tbody></table>"
     },
     "execution_count": 19,
     "metadata": {},
     "output_type": "execute_result"
    }
   ],
   "source": [
    "lot_related[\"lot_topcategory\"].value_counts().to_frame().style.bar()"
   ]
  },
  {
   "cell_type": "markdown",
   "metadata": {},
   "source": [
    "\n",
    "\n",
    "# get scarcity_tp: same auction same topcategory\n",
    "scarcity_df = pd.DataFrame(columns = ['lot_id','scarcity_top'])#,'scarcity_sub'\n",
    "auction_ids = dimLot['auction_id'].unique().tolist()\n",
    "\n",
    "for i in auction_ids:\n",
    "    temp_df1 = dimLot[dimLot['auction_id']==i]\n",
    "    top_cats = temp_df1['lot_topcategory'].unique().tolist()\n",
    "    for j in top_cats:\n",
    "        temp_df2 = temp_df1[temp_df1['lot_topcategory']==j]\n",
    "        abundance = len(temp_df2)\n",
    "        temp_df3 = temp_df2[['lot_id']]\n",
    "        temp_df3['scarcity_top']=1/abundance\n",
    "        scarcity_df = scarcity_df.append(temp_df3, ignore_index=True)\n",
    "\n",
    "# get scarcity_sub: same auction same subcategory\n",
    "scarcity_df2 = pd.DataFrame(columns = ['lot_id','scarcity_sub'])#,'scarcity_sub'\n",
    "auction_ids = dimLot['auction_id'].unique().tolist()\n",
    "\n",
    "for i in auction_ids:\n",
    "    temp_df1 = dimLot[dimLot['auction_id']==i]\n",
    "    top_cats = temp_df1['lot_subcategory'].unique().tolist()\n",
    "    for j in top_cats:\n",
    "        temp_df2 = temp_df1[temp_df1['lot_subcategory']==j]\n",
    "        abundance = len(temp_df2)\n",
    "        temp_df3 = temp_df2[['lot_id']]\n",
    "        temp_df3['scarcity_sub']=1/abundance\n",
    "        scarcity_df2 = scarcity_df2.append(temp_df3, ignore_index=True)"
   ]
  },
  {
   "cell_type": "code",
   "execution_count": 24,
   "outputs": [],
   "source": [
    "# merge datasets\n",
    "data1 = pd.merge(lot_related, scarcity_df, on=\"lot_id\")\n",
    "data2 = pd.merge(data1, scarcity_df2, on=\"lot_id\")\n",
    "\n",
    "data = data2"
   ],
   "metadata": {
    "collapsed": false,
    "pycharm": {
     "name": "#%%\n"
    }
   }
  },
  {
   "cell_type": "code",
   "execution_count": null,
   "outputs": [],
   "source": [],
   "metadata": {
    "collapsed": false,
    "pycharm": {
     "name": "#%%\n"
    }
   }
  },
  {
   "cell_type": "code",
   "execution_count": 36,
   "outputs": [],
   "source": [
    "auctionBehavior = auction_related\n",
    "lotBehavior = data\n",
    "biddingBehavior = factBids"
   ],
   "metadata": {
    "collapsed": false,
    "pycharm": {
     "name": "#%%\n"
    }
   }
  },
  {
   "cell_type": "code",
   "execution_count": 37,
   "outputs": [],
   "source": [
    "\n",
    "# Exporting the csv file\n",
    "auctionBehavior.to_csv(r'Descriptive/auctionBehavior.csv', index=False)\n",
    "lotBehavior.to_csv(r'Descriptive/lotBehavior.csv', index=False)\n",
    "biddingBehavior.to_csv(r'Descriptive/factBehavior.csv', index=False)"
   ],
   "metadata": {
    "collapsed": false,
    "pycharm": {
     "name": "#%%\n"
    }
   }
  },
  {
   "cell_type": "code",
   "execution_count": null,
   "outputs": [],
   "source": [],
   "metadata": {
    "collapsed": false,
    "pycharm": {
     "name": "#%%\n"
    }
   }
  }
 ],
 "metadata": {
  "kernelspec": {
   "display_name": "Python 3",
   "language": "python",
   "name": "python3"
  },
  "language_info": {
   "codemirror_mode": {
    "name": "ipython",
    "version": 3
   },
   "file_extension": ".py",
   "mimetype": "text/x-python",
   "name": "python",
   "nbconvert_exporter": "python",
   "pygments_lexer": "ipython3",
   "version": "3.8.5"
  }
 },
 "nbformat": 4,
 "nbformat_minor": 4
}